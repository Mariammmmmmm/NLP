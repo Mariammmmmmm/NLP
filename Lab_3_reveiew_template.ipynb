{
  "cells": [
    {
      "cell_type": "markdown",
      "metadata": {
        "id": "view-in-github",
        "colab_type": "text"
      },
      "source": [
        "<a href=\"https://colab.research.google.com/github/Mariammmmmmm/NLP/blob/main/Lab_3_reveiew_template.ipynb\" target=\"_parent\"><img src=\"https://colab.research.google.com/assets/colab-badge.svg\" alt=\"Open In Colab\"/></a>"
      ]
    },
    {
      "cell_type": "markdown",
      "metadata": {
        "id": "lYXbkoL5UXIF"
      },
      "source": [
        "# LDA example"
      ]
    },
    {
      "cell_type": "code",
      "execution_count": null,
      "metadata": {
        "id": "ygUhZL47UXIM",
        "tags": []
      },
      "outputs": [],
      "source": [
        "import re\n",
        "import numpy as np\n",
        "import pandas as pd\n",
        "from pprint import pprint"
      ]
    },
    {
      "cell_type": "code",
      "execution_count": null,
      "metadata": {
        "id": "vwwi3fyFUXIN"
      },
      "outputs": [],
      "source": [
        "# Gensim \n",
        "import gensim\n",
        "import gensim.corpora as corpora\n",
        "from gensim.utils import simple_preprocess\n",
        "from gensim.models import CoherenceModel"
      ]
    },
    {
      "cell_type": "code",
      "execution_count": null,
      "metadata": {
        "id": "dza-h37E49ym"
      },
      "outputs": [],
      "source": [
        "import warnings\n",
        "warnings.filterwarnings(\"ignore\", category=DeprecationWarning)"
      ]
    },
    {
      "cell_type": "code",
      "execution_count": null,
      "metadata": {
        "id": "7JfIXOY9UXIK",
        "colab": {
          "base_uri": "https://localhost:8080/",
          "height": 337
        },
        "outputId": "8cfbd413-e7aa-4467-d941-c5020d067022"
      },
      "outputs": [
        {
          "output_type": "execute_result",
          "data": {
            "text/plain": [
              "                  bank_href login  \\\n",
              "0  /kredit-evropa-bank.html   NaN   \n",
              "1  /kredit-evropa-bank.html   NaN   \n",
              "2  /kredit-evropa-bank.html   NaN   \n",
              "3  /kredit-evropa-bank.html   NaN   \n",
              "4  /kredit-evropa-bank.html   NaN   \n",
              "\n",
              "                                              review           bank_name  \\\n",
              "0  Брал кредит в данной организации, после погаше...  кредит европа банк   \n",
              "1  В 2011 году,мною была оформлена мега карта в Т...  кредит европа банк   \n",
              "2  С родителями увидели рекламу вклада Осеннее пр...  кредит европа банк   \n",
              "3  Связать три года своей жизни с этим непорядочн...  кредит европа банк   \n",
              "4  Пользуюсь месяц карточкой Card Plus, сегодня п...  кредит европа банк   \n",
              "\n",
              "                    site date message_href score status user_href  \n",
              "0  http://bankireview.ru  NaN          NaN   NaN    NaN       NaN  \n",
              "1  http://bankireview.ru  NaN          NaN   NaN    NaN       NaN  \n",
              "2  http://bankireview.ru  NaN          NaN   NaN    NaN       NaN  \n",
              "3  http://bankireview.ru  NaN          NaN   NaN    NaN       NaN  \n",
              "4  http://bankireview.ru  NaN          NaN   NaN    NaN       NaN  "
            ],
            "text/html": [
              "\n",
              "  <div id=\"df-8e3edddf-e59a-4af3-b2ff-a94ee44c3e3d\">\n",
              "    <div class=\"colab-df-container\">\n",
              "      <div>\n",
              "<style scoped>\n",
              "    .dataframe tbody tr th:only-of-type {\n",
              "        vertical-align: middle;\n",
              "    }\n",
              "\n",
              "    .dataframe tbody tr th {\n",
              "        vertical-align: top;\n",
              "    }\n",
              "\n",
              "    .dataframe thead th {\n",
              "        text-align: right;\n",
              "    }\n",
              "</style>\n",
              "<table border=\"1\" class=\"dataframe\">\n",
              "  <thead>\n",
              "    <tr style=\"text-align: right;\">\n",
              "      <th></th>\n",
              "      <th>bank_href</th>\n",
              "      <th>login</th>\n",
              "      <th>review</th>\n",
              "      <th>bank_name</th>\n",
              "      <th>site</th>\n",
              "      <th>date</th>\n",
              "      <th>message_href</th>\n",
              "      <th>score</th>\n",
              "      <th>status</th>\n",
              "      <th>user_href</th>\n",
              "    </tr>\n",
              "  </thead>\n",
              "  <tbody>\n",
              "    <tr>\n",
              "      <th>0</th>\n",
              "      <td>/kredit-evropa-bank.html</td>\n",
              "      <td>NaN</td>\n",
              "      <td>Брал кредит в данной организации, после погаше...</td>\n",
              "      <td>кредит европа банк</td>\n",
              "      <td>http://bankireview.ru</td>\n",
              "      <td>NaN</td>\n",
              "      <td>NaN</td>\n",
              "      <td>NaN</td>\n",
              "      <td>NaN</td>\n",
              "      <td>NaN</td>\n",
              "    </tr>\n",
              "    <tr>\n",
              "      <th>1</th>\n",
              "      <td>/kredit-evropa-bank.html</td>\n",
              "      <td>NaN</td>\n",
              "      <td>В 2011 году,мною была оформлена мега карта в Т...</td>\n",
              "      <td>кредит европа банк</td>\n",
              "      <td>http://bankireview.ru</td>\n",
              "      <td>NaN</td>\n",
              "      <td>NaN</td>\n",
              "      <td>NaN</td>\n",
              "      <td>NaN</td>\n",
              "      <td>NaN</td>\n",
              "    </tr>\n",
              "    <tr>\n",
              "      <th>2</th>\n",
              "      <td>/kredit-evropa-bank.html</td>\n",
              "      <td>NaN</td>\n",
              "      <td>С родителями увидели рекламу вклада Осеннее пр...</td>\n",
              "      <td>кредит европа банк</td>\n",
              "      <td>http://bankireview.ru</td>\n",
              "      <td>NaN</td>\n",
              "      <td>NaN</td>\n",
              "      <td>NaN</td>\n",
              "      <td>NaN</td>\n",
              "      <td>NaN</td>\n",
              "    </tr>\n",
              "    <tr>\n",
              "      <th>3</th>\n",
              "      <td>/kredit-evropa-bank.html</td>\n",
              "      <td>NaN</td>\n",
              "      <td>Связать три года своей жизни с этим непорядочн...</td>\n",
              "      <td>кредит европа банк</td>\n",
              "      <td>http://bankireview.ru</td>\n",
              "      <td>NaN</td>\n",
              "      <td>NaN</td>\n",
              "      <td>NaN</td>\n",
              "      <td>NaN</td>\n",
              "      <td>NaN</td>\n",
              "    </tr>\n",
              "    <tr>\n",
              "      <th>4</th>\n",
              "      <td>/kredit-evropa-bank.html</td>\n",
              "      <td>NaN</td>\n",
              "      <td>Пользуюсь месяц карточкой Card Plus, сегодня п...</td>\n",
              "      <td>кредит европа банк</td>\n",
              "      <td>http://bankireview.ru</td>\n",
              "      <td>NaN</td>\n",
              "      <td>NaN</td>\n",
              "      <td>NaN</td>\n",
              "      <td>NaN</td>\n",
              "      <td>NaN</td>\n",
              "    </tr>\n",
              "  </tbody>\n",
              "</table>\n",
              "</div>\n",
              "      <button class=\"colab-df-convert\" onclick=\"convertToInteractive('df-8e3edddf-e59a-4af3-b2ff-a94ee44c3e3d')\"\n",
              "              title=\"Convert this dataframe to an interactive table.\"\n",
              "              style=\"display:none;\">\n",
              "        \n",
              "  <svg xmlns=\"http://www.w3.org/2000/svg\" height=\"24px\"viewBox=\"0 0 24 24\"\n",
              "       width=\"24px\">\n",
              "    <path d=\"M0 0h24v24H0V0z\" fill=\"none\"/>\n",
              "    <path d=\"M18.56 5.44l.94 2.06.94-2.06 2.06-.94-2.06-.94-.94-2.06-.94 2.06-2.06.94zm-11 1L8.5 8.5l.94-2.06 2.06-.94-2.06-.94L8.5 2.5l-.94 2.06-2.06.94zm10 10l.94 2.06.94-2.06 2.06-.94-2.06-.94-.94-2.06-.94 2.06-2.06.94z\"/><path d=\"M17.41 7.96l-1.37-1.37c-.4-.4-.92-.59-1.43-.59-.52 0-1.04.2-1.43.59L10.3 9.45l-7.72 7.72c-.78.78-.78 2.05 0 2.83L4 21.41c.39.39.9.59 1.41.59.51 0 1.02-.2 1.41-.59l7.78-7.78 2.81-2.81c.8-.78.8-2.07 0-2.86zM5.41 20L4 18.59l7.72-7.72 1.47 1.35L5.41 20z\"/>\n",
              "  </svg>\n",
              "      </button>\n",
              "      \n",
              "  <style>\n",
              "    .colab-df-container {\n",
              "      display:flex;\n",
              "      flex-wrap:wrap;\n",
              "      gap: 12px;\n",
              "    }\n",
              "\n",
              "    .colab-df-convert {\n",
              "      background-color: #E8F0FE;\n",
              "      border: none;\n",
              "      border-radius: 50%;\n",
              "      cursor: pointer;\n",
              "      display: none;\n",
              "      fill: #1967D2;\n",
              "      height: 32px;\n",
              "      padding: 0 0 0 0;\n",
              "      width: 32px;\n",
              "    }\n",
              "\n",
              "    .colab-df-convert:hover {\n",
              "      background-color: #E2EBFA;\n",
              "      box-shadow: 0px 1px 2px rgba(60, 64, 67, 0.3), 0px 1px 3px 1px rgba(60, 64, 67, 0.15);\n",
              "      fill: #174EA6;\n",
              "    }\n",
              "\n",
              "    [theme=dark] .colab-df-convert {\n",
              "      background-color: #3B4455;\n",
              "      fill: #D2E3FC;\n",
              "    }\n",
              "\n",
              "    [theme=dark] .colab-df-convert:hover {\n",
              "      background-color: #434B5C;\n",
              "      box-shadow: 0px 1px 3px 1px rgba(0, 0, 0, 0.15);\n",
              "      filter: drop-shadow(0px 1px 2px rgba(0, 0, 0, 0.3));\n",
              "      fill: #FFFFFF;\n",
              "    }\n",
              "  </style>\n",
              "\n",
              "      <script>\n",
              "        const buttonEl =\n",
              "          document.querySelector('#df-8e3edddf-e59a-4af3-b2ff-a94ee44c3e3d button.colab-df-convert');\n",
              "        buttonEl.style.display =\n",
              "          google.colab.kernel.accessAllowed ? 'block' : 'none';\n",
              "\n",
              "        async function convertToInteractive(key) {\n",
              "          const element = document.querySelector('#df-8e3edddf-e59a-4af3-b2ff-a94ee44c3e3d');\n",
              "          const dataTable =\n",
              "            await google.colab.kernel.invokeFunction('convertToInteractive',\n",
              "                                                     [key], {});\n",
              "          if (!dataTable) return;\n",
              "\n",
              "          const docLinkHtml = 'Like what you see? Visit the ' +\n",
              "            '<a target=\"_blank\" href=https://colab.research.google.com/notebooks/data_table.ipynb>data table notebook</a>'\n",
              "            + ' to learn more about interactive tables.';\n",
              "          element.innerHTML = '';\n",
              "          dataTable['output_type'] = 'display_data';\n",
              "          await google.colab.output.renderOutput(dataTable, element);\n",
              "          const docLink = document.createElement('div');\n",
              "          docLink.innerHTML = docLinkHtml;\n",
              "          element.appendChild(docLink);\n",
              "        }\n",
              "      </script>\n",
              "    </div>\n",
              "  </div>\n",
              "  "
            ]
          },
          "metadata": {},
          "execution_count": 4
        }
      ],
      "source": [
        "df = pd.read_csv('financial_review.csv')\n",
        "df.head()"
      ]
    },
    {
      "cell_type": "code",
      "execution_count": null,
      "metadata": {
        "id": "sjAySJ9149yn"
      },
      "outputs": [],
      "source": [
        ""
      ]
    },
    {
      "cell_type": "code",
      "execution_count": null,
      "metadata": {
        "colab": {
          "base_uri": "https://localhost:8080/"
        },
        "id": "A0F1tUzD49yo",
        "outputId": "f255fd42-44f0-44f0-e3a9-c7e342575891"
      },
      "outputs": [
        {
          "output_type": "execute_result",
          "data": {
            "text/plain": [
              "втб                          2603\n",
              "сбербанк                     2481\n",
              "тинькофф банк                1476\n",
              "почта банк                   1264\n",
              "альфа-банк                   1260\n",
              "открытие                      868\n",
              "совкомбанк                    844\n",
              "отп банк                      698\n",
              "московский кредитный банк     673\n",
              "хоум кредит банк              575\n",
              "Name: bank_name, dtype: int64"
            ]
          },
          "metadata": {},
          "execution_count": 5
        }
      ],
      "source": [
        "df['bank_name'].value_counts()[:10]"
      ]
    },
    {
      "cell_type": "code",
      "execution_count": null,
      "metadata": {
        "id": "Rz-aiDhHIKnE",
        "colab": {
          "base_uri": "https://localhost:8080/",
          "height": 728
        },
        "outputId": "e2856ab8-8573-4b6e-ec83-8c137f00e9eb"
      },
      "outputs": [
        {
          "output_type": "execute_result",
          "data": {
            "text/plain": [
              "                   bank_href               login  \\\n",
              "0      /sberbank-rossii.html                 NaN   \n",
              "1      /sberbank-rossii.html                 NaN   \n",
              "2      /sberbank-rossii.html                 NaN   \n",
              "3      /sberbank-rossii.html                 NaN   \n",
              "4      /sberbank-rossii.html                 NaN   \n",
              "...                      ...                 ...   \n",
              "2476  /bank/sberbank-rossii/             елена,    \n",
              "2477  /bank/sberbank-rossii/  Светлана Бачкова,    \n",
              "2478  /bank/sberbank-rossii/            Оксана,    \n",
              "2479  /bank/sberbank-rossii/             ольга,    \n",
              "2480  /bank/sberbank-rossii/           Евгения,    \n",
              "\n",
              "                                                 review bank_name  \\\n",
              "0     3 раза я обращался по вопросу списаний за овер...  сбербанк   \n",
              "1     Очень возмущена и удивлена сложившейся ситуаци...  сбербанк   \n",
              "2     Я уже не знаю, дождемся ли мы, чтобы сбер пров...  сбербанк   \n",
              "3     Здравствуйте, у меня возникла следующая пробле...  сбербанк   \n",
              "4     Дорогой друг Сбербанк, как же мне не хочется и...  сбербанк   \n",
              "...                                                 ...       ...   \n",
              "2476  Обратились с мужем в отделение сбербанка для п...  сбербанк   \n",
              "2477  Все равно каким способом получать деньги с кли...  сбербанк   \n",
              "2478  РефинансированиеНачну по порядку,живя в браке ...  сбербанк   \n",
              "2479  Моему возмущению нет предела.Я думала,что дове...  сбербанк   \n",
              "2480  Люди! Не подключайте услугу \"Мобильный банк\"! ...  сбербанк   \n",
              "\n",
              "                       site          date  \\\n",
              "0     http://bankireview.ru           NaN   \n",
              "1     http://bankireview.ru           NaN   \n",
              "2     http://bankireview.ru           NaN   \n",
              "3     http://bankireview.ru           NaN   \n",
              "4     http://bankireview.ru           NaN   \n",
              "...                     ...           ...   \n",
              "2476  https://www.sravni.ru  20 окт, 2015   \n",
              "2477  https://www.sravni.ru  05 дек, 2016   \n",
              "2478  https://www.sravni.ru  02 окт, 2018   \n",
              "2479  https://www.sravni.ru  23 авг, 2015   \n",
              "2480  https://www.sravni.ru  23 авг, 2015   \n",
              "\n",
              "                                  message_href score status user_href  \n",
              "0                                          NaN   NaN    NaN       NaN  \n",
              "1                                          NaN   NaN    NaN       NaN  \n",
              "2                                          NaN   NaN    NaN       NaN  \n",
              "3                                          NaN   NaN    NaN       NaN  \n",
              "4                                          NaN   NaN    NaN       NaN  \n",
              "...                                        ...   ...    ...       ...  \n",
              "2476  /bank/sberbank-rossii/otzyv/178947/?page     1    NaN       NaN  \n",
              "2477  /bank/sberbank-rossii/otzyv/219105/?page     1    NaN       NaN  \n",
              "2478  /bank/sberbank-rossii/otzyv/299483/?page     5    NaN       NaN  \n",
              "2479  /bank/sberbank-rossii/otzyv/170655/?page     1    NaN       NaN  \n",
              "2480  /bank/sberbank-rossii/otzyv/170646/?page     1    NaN       NaN  \n",
              "\n",
              "[2481 rows x 10 columns]"
            ],
            "text/html": [
              "\n",
              "  <div id=\"df-bc43e432-fcae-4902-94f7-84f55345bd64\">\n",
              "    <div class=\"colab-df-container\">\n",
              "      <div>\n",
              "<style scoped>\n",
              "    .dataframe tbody tr th:only-of-type {\n",
              "        vertical-align: middle;\n",
              "    }\n",
              "\n",
              "    .dataframe tbody tr th {\n",
              "        vertical-align: top;\n",
              "    }\n",
              "\n",
              "    .dataframe thead th {\n",
              "        text-align: right;\n",
              "    }\n",
              "</style>\n",
              "<table border=\"1\" class=\"dataframe\">\n",
              "  <thead>\n",
              "    <tr style=\"text-align: right;\">\n",
              "      <th></th>\n",
              "      <th>bank_href</th>\n",
              "      <th>login</th>\n",
              "      <th>review</th>\n",
              "      <th>bank_name</th>\n",
              "      <th>site</th>\n",
              "      <th>date</th>\n",
              "      <th>message_href</th>\n",
              "      <th>score</th>\n",
              "      <th>status</th>\n",
              "      <th>user_href</th>\n",
              "    </tr>\n",
              "  </thead>\n",
              "  <tbody>\n",
              "    <tr>\n",
              "      <th>0</th>\n",
              "      <td>/sberbank-rossii.html</td>\n",
              "      <td>NaN</td>\n",
              "      <td>3 раза я обращался по вопросу списаний за овер...</td>\n",
              "      <td>сбербанк</td>\n",
              "      <td>http://bankireview.ru</td>\n",
              "      <td>NaN</td>\n",
              "      <td>NaN</td>\n",
              "      <td>NaN</td>\n",
              "      <td>NaN</td>\n",
              "      <td>NaN</td>\n",
              "    </tr>\n",
              "    <tr>\n",
              "      <th>1</th>\n",
              "      <td>/sberbank-rossii.html</td>\n",
              "      <td>NaN</td>\n",
              "      <td>Очень возмущена и удивлена сложившейся ситуаци...</td>\n",
              "      <td>сбербанк</td>\n",
              "      <td>http://bankireview.ru</td>\n",
              "      <td>NaN</td>\n",
              "      <td>NaN</td>\n",
              "      <td>NaN</td>\n",
              "      <td>NaN</td>\n",
              "      <td>NaN</td>\n",
              "    </tr>\n",
              "    <tr>\n",
              "      <th>2</th>\n",
              "      <td>/sberbank-rossii.html</td>\n",
              "      <td>NaN</td>\n",
              "      <td>Я уже не знаю, дождемся ли мы, чтобы сбер пров...</td>\n",
              "      <td>сбербанк</td>\n",
              "      <td>http://bankireview.ru</td>\n",
              "      <td>NaN</td>\n",
              "      <td>NaN</td>\n",
              "      <td>NaN</td>\n",
              "      <td>NaN</td>\n",
              "      <td>NaN</td>\n",
              "    </tr>\n",
              "    <tr>\n",
              "      <th>3</th>\n",
              "      <td>/sberbank-rossii.html</td>\n",
              "      <td>NaN</td>\n",
              "      <td>Здравствуйте, у меня возникла следующая пробле...</td>\n",
              "      <td>сбербанк</td>\n",
              "      <td>http://bankireview.ru</td>\n",
              "      <td>NaN</td>\n",
              "      <td>NaN</td>\n",
              "      <td>NaN</td>\n",
              "      <td>NaN</td>\n",
              "      <td>NaN</td>\n",
              "    </tr>\n",
              "    <tr>\n",
              "      <th>4</th>\n",
              "      <td>/sberbank-rossii.html</td>\n",
              "      <td>NaN</td>\n",
              "      <td>Дорогой друг Сбербанк, как же мне не хочется и...</td>\n",
              "      <td>сбербанк</td>\n",
              "      <td>http://bankireview.ru</td>\n",
              "      <td>NaN</td>\n",
              "      <td>NaN</td>\n",
              "      <td>NaN</td>\n",
              "      <td>NaN</td>\n",
              "      <td>NaN</td>\n",
              "    </tr>\n",
              "    <tr>\n",
              "      <th>...</th>\n",
              "      <td>...</td>\n",
              "      <td>...</td>\n",
              "      <td>...</td>\n",
              "      <td>...</td>\n",
              "      <td>...</td>\n",
              "      <td>...</td>\n",
              "      <td>...</td>\n",
              "      <td>...</td>\n",
              "      <td>...</td>\n",
              "      <td>...</td>\n",
              "    </tr>\n",
              "    <tr>\n",
              "      <th>2476</th>\n",
              "      <td>/bank/sberbank-rossii/</td>\n",
              "      <td>елена,</td>\n",
              "      <td>Обратились с мужем в отделение сбербанка для п...</td>\n",
              "      <td>сбербанк</td>\n",
              "      <td>https://www.sravni.ru</td>\n",
              "      <td>20 окт, 2015</td>\n",
              "      <td>/bank/sberbank-rossii/otzyv/178947/?page</td>\n",
              "      <td>1</td>\n",
              "      <td>NaN</td>\n",
              "      <td>NaN</td>\n",
              "    </tr>\n",
              "    <tr>\n",
              "      <th>2477</th>\n",
              "      <td>/bank/sberbank-rossii/</td>\n",
              "      <td>Светлана Бачкова,</td>\n",
              "      <td>Все равно каким способом получать деньги с кли...</td>\n",
              "      <td>сбербанк</td>\n",
              "      <td>https://www.sravni.ru</td>\n",
              "      <td>05 дек, 2016</td>\n",
              "      <td>/bank/sberbank-rossii/otzyv/219105/?page</td>\n",
              "      <td>1</td>\n",
              "      <td>NaN</td>\n",
              "      <td>NaN</td>\n",
              "    </tr>\n",
              "    <tr>\n",
              "      <th>2478</th>\n",
              "      <td>/bank/sberbank-rossii/</td>\n",
              "      <td>Оксана,</td>\n",
              "      <td>РефинансированиеНачну по порядку,живя в браке ...</td>\n",
              "      <td>сбербанк</td>\n",
              "      <td>https://www.sravni.ru</td>\n",
              "      <td>02 окт, 2018</td>\n",
              "      <td>/bank/sberbank-rossii/otzyv/299483/?page</td>\n",
              "      <td>5</td>\n",
              "      <td>NaN</td>\n",
              "      <td>NaN</td>\n",
              "    </tr>\n",
              "    <tr>\n",
              "      <th>2479</th>\n",
              "      <td>/bank/sberbank-rossii/</td>\n",
              "      <td>ольга,</td>\n",
              "      <td>Моему возмущению нет предела.Я думала,что дове...</td>\n",
              "      <td>сбербанк</td>\n",
              "      <td>https://www.sravni.ru</td>\n",
              "      <td>23 авг, 2015</td>\n",
              "      <td>/bank/sberbank-rossii/otzyv/170655/?page</td>\n",
              "      <td>1</td>\n",
              "      <td>NaN</td>\n",
              "      <td>NaN</td>\n",
              "    </tr>\n",
              "    <tr>\n",
              "      <th>2480</th>\n",
              "      <td>/bank/sberbank-rossii/</td>\n",
              "      <td>Евгения,</td>\n",
              "      <td>Люди! Не подключайте услугу \"Мобильный банк\"! ...</td>\n",
              "      <td>сбербанк</td>\n",
              "      <td>https://www.sravni.ru</td>\n",
              "      <td>23 авг, 2015</td>\n",
              "      <td>/bank/sberbank-rossii/otzyv/170646/?page</td>\n",
              "      <td>1</td>\n",
              "      <td>NaN</td>\n",
              "      <td>NaN</td>\n",
              "    </tr>\n",
              "  </tbody>\n",
              "</table>\n",
              "<p>2481 rows × 10 columns</p>\n",
              "</div>\n",
              "      <button class=\"colab-df-convert\" onclick=\"convertToInteractive('df-bc43e432-fcae-4902-94f7-84f55345bd64')\"\n",
              "              title=\"Convert this dataframe to an interactive table.\"\n",
              "              style=\"display:none;\">\n",
              "        \n",
              "  <svg xmlns=\"http://www.w3.org/2000/svg\" height=\"24px\"viewBox=\"0 0 24 24\"\n",
              "       width=\"24px\">\n",
              "    <path d=\"M0 0h24v24H0V0z\" fill=\"none\"/>\n",
              "    <path d=\"M18.56 5.44l.94 2.06.94-2.06 2.06-.94-2.06-.94-.94-2.06-.94 2.06-2.06.94zm-11 1L8.5 8.5l.94-2.06 2.06-.94-2.06-.94L8.5 2.5l-.94 2.06-2.06.94zm10 10l.94 2.06.94-2.06 2.06-.94-2.06-.94-.94-2.06-.94 2.06-2.06.94z\"/><path d=\"M17.41 7.96l-1.37-1.37c-.4-.4-.92-.59-1.43-.59-.52 0-1.04.2-1.43.59L10.3 9.45l-7.72 7.72c-.78.78-.78 2.05 0 2.83L4 21.41c.39.39.9.59 1.41.59.51 0 1.02-.2 1.41-.59l7.78-7.78 2.81-2.81c.8-.78.8-2.07 0-2.86zM5.41 20L4 18.59l7.72-7.72 1.47 1.35L5.41 20z\"/>\n",
              "  </svg>\n",
              "      </button>\n",
              "      \n",
              "  <style>\n",
              "    .colab-df-container {\n",
              "      display:flex;\n",
              "      flex-wrap:wrap;\n",
              "      gap: 12px;\n",
              "    }\n",
              "\n",
              "    .colab-df-convert {\n",
              "      background-color: #E8F0FE;\n",
              "      border: none;\n",
              "      border-radius: 50%;\n",
              "      cursor: pointer;\n",
              "      display: none;\n",
              "      fill: #1967D2;\n",
              "      height: 32px;\n",
              "      padding: 0 0 0 0;\n",
              "      width: 32px;\n",
              "    }\n",
              "\n",
              "    .colab-df-convert:hover {\n",
              "      background-color: #E2EBFA;\n",
              "      box-shadow: 0px 1px 2px rgba(60, 64, 67, 0.3), 0px 1px 3px 1px rgba(60, 64, 67, 0.15);\n",
              "      fill: #174EA6;\n",
              "    }\n",
              "\n",
              "    [theme=dark] .colab-df-convert {\n",
              "      background-color: #3B4455;\n",
              "      fill: #D2E3FC;\n",
              "    }\n",
              "\n",
              "    [theme=dark] .colab-df-convert:hover {\n",
              "      background-color: #434B5C;\n",
              "      box-shadow: 0px 1px 3px 1px rgba(0, 0, 0, 0.15);\n",
              "      filter: drop-shadow(0px 1px 2px rgba(0, 0, 0, 0.3));\n",
              "      fill: #FFFFFF;\n",
              "    }\n",
              "  </style>\n",
              "\n",
              "      <script>\n",
              "        const buttonEl =\n",
              "          document.querySelector('#df-bc43e432-fcae-4902-94f7-84f55345bd64 button.colab-df-convert');\n",
              "        buttonEl.style.display =\n",
              "          google.colab.kernel.accessAllowed ? 'block' : 'none';\n",
              "\n",
              "        async function convertToInteractive(key) {\n",
              "          const element = document.querySelector('#df-bc43e432-fcae-4902-94f7-84f55345bd64');\n",
              "          const dataTable =\n",
              "            await google.colab.kernel.invokeFunction('convertToInteractive',\n",
              "                                                     [key], {});\n",
              "          if (!dataTable) return;\n",
              "\n",
              "          const docLinkHtml = 'Like what you see? Visit the ' +\n",
              "            '<a target=\"_blank\" href=https://colab.research.google.com/notebooks/data_table.ipynb>data table notebook</a>'\n",
              "            + ' to learn more about interactive tables.';\n",
              "          element.innerHTML = '';\n",
              "          dataTable['output_type'] = 'display_data';\n",
              "          await google.colab.output.renderOutput(dataTable, element);\n",
              "          const docLink = document.createElement('div');\n",
              "          docLink.innerHTML = docLinkHtml;\n",
              "          element.appendChild(docLink);\n",
              "        }\n",
              "      </script>\n",
              "    </div>\n",
              "  </div>\n",
              "  "
            ]
          },
          "metadata": {},
          "execution_count": 6
        }
      ],
      "source": [
        "df = df[df[\"bank_name\"]=='сбербанк']\n",
        "df.reset_index(drop=True, inplace=True)\n",
        "df"
      ]
    },
    {
      "cell_type": "code",
      "execution_count": null,
      "metadata": {
        "id": "T6sSeHk749yp"
      },
      "outputs": [],
      "source": [
        "df['tokenized_review'] = df['review']\n",
        "#.str.split(' ')"
      ]
    },
    {
      "cell_type": "code",
      "execution_count": null,
      "metadata": {
        "colab": {
          "base_uri": "https://localhost:8080/"
        },
        "id": "QbaQF9h449yp",
        "outputId": "47b15dfc-499f-4d22-b68b-7f1c8ef0ad3b"
      },
      "outputs": [
        {
          "output_type": "execute_result",
          "data": {
            "text/plain": [
              "0       3 раза я обращался по вопросу списаний за овер...\n",
              "1       Очень возмущена и удивлена сложившейся ситуаци...\n",
              "2       Я уже не знаю, дождемся ли мы, чтобы сбер пров...\n",
              "3       Здравствуйте, у меня возникла следующая пробле...\n",
              "4       Дорогой друг Сбербанк, как же мне не хочется и...\n",
              "                              ...                        \n",
              "2476    Обратились с мужем в отделение сбербанка для п...\n",
              "2477    Все равно каким способом получать деньги с кли...\n",
              "2478    РефинансированиеНачну по порядку,живя в браке ...\n",
              "2479    Моему возмущению нет предела.Я думала,что дове...\n",
              "2480    Люди! Не подключайте услугу \"Мобильный банк\"! ...\n",
              "Name: tokenized_review, Length: 2481, dtype: object"
            ]
          },
          "metadata": {},
          "execution_count": 8
        }
      ],
      "source": [
        "df['tokenized_review']"
      ]
    },
    {
      "cell_type": "code",
      "execution_count": null,
      "metadata": {
        "colab": {
          "base_uri": "https://localhost:8080/",
          "height": 140
        },
        "id": "4mpoIguTPSDt",
        "outputId": "19feb5e4-2cc1-4eed-aa51-1db1db54f988"
      },
      "outputs": [
        {
          "output_type": "execute_result",
          "data": {
            "text/plain": [
              "'3 раза я обращался по вопросу списаний за овердрафт, 3 раза мне присылали извинения и возврат средств. Но всё продолжается снова и снова, и если не жалуешься - не возвращают, разумеется. Списания мелкие - 15-50 рублей. Но, имея таких дойных лохов штук 1М+, это неплохой дополнительный заработок.\\nКак с этим говном бороться? Нет ни времени, ни желания по полчаса общаться с представителями банка из-за 15 рублей (думаю, на это и расчет), но и дарить эти 15 рублей жуликам раз в месяц совершенно не хочется.\\nПредставители Сбербанк, вы хоть почитайте, что такое \"овердрафт\", за который вы списываете мои деньги. У меня невозможен овердрафт, т.к. карта дебетовая и используется только в пределах московского региона, все транзакции в валюте РФ.3 раза я обращался по вопросу списаний за овердрафт, 3 раза мне присылали извинения и возврат средств. Но всё продолжается снова и снова, и если не жалуешься - не возвращают, разумеется. Списания мелкие - 15-50 рублей. Но, имея таких дойных лохов штук 1М+, это неплохой дополнительный заработок.\\nКак с этим говном бороться? Нет ни времени, ни желания по полчаса общаться с представителями банка из-за 15 рублей (думаю, на это и расчет), но и дарить эти 15 рублей жуликам раз в месяц совершенно не хочется.\\nПредставители Сбербанк, вы хоть почитайте, что такое \"овердрафт\", за который вы списываете мои деньги. У меня невозможен овердрафт, т.к. карта дебетовая и используется только в пределах московского региона, все транзакции в валюте РФ.'"
            ],
            "application/vnd.google.colaboratory.intrinsic+json": {
              "type": "string"
            }
          },
          "metadata": {},
          "execution_count": 9
        }
      ],
      "source": [
        "# Convert to list\n",
        "#df['tokenized_review']=df['tokenized_review'].apply(str)\n",
        "data = df.tokenized_review.tolist()\n",
        "\n",
        "data[0]"
      ]
    },
    {
      "cell_type": "code",
      "execution_count": null,
      "metadata": {
        "id": "UxWSgvPk49yq"
      },
      "outputs": [],
      "source": [
        "def remove_punkt(text):\n",
        "    text = re.sub(r\"[0-9_-]\", \"\", text)\n",
        "    text = re.sub(r\"\\s+\",\" \",  text)\n",
        "    text = text.strip()\n",
        "    return text"
      ]
    },
    {
      "cell_type": "code",
      "source": [
        "import nltk\n",
        "from nltk.corpus import wordnet \n",
        "from nltk.stem import PorterStemmer, WordNetLemmatizer\n",
        "from nltk.corpus import stopwords\n",
        "from nltk.tokenize import word_tokenize\n",
        "# convert to lower case, removing stop words, numbers / non-alphabetic characters, lemmatization.\n",
        "\n",
        "nltk.download('punkt')\n",
        "nltk.download('wordnet')\n",
        "nltk.download('stopwords')\n",
        "\n",
        "stop_words = set(stopwords.words('russian'))\n",
        "lemmatizer = WordNetLemmatizer()\n",
        "def clear(text):\n",
        "  text = text.lower()\n",
        "  text = list(filter(str.isalpha, word_tokenize(text.lower())))\n",
        "  text = list(lemmatizer.lemmatize(word) for word in text)\n",
        "  text = list(word for word in text if word not in stop_words)\n",
        "  new_text = ' '.join(text)\n",
        "  return new_text\n",
        "\n",
        "#text = clear(text)\n",
        "#text[:500]"
      ],
      "metadata": {
        "colab": {
          "base_uri": "https://localhost:8080/"
        },
        "id": "Wgbz0sh1zVWK",
        "outputId": "bcc4f336-d8b3-4b6b-b492-867688924524"
      },
      "execution_count": null,
      "outputs": [
        {
          "output_type": "stream",
          "name": "stdout",
          "text": [
            "[nltk_data] Downloading package punkt to /root/nltk_data...\n",
            "[nltk_data]   Unzipping tokenizers/punkt.zip.\n",
            "[nltk_data] Downloading package wordnet to /root/nltk_data...\n",
            "[nltk_data]   Unzipping corpora/wordnet.zip.\n",
            "[nltk_data] Downloading package stopwords to /root/nltk_data...\n",
            "[nltk_data]   Unzipping corpora/stopwords.zip.\n"
          ]
        }
      ]
    },
    {
      "cell_type": "code",
      "execution_count": null,
      "metadata": {
        "id": "CSDBf_tv49yr"
      },
      "outputs": [],
      "source": [
        "data = [remove_punkt(d) for d in data]\n",
        "data = [clear(d) for d in data]"
      ]
    },
    {
      "cell_type": "code",
      "execution_count": null,
      "metadata": {
        "colab": {
          "base_uri": "https://localhost:8080/",
          "height": 140
        },
        "id": "oLQf3A9349yr",
        "outputId": "eb66b90e-1868-4ac4-8fec-1b016a38730e"
      },
      "outputs": [
        {
          "output_type": "execute_result",
          "data": {
            "text/plain": [
              "'раза обращался вопросу списаний овердрафт раза присылали извинения возврат средств всё продолжается снова снова жалуешься возвращают разумеется списания мелкие рублей имея таких дойных лохов штук это неплохой дополнительный заработок этим говном бороться времени желания полчаса общаться представителями банка изза рублей думаю это расчет дарить рублей жуликам месяц совершенно хочется представители сбербанк почитайте такое овердрафт который списываете мои деньги невозможен овердрафт карта дебетовая используется пределах московского региона транзакции валюте рф раза обращался вопросу списаний овердрафт раза присылали извинения возврат средств всё продолжается снова снова жалуешься возвращают разумеется списания мелкие рублей имея таких дойных лохов штук это неплохой дополнительный заработок этим говном бороться времени желания полчаса общаться представителями банка изза рублей думаю это расчет дарить рублей жуликам месяц совершенно хочется представители сбербанк почитайте такое овердрафт который списываете мои деньги невозможен овердрафт карта дебетовая используется пределах московского региона транзакции валюте рф'"
            ],
            "application/vnd.google.colaboratory.intrinsic+json": {
              "type": "string"
            }
          },
          "metadata": {},
          "execution_count": 13
        }
      ],
      "source": [
        "data[0]"
      ]
    },
    {
      "cell_type": "code",
      "execution_count": null,
      "metadata": {
        "colab": {
          "base_uri": "https://localhost:8080/"
        },
        "id": "tssppVcf49yr",
        "outputId": "b8939d59-d12a-428b-ab73-6782da5208e1"
      },
      "outputs": [
        {
          "output_type": "stream",
          "name": "stdout",
          "text": [
            "['здравствуйте', 'возникла', 'следующая', 'проблема', 'марта', 'обратилась', 'осб', 'перевыпуска', 'карты', 'связи', 'изменением', 'фамилии', 'карту', 'перевыпустили', 'эмбоссирована', 'старая', 'фамилия', 'оказалось', 'некомпетентный', 'сотрудник', 'заблокировал', 'карту', 'основанию', 'уничтожена', 'основанию', 'изменение', 'регистрационных', 'данных', 'доступе', 'онлайн', 'перестала', 'видеть', 'свои', 'счета', 'карты', 'повторного', 'заявления', 'перевыпустили', 'карту', 'новой', 'фамилией', 'получила', 'новый', 'логин', 'пароль', 'вошла', 'профиль', 'профиле', 'карты', 'счета', 'отражаются', 'новую', 'фамилию', 'историю', 'операций', 'отражает', 'марта', 'причем', 'операции', 'счетам', 'вкладам', 'именным', 'картам', 'также', 'отражает', 'марта', 'хотя', 'операции', 'велись', 'течении', 'года', 'данный', 'момент', 'имею', 'профиля', 'сбол', 'старую', 'фамилию', 'отражающий', 'счетов', 'карт', 'новый', 'отражающий', 'операции', 'марта', 'необходима', 'информация', 'проведенным', 'операция', 'выписки', 'устраивают', 'хочу', 'иметь', 'возможность', 'войти', 'сбол', 'найти', 'нужную', 'операцию', 'графики', 'схемы', 'прошлые', 'периоды', 'обращалась', 'заявлением', 'контактный', 'центр', 'сбол', 'осб', 'горячую', 'линию', 'дают', 'отписки', 'сообщают', 'решение', 'моей', 'проблемы', 'откладывается', 'отписываются', 'каждый', 'разные', 'менеджеры', 'связи', 'этим', 'вопрос', 'закончится', 'дебилизм', 'почему', 'назначат', 'одного', 'ответственного', 'который', 'решит', 'проблему', 'озвучивала', 'одно', 'описывая', 'проблему', 'письменном', 'устном', 'онлайн', 'виде', 'надоело', 'изменить', 'статус', 'карты', 'уничтожена', 'статус', 'который', 'изначально', 'нужно', 'указывать', 'здравствуйте', 'возникла', 'следующая', 'проблема', 'марта', 'обратилась', 'осб', 'перевыпуска', 'карты', 'связи', 'изменением', 'фамилии', 'карту', 'перевыпустили', 'эмбоссирована', 'старая', 'фамилия', 'оказалось', 'некомпетентный', 'сотрудник', 'заблокировал', 'карту', 'основанию', 'уничтожена', 'основанию', 'изменение', 'регистрационных', 'данных', 'доступе', 'онлайн', 'перестала', 'видеть', 'свои', 'счета', 'карты', 'повторного', 'заявления', 'перевыпустили', 'карту', 'новой', 'фамилией', 'получила', 'новый', 'логин', 'пароль', 'вошла', 'профиль', 'профиле', 'карты', 'счета', 'отражаются', 'новую', 'фамилию', 'историю', 'операций', 'отражает', 'марта', 'причем', 'операции', 'счетам', 'вкладам', 'именным', 'картам', 'также', 'отражает', 'марта', 'хотя', 'операции', 'велись', 'течении', 'года', 'данный', 'момент', 'имею', 'профиля', 'сбол', 'старую', 'фамилию', 'отражающий', 'счетов', 'карт', 'новый', 'отражающий', 'операции', 'марта', 'необходима', 'информация', 'проведенным', 'операция', 'выписки', 'устраивают', 'хочу', 'иметь', 'возможность', 'войти', 'сбол', 'найти', 'нужную', 'операцию', 'графики', 'схемы', 'прошлые', 'периоды', 'обращалась', 'заявлением', 'контактный', 'центр', 'сбол', 'осб', 'горячую', 'линию', 'дают', 'отписки', 'сообщают', 'решение', 'моей', 'проблемы', 'откладывается', 'отписываются', 'каждый', 'разные', 'менеджеры', 'связи', 'этим', 'вопрос', 'закончится', 'дебилизм', 'почему', 'назначат', 'одного', 'ответственного', 'который', 'решит', 'проблему', 'озвучивала', 'одно', 'описывая', 'проблему', 'письменном', 'устном', 'онлайн', 'виде', 'надоело', 'изменить', 'статус', 'карты', 'уничтожена', 'статус', 'который', 'изначально', 'нужно', 'указывать']\n"
          ]
        }
      ],
      "source": [
        "data_words = [d.split(' ') for d in data]\n",
        "print(data_words[3])"
      ]
    },
    {
      "cell_type": "code",
      "execution_count": null,
      "metadata": {
        "id": "JLLS_JNEUFHn"
      },
      "outputs": [],
      "source": [
        "# Build the bigram \n",
        "bigram = gensim.models.Phrases(data_words, min_count=2, threshold=100)\n",
        "bigram_mod = gensim.models.phrases.Phraser(bigram)"
      ]
    },
    {
      "cell_type": "code",
      "execution_count": null,
      "metadata": {
        "id": "Jh-woupdXdVi",
        "tags": []
      },
      "outputs": [],
      "source": [
        "# Define functions for bigrams\n",
        "\n",
        "def make_bigrams(texts):\n",
        "    return [bigram_mod[doc] for doc in texts]"
      ]
    },
    {
      "cell_type": "code",
      "execution_count": null,
      "metadata": {
        "id": "t_9_3TxFUXIZ",
        "tags": []
      },
      "outputs": [],
      "source": [
        "# Form Bigrams\n",
        "data_words_bigrams = make_bigrams(data_words)"
      ]
    },
    {
      "cell_type": "code",
      "execution_count": null,
      "metadata": {
        "colab": {
          "base_uri": "https://localhost:8080/"
        },
        "id": "R4Uce5hd49ys",
        "outputId": "78d9d9e8-985f-4a64-ad0a-b7b18d51cbed"
      },
      "outputs": [
        {
          "output_type": "execute_result",
          "data": {
            "text/plain": [
              "['здравствуйте',\n",
              " 'уважаемый',\n",
              " 'сбербанк',\n",
              " 'хочу_пожаловаться',\n",
              " 'сервис',\n",
              " 'пятницу',\n",
              " 'имени',\n",
              " 'нашего',\n",
              " 'тсж',\n",
              " 'имеющего',\n",
              " 'счёт',\n",
              " 'отделении',\n",
              " 'енисейской',\n",
              " 'улице',\n",
              " 'пытался',\n",
              " 'дозвониться',\n",
              " 'какогонибудь',\n",
              " 'менеджера',\n",
              " 'отделения',\n",
              " 'уточнения',\n",
              " 'комплекта',\n",
              " 'документов',\n",
              " 'суть',\n",
              " 'телефон',\n",
              " 'записан',\n",
              " 'бесполезно',\n",
              " 'играет',\n",
              " 'музыка',\n",
              " 'звонок_сбрасывается',\n",
              " 'ок',\n",
              " 'звоню',\n",
              " 'службу_качества',\n",
              " 'обслуживания',\n",
              " 'юридических_лиц',\n",
              " 'объясняю_ситуацию',\n",
              " 'говорят',\n",
              " 'отделения',\n",
              " 'ещё',\n",
              " 'другие',\n",
              " 'внутренние',\n",
              " 'номера',\n",
              " 'пытаюсь_дозвониться',\n",
              " 'всем',\n",
              " 'номерам',\n",
              " 'самое',\n",
              " 'играет',\n",
              " 'музыка',\n",
              " 'звонок_сбрасывается',\n",
              " 'звоню',\n",
              " 'службу_качества',\n",
              " 'предлагают',\n",
              " 'соединить',\n",
              " 'отделением',\n",
              " 'слушаю',\n",
              " 'музыку',\n",
              " 'течение',\n",
              " 'десяти',\n",
              " 'минут',\n",
              " 'видимо',\n",
              " 'звонок',\n",
              " 'возвращается',\n",
              " 'обратно',\n",
              " 'службу_качества',\n",
              " 'трубку',\n",
              " 'снимают',\n",
              " 'чтото',\n",
              " 'набирают',\n",
              " 'тоновом',\n",
              " 'режиме',\n",
              " 'звонок',\n",
              " 'срывается',\n",
              " 'итоге',\n",
              " 'дозвониться',\n",
              " 'удалось',\n",
              " 'это',\n",
              " 'происходило',\n",
              " 'указанную',\n",
              " 'выше',\n",
              " 'дату']"
            ]
          },
          "metadata": {},
          "execution_count": 18
        }
      ],
      "source": [
        "data_words_bigrams[6]"
      ]
    },
    {
      "cell_type": "code",
      "execution_count": null,
      "metadata": {
        "colab": {
          "base_uri": "https://localhost:8080/"
        },
        "id": "R3IEOI7qaOin",
        "outputId": "3d06bb9b-9d98-499a-e0b3-45c7dec08f07"
      },
      "outputs": [
        {
          "output_type": "stream",
          "name": "stdout",
          "text": [
            "[[(0, 2), (1, 2), (2, 2), (3, 2), (4, 2), (5, 2), (6, 2), (7, 2), (8, 2), (9, 2), (10, 2), (11, 2), (12, 2), (13, 2), (14, 2), (15, 2), (16, 2), (17, 2), (18, 2), (19, 2), (20, 2), (21, 2), (22, 2), (23, 2), (24, 2), (25, 2), (26, 2), (27, 2), (28, 2), (29, 2), (30, 2), (31, 2), (32, 2), (33, 6), (34, 2), (35, 2), (36, 2), (37, 2), (38, 2), (39, 2), (40, 2), (41, 4), (42, 2), (43, 2), (44, 6), (45, 2), (46, 2), (47, 4), (48, 2), (49, 2), (50, 2), (51, 2), (52, 2), (53, 2), (54, 2), (55, 2), (56, 2), (57, 2), (58, 2), (59, 4)]]\n"
          ]
        }
      ],
      "source": [
        "# Create Dictionary\n",
        "id2word = corpora.Dictionary(data_words_bigrams)\n",
        "\n",
        "# Create Corpus\n",
        "texts = data_words_bigrams\n",
        "\n",
        "# Term Document Frequency\n",
        "corpus = [id2word.doc2bow(text) for text in texts]\n",
        "\n",
        "# View\n",
        "# unique id - count\n",
        "print(corpus[:1])"
      ]
    },
    {
      "cell_type": "code",
      "execution_count": null,
      "metadata": {
        "id": "bYA9qr0449yt"
      },
      "outputs": [],
      "source": [
        "def compute_coherence_values(dictionary, corpus, texts, limit, start=2, step=1):\n",
        "    \"\"\"\n",
        "    Compute c_v coherence for various number of topics\n",
        "\n",
        "    Parameters:\n",
        "    ----------\n",
        "    dictionary : Gensim dictionary\n",
        "    corpus : Gensim corpus\n",
        "    texts : List of input texts\n",
        "    limit : Max num of topics\n",
        "\n",
        "    Returns:\n",
        "    -------\n",
        "    model_list : List of LDA topic models\n",
        "    coherence_values : Coherence values corresponding to the LDA model with respective number of topics\n",
        "    \"\"\"\n",
        "    coherence_values = []\n",
        "    model_list = []\n",
        "    for num_topics in range(start, limit, step):\n",
        "        model = gensim.models.ldamodel.LdaModel(corpus=corpus,\n",
        "                                           id2word=id2word,\n",
        "                                           num_topics=num_topics, \n",
        "                                           random_state=100,\n",
        "                                           update_every=1,\n",
        "                                           chunksize=100,\n",
        "                                           passes=10,\n",
        "                                           alpha='auto',\n",
        "                                           per_word_topics=True)\n",
        "        model_list.append(model)\n",
        "        coherencemodel = CoherenceModel(model=model, texts=texts, dictionary=dictionary, coherence='c_v')\n",
        "        coherence_values.append(coherencemodel.get_coherence())\n",
        "\n",
        "    return model_list, coherence_values\n",
        "# Can take a long time to run.\n",
        "model_list, coherence_values = compute_coherence_values(dictionary=id2word, corpus=corpus, texts=data_words_bigrams, start=2, limit=10, step=1)"
      ]
    },
    {
      "cell_type": "code",
      "source": [
        "import matplotlib.pyplot as plt\n",
        "# Show graph\n",
        "limit=10; start=2; step=1;\n",
        "x = range(start, limit, step)\n",
        "plt.plot(x, coherence_values)\n",
        "plt.xlabel(\"Num Topics\")\n",
        "plt.ylabel(\"Coherence score\")\n",
        "plt.legend((\"coherence_values\"), loc='best')\n",
        "plt.show()"
      ],
      "metadata": {
        "colab": {
          "base_uri": "https://localhost:8080/",
          "height": 279
        },
        "id": "67IpaQ0XFUZh",
        "outputId": "d2bab4ea-7ddd-4628-f172-a13a90ca5eb5"
      },
      "execution_count": null,
      "outputs": [
        {
          "output_type": "display_data",
          "data": {
            "text/plain": [
              "<Figure size 432x288 with 1 Axes>"
            ],
            "image/png": "[encoded data removed]"
          },
          "metadata": {
            "needs_background": "light"
          }
        }
      ]
    },
    {
      "cell_type": "code",
      "source": [
        "def compute_perplexity_values(dictionary, corpus, texts, limit, start=2, step=1):\n",
        "    \"\"\"\n",
        "    Compute c_v coherence for various number of topics\n",
        "\n",
        "    Parameters:\n",
        "    ----------\n",
        "    dictionary : Gensim dictionary\n",
        "    corpus : Gensim corpus\n",
        "    texts : List of input texts\n",
        "    limit : Max num of topics\n",
        "\n",
        "    Returns:\n",
        "    -------\n",
        "    model_list : List of LDA topic models\n",
        "    coherence_values : Coherence values corresponding to the LDA model with respective number of topics\n",
        "    \"\"\"\n",
        "    \n",
        "    perplexity_values = []\n",
        "    model_list = []\n",
        "    for num_topics in range(start, limit, step):\n",
        "        model = gensim.models.ldamodel.LdaModel(corpus=corpus,\n",
        "                                           id2word=id2word,\n",
        "                                           num_topics=num_topics, \n",
        "                                           random_state=100,\n",
        "                                           update_every=1,\n",
        "                                           chunksize=100,\n",
        "                                           passes=10,\n",
        "                                           alpha='auto',\n",
        "                                           per_word_topics=True)\n",
        "        model_list.append(model)\n",
        "        coherencemodel = CoherenceModel(model=model, texts=texts, dictionary=dictionary, coherence='c_v')\n",
        "        perplexity_values.append(model.log_perplexity(corpus))\n",
        "\n",
        "    return model_list, perplexity_values\n",
        "\n",
        "model_list, perplexity_values = compute_perplexity_values(dictionary=id2word, corpus=corpus, texts=data_words_bigrams, start=2, limit=10, step=1)"
      ],
      "metadata": {
        "id": "cMIh13n7OyW7"
      },
      "execution_count": null,
      "outputs": []
    },
    {
      "cell_type": "code",
      "source": [
        "import matplotlib.pyplot as plt\n",
        "# Show graph\n",
        "limit=10; start=2; step=1;\n",
        "x = range(start, limit, step)\n",
        "plt.plot(x, perplexity_values)\n",
        "plt.xlabel(\"Num Topics\")\n",
        "plt.ylabel(\"Perplexity score\")\n",
        "plt.legend((\"perplexity_values\"), loc='best')\n",
        "plt.show()"
      ],
      "metadata": {
        "colab": {
          "base_uri": "https://localhost:8080/",
          "height": 279
        },
        "id": "_iZgwnBoImlh",
        "outputId": "55a950ef-a31a-441f-9656-6f52d285a242"
      },
      "execution_count": null,
      "outputs": [
        {
          "output_type": "display_data",
          "data": {
            "text/plain": [
              "<Figure size 432x288 with 1 Axes>"
            ],
            "image/png": "[encoded data removed]"
          },
          "metadata": {
            "needs_background": "light"
          }
        }
      ]
    },
    {
      "cell_type": "markdown",
      "source": [
        "Сравнивая оба графика по оценкам, выберем оптимальное количество тем, равное 5."
      ],
      "metadata": {
        "id": "NjRww1LDRRMs"
      }
    },
    {
      "cell_type": "code",
      "execution_count": null,
      "metadata": {
        "id": "t9n4sZSch4B6",
        "tags": []
      },
      "outputs": [],
      "source": [
        "lda_model = gensim.models.ldamodel.LdaModel(corpus=corpus,\n",
        "                                           id2word=id2word,\n",
        "                                           num_topics=5, \n",
        "                                           random_state=100,\n",
        "                                           update_every=1,\n",
        "                                           chunksize=100,\n",
        "                                           passes=10,\n",
        "                                           alpha='auto',\n",
        "                                           per_word_topics=True)"
      ]
    },
    {
      "cell_type": "code",
      "execution_count": null,
      "metadata": {
        "colab": {
          "base_uri": "https://localhost:8080/"
        },
        "id": "U3GAI_PZm3Q0",
        "outputId": "251b482a-43ac-4a37-9f2a-12d23e250948"
      },
      "outputs": [
        {
          "output_type": "stream",
          "name": "stdout",
          "text": [
            "[(0, '0.003*\"часа\" + 0.003*\"карточку\" + 0.003*\"другому\" + 0.003*\"подошла\" + 0.003*\"неё\" + 0.002*\"х\" + 0.002*\"очереди\" + 0.002*\"карточки\" + 0.002*\"каком_основании\" + 0.002*\"делают\"'), (1, '0.009*\"очень\" + 0.006*\"сбербанка\" + 0.005*\"отделения\" + 0.005*\"банка\" + 0.004*\"клиентов\" + 0.004*\"клиентам\" + 0.004*\"сотрудников\" + 0.004*\"нам\" + 0.003*\"спасибо\" + 0.003*\"работу\"'), (2, '0.020*\"деньги\" + 0.010*\"банкомат\" + 0.006*\"сбербанка\" + 0.006*\"рублей\" + 0.005*\"денежных_средств\" + 0.005*\"средств\" + 0.005*\"ответ\" + 0.005*\"сумма\" + 0.005*\"руб\" + 0.005*\"вернуть\"'), (3, '0.010*\"кредит\" + 0.010*\"документы\" + 0.008*\"банка\" + 0.007*\"кредита\" + 0.007*\"года\" + 0.005*\"сбербанка\" + 0.005*\"договор\" + 0.004*\"документов\" + 0.004*\"ипотеку\" + 0.004*\"нам\"'), (4, '0.017*\"это\" + 0.012*\"банка\" + 0.012*\"деньги\" + 0.011*\"карту\" + 0.011*\"сбербанка\" + 0.011*\"банк\" + 0.010*\"карты\" + 0.010*\"сбербанк\" + 0.008*\"отделение\" + 0.005*\"сказали\"')]\n"
          ]
        }
      ],
      "source": [
        "# Print the Keyword in the 5 topics\n",
        "print(lda_model.print_topics())\n",
        "doc_lda = lda_model[corpus]"
      ]
    },
    {
      "cell_type": "code",
      "execution_count": null,
      "metadata": {
        "colab": {
          "base_uri": "https://localhost:8080/"
        },
        "id": "HdnFMEgIpNp6",
        "outputId": "665f2642-0266-4549-dff5-9535ba13a05f"
      },
      "outputs": [
        {
          "output_type": "stream",
          "name": "stdout",
          "text": [
            "\n",
            "Perplexity:  -9.44501849900768\n",
            "\n",
            "Coherence Score:  0.39498011202883687\n"
          ]
        }
      ],
      "source": [
        "# Compute Perplexity\n",
        "# a measure of how good the model is. lower the better.\n",
        "print('\\nPerplexity: ', lda_model.log_perplexity(corpus))  \n",
        "\n",
        "# Compute Coherence Score\n",
        "coherence_model_lda = CoherenceModel(model=lda_model, texts=data_words_bigrams, dictionary=id2word, coherence='c_v')\n",
        "coherence_lda = coherence_model_lda.get_coherence()\n",
        "print('\\nCoherence Score: ', coherence_lda)"
      ]
    },
    {
      "cell_type": "markdown",
      "source": [
        ""
      ],
      "metadata": {
        "id": "SqFhCClB-NWP"
      }
    },
    {
      "cell_type": "code",
      "execution_count": null,
      "metadata": {
        "colab": {
          "base_uri": "https://localhost:8080/"
        },
        "id": "FVC8hMgq49yu",
        "outputId": "9beba04b-c1bc-4585-ec05-dec59cff3764"
      },
      "outputs": [
        {
          "output_type": "stream",
          "name": "stdout",
          "text": [
            "Collecting pyLDAvis\n",
            "  Downloading pyLDAvis-3.3.1.tar.gz (1.7 MB)\n",
            "\u001b[?25l\r\u001b[K     |▏                               | 10 kB 22.0 MB/s eta 0:00:01\r\u001b[K     |▍                               | 20 kB 27.5 MB/s eta 0:00:01\r\u001b[K     |▋                               | 30 kB 30.9 MB/s eta 0:00:01\r\u001b[K     |▉                               | 40 kB 19.9 MB/s eta 0:00:01\r\u001b[K     |█                               | 51 kB 8.3 MB/s eta 0:00:01\r\u001b[K     |█▏                              | 61 kB 9.6 MB/s eta 0:00:01\r\u001b[K     |█▍                              | 71 kB 10.0 MB/s eta 0:00:01\r\u001b[K     |█▋                              | 81 kB 9.8 MB/s eta 0:00:01\r\u001b[K     |█▉                              | 92 kB 10.7 MB/s eta 0:00:01\r\u001b[K     |██                              | 102 kB 9.3 MB/s eta 0:00:01\r\u001b[K     |██▏                             | 112 kB 9.3 MB/s eta 0:00:01\r\u001b[K     |██▍                             | 122 kB 9.3 MB/s eta 0:00:01\r\u001b[K     |██▋                             | 133 kB 9.3 MB/s eta 0:00:01\r\u001b[K     |██▊                             | 143 kB 9.3 MB/s eta 0:00:01\r\u001b[K     |███                             | 153 kB 9.3 MB/s eta 0:00:01\r\u001b[K     |███▏                            | 163 kB 9.3 MB/s eta 0:00:01\r\u001b[K     |███▍                            | 174 kB 9.3 MB/s eta 0:00:01\r\u001b[K     |███▋                            | 184 kB 9.3 MB/s eta 0:00:01\r\u001b[K     |███▊                            | 194 kB 9.3 MB/s eta 0:00:01\r\u001b[K     |████                            | 204 kB 9.3 MB/s eta 0:00:01\r\u001b[K     |████▏                           | 215 kB 9.3 MB/s eta 0:00:01\r\u001b[K     |████▍                           | 225 kB 9.3 MB/s eta 0:00:01\r\u001b[K     |████▋                           | 235 kB 9.3 MB/s eta 0:00:01\r\u001b[K     |████▊                           | 245 kB 9.3 MB/s eta 0:00:01\r\u001b[K     |█████                           | 256 kB 9.3 MB/s eta 0:00:01\r\u001b[K     |█████▏                          | 266 kB 9.3 MB/s eta 0:00:01\r\u001b[K     |█████▍                          | 276 kB 9.3 MB/s eta 0:00:01\r\u001b[K     |█████▌                          | 286 kB 9.3 MB/s eta 0:00:01\r\u001b[K     |█████▊                          | 296 kB 9.3 MB/s eta 0:00:01\r\u001b[K     |██████                          | 307 kB 9.3 MB/s eta 0:00:01\r\u001b[K     |██████▏                         | 317 kB 9.3 MB/s eta 0:00:01\r\u001b[K     |██████▍                         | 327 kB 9.3 MB/s eta 0:00:01\r\u001b[K     |██████▌                         | 337 kB 9.3 MB/s eta 0:00:01\r\u001b[K     |██████▊                         | 348 kB 9.3 MB/s eta 0:00:01\r\u001b[K     |███████                         | 358 kB 9.3 MB/s eta 0:00:01\r\u001b[K     |███████▏                        | 368 kB 9.3 MB/s eta 0:00:01\r\u001b[K     |███████▎                        | 378 kB 9.3 MB/s eta 0:00:01\r\u001b[K     |███████▌                        | 389 kB 9.3 MB/s eta 0:00:01\r\u001b[K     |███████▊                        | 399 kB 9.3 MB/s eta 0:00:01\r\u001b[K     |████████                        | 409 kB 9.3 MB/s eta 0:00:01\r\u001b[K     |████████▏                       | 419 kB 9.3 MB/s eta 0:00:01\r\u001b[K     |████████▎                       | 430 kB 9.3 MB/s eta 0:00:01\r\u001b[K     |████████▌                       | 440 kB 9.3 MB/s eta 0:00:01\r\u001b[K     |████████▊                       | 450 kB 9.3 MB/s eta 0:00:01\r\u001b[K     |█████████                       | 460 kB 9.3 MB/s eta 0:00:01\r\u001b[K     |█████████▏                      | 471 kB 9.3 MB/s eta 0:00:01\r\u001b[K     |█████████▎                      | 481 kB 9.3 MB/s eta 0:00:01\r\u001b[K     |█████████▌                      | 491 kB 9.3 MB/s eta 0:00:01\r\u001b[K     |█████████▊                      | 501 kB 9.3 MB/s eta 0:00:01\r\u001b[K     |██████████                      | 512 kB 9.3 MB/s eta 0:00:01\r\u001b[K     |██████████                      | 522 kB 9.3 MB/s eta 0:00:01\r\u001b[K     |██████████▎                     | 532 kB 9.3 MB/s eta 0:00:01\r\u001b[K     |██████████▌                     | 542 kB 9.3 MB/s eta 0:00:01\r\u001b[K     |██████████▊                     | 552 kB 9.3 MB/s eta 0:00:01\r\u001b[K     |███████████                     | 563 kB 9.3 MB/s eta 0:00:01\r\u001b[K     |███████████                     | 573 kB 9.3 MB/s eta 0:00:01\r\u001b[K     |███████████▎                    | 583 kB 9.3 MB/s eta 0:00:01\r\u001b[K     |███████████▌                    | 593 kB 9.3 MB/s eta 0:00:01\r\u001b[K     |███████████▊                    | 604 kB 9.3 MB/s eta 0:00:01\r\u001b[K     |███████████▉                    | 614 kB 9.3 MB/s eta 0:00:01\r\u001b[K     |████████████                    | 624 kB 9.3 MB/s eta 0:00:01\r\u001b[K     |████████████▎                   | 634 kB 9.3 MB/s eta 0:00:01\r\u001b[K     |████████████▌                   | 645 kB 9.3 MB/s eta 0:00:01\r\u001b[K     |████████████▊                   | 655 kB 9.3 MB/s eta 0:00:01\r\u001b[K     |████████████▉                   | 665 kB 9.3 MB/s eta 0:00:01\r\u001b[K     |█████████████                   | 675 kB 9.3 MB/s eta 0:00:01\r\u001b[K     |█████████████▎                  | 686 kB 9.3 MB/s eta 0:00:01\r\u001b[K     |█████████████▌                  | 696 kB 9.3 MB/s eta 0:00:01\r\u001b[K     |█████████████▊                  | 706 kB 9.3 MB/s eta 0:00:01\r\u001b[K     |█████████████▉                  | 716 kB 9.3 MB/s eta 0:00:01\r\u001b[K     |██████████████                  | 727 kB 9.3 MB/s eta 0:00:01\r\u001b[K     |██████████████▎                 | 737 kB 9.3 MB/s eta 0:00:01\r\u001b[K     |██████████████▌                 | 747 kB 9.3 MB/s eta 0:00:01\r\u001b[K     |██████████████▋                 | 757 kB 9.3 MB/s eta 0:00:01\r\u001b[K     |██████████████▉                 | 768 kB 9.3 MB/s eta 0:00:01\r\u001b[K     |███████████████                 | 778 kB 9.3 MB/s eta 0:00:01\r\u001b[K     |███████████████▎                | 788 kB 9.3 MB/s eta 0:00:01\r\u001b[K     |███████████████▌                | 798 kB 9.3 MB/s eta 0:00:01\r\u001b[K     |███████████████▋                | 808 kB 9.3 MB/s eta 0:00:01\r\u001b[K     |███████████████▉                | 819 kB 9.3 MB/s eta 0:00:01\r\u001b[K     |████████████████                | 829 kB 9.3 MB/s eta 0:00:01\r\u001b[K     |████████████████▎               | 839 kB 9.3 MB/s eta 0:00:01\r\u001b[K     |████████████████▍               | 849 kB 9.3 MB/s eta 0:00:01\r\u001b[K     |████████████████▋               | 860 kB 9.3 MB/s eta 0:00:01\r\u001b[K     |████████████████▉               | 870 kB 9.3 MB/s eta 0:00:01\r\u001b[K     |█████████████████               | 880 kB 9.3 MB/s eta 0:00:01\r\u001b[K     |█████████████████▎              | 890 kB 9.3 MB/s eta 0:00:01\r\u001b[K     |█████████████████▍              | 901 kB 9.3 MB/s eta 0:00:01\r\u001b[K     |█████████████████▋              | 911 kB 9.3 MB/s eta 0:00:01\r\u001b[K     |█████████████████▉              | 921 kB 9.3 MB/s eta 0:00:01\r\u001b[K     |██████████████████              | 931 kB 9.3 MB/s eta 0:00:01\r\u001b[K     |██████████████████▎             | 942 kB 9.3 MB/s eta 0:00:01\r\u001b[K     |██████████████████▍             | 952 kB 9.3 MB/s eta 0:00:01\r\u001b[K     |██████████████████▋             | 962 kB 9.3 MB/s eta 0:00:01\r\u001b[K     |██████████████████▉             | 972 kB 9.3 MB/s eta 0:00:01\r\u001b[K     |███████████████████             | 983 kB 9.3 MB/s eta 0:00:01\r\u001b[K     |███████████████████▏            | 993 kB 9.3 MB/s eta 0:00:01\r\u001b[K     |███████████████████▍            | 1.0 MB 9.3 MB/s eta 0:00:01\r\u001b[K     |███████████████████▋            | 1.0 MB 9.3 MB/s eta 0:00:01\r\u001b[K     |███████████████████▉            | 1.0 MB 9.3 MB/s eta 0:00:01\r\u001b[K     |████████████████████            | 1.0 MB 9.3 MB/s eta 0:00:01\r\u001b[K     |████████████████████▏           | 1.0 MB 9.3 MB/s eta 0:00:01\r\u001b[K     |████████████████████▍           | 1.1 MB 9.3 MB/s eta 0:00:01\r\u001b[K     |████████████████████▋           | 1.1 MB 9.3 MB/s eta 0:00:01\r\u001b[K     |████████████████████▉           | 1.1 MB 9.3 MB/s eta 0:00:01\r\u001b[K     |█████████████████████           | 1.1 MB 9.3 MB/s eta 0:00:01\r\u001b[K     |█████████████████████▏          | 1.1 MB 9.3 MB/s eta 0:00:01\r\u001b[K     |█████████████████████▍          | 1.1 MB 9.3 MB/s eta 0:00:01\r\u001b[K     |█████████████████████▋          | 1.1 MB 9.3 MB/s eta 0:00:01\r\u001b[K     |█████████████████████▉          | 1.1 MB 9.3 MB/s eta 0:00:01\r\u001b[K     |██████████████████████          | 1.1 MB 9.3 MB/s eta 0:00:01\r\u001b[K     |██████████████████████▏         | 1.1 MB 9.3 MB/s eta 0:00:01\r\u001b[K     |██████████████████████▍         | 1.2 MB 9.3 MB/s eta 0:00:01\r\u001b[K     |██████████████████████▋         | 1.2 MB 9.3 MB/s eta 0:00:01\r\u001b[K     |██████████████████████▉         | 1.2 MB 9.3 MB/s eta 0:00:01\r\u001b[K     |███████████████████████         | 1.2 MB 9.3 MB/s eta 0:00:01\r\u001b[K     |███████████████████████▏        | 1.2 MB 9.3 MB/s eta 0:00:01\r\u001b[K     |███████████████████████▍        | 1.2 MB 9.3 MB/s eta 0:00:01\r\u001b[K     |███████████████████████▋        | 1.2 MB 9.3 MB/s eta 0:00:01\r\u001b[K     |███████████████████████▊        | 1.2 MB 9.3 MB/s eta 0:00:01\r\u001b[K     |████████████████████████        | 1.2 MB 9.3 MB/s eta 0:00:01\r\u001b[K     |████████████████████████▏       | 1.2 MB 9.3 MB/s eta 0:00:01\r\u001b[K     |████████████████████████▍       | 1.3 MB 9.3 MB/s eta 0:00:01\r\u001b[K     |████████████████████████▋       | 1.3 MB 9.3 MB/s eta 0:00:01\r\u001b[K     |████████████████████████▊       | 1.3 MB 9.3 MB/s eta 0:00:01\r\u001b[K     |█████████████████████████       | 1.3 MB 9.3 MB/s eta 0:00:01\r\u001b[K     |█████████████████████████▏      | 1.3 MB 9.3 MB/s eta 0:00:01\r\u001b[K     |█████████████████████████▍      | 1.3 MB 9.3 MB/s eta 0:00:01\r\u001b[K     |█████████████████████████▌      | 1.3 MB 9.3 MB/s eta 0:00:01\r\u001b[K     |█████████████████████████▊      | 1.3 MB 9.3 MB/s eta 0:00:01\r\u001b[K     |██████████████████████████      | 1.3 MB 9.3 MB/s eta 0:00:01\r\u001b[K     |██████████████████████████▏     | 1.4 MB 9.3 MB/s eta 0:00:01\r\u001b[K     |██████████████████████████▍     | 1.4 MB 9.3 MB/s eta 0:00:01\r\u001b[K     |██████████████████████████▌     | 1.4 MB 9.3 MB/s eta 0:00:01\r\u001b[K     |██████████████████████████▊     | 1.4 MB 9.3 MB/s eta 0:00:01\r\u001b[K     |███████████████████████████     | 1.4 MB 9.3 MB/s eta 0:00:01\r\u001b[K     |███████████████████████████▏    | 1.4 MB 9.3 MB/s eta 0:00:01\r\u001b[K     |███████████████████████████▍    | 1.4 MB 9.3 MB/s eta 0:00:01\r\u001b[K     |███████████████████████████▌    | 1.4 MB 9.3 MB/s eta 0:00:01\r\u001b[K     |███████████████████████████▊    | 1.4 MB 9.3 MB/s eta 0:00:01\r\u001b[K     |████████████████████████████    | 1.4 MB 9.3 MB/s eta 0:00:01\r\u001b[K     |████████████████████████████▏   | 1.5 MB 9.3 MB/s eta 0:00:01\r\u001b[K     |████████████████████████████▎   | 1.5 MB 9.3 MB/s eta 0:00:01\r\u001b[K     |████████████████████████████▌   | 1.5 MB 9.3 MB/s eta 0:00:01\r\u001b[K     |████████████████████████████▊   | 1.5 MB 9.3 MB/s eta 0:00:01\r\u001b[K     |█████████████████████████████   | 1.5 MB 9.3 MB/s eta 0:00:01\r\u001b[K     |█████████████████████████████▏  | 1.5 MB 9.3 MB/s eta 0:00:01\r\u001b[K     |█████████████████████████████▎  | 1.5 MB 9.3 MB/s eta 0:00:01\r\u001b[K     |█████████████████████████████▌  | 1.5 MB 9.3 MB/s eta 0:00:01\r\u001b[K     |█████████████████████████████▊  | 1.5 MB 9.3 MB/s eta 0:00:01\r\u001b[K     |██████████████████████████████  | 1.5 MB 9.3 MB/s eta 0:00:01\r\u001b[K     |██████████████████████████████▏ | 1.6 MB 9.3 MB/s eta 0:00:01\r\u001b[K     |██████████████████████████████▎ | 1.6 MB 9.3 MB/s eta 0:00:01\r\u001b[K     |██████████████████████████████▌ | 1.6 MB 9.3 MB/s eta 0:00:01\r\u001b[K     |██████████████████████████████▊ | 1.6 MB 9.3 MB/s eta 0:00:01\r\u001b[K     |███████████████████████████████ | 1.6 MB 9.3 MB/s eta 0:00:01\r\u001b[K     |███████████████████████████████ | 1.6 MB 9.3 MB/s eta 0:00:01\r\u001b[K     |███████████████████████████████▎| 1.6 MB 9.3 MB/s eta 0:00:01\r\u001b[K     |███████████████████████████████▌| 1.6 MB 9.3 MB/s eta 0:00:01\r\u001b[K     |███████████████████████████████▊| 1.6 MB 9.3 MB/s eta 0:00:01\r\u001b[K     |████████████████████████████████| 1.6 MB 9.3 MB/s eta 0:00:01\r\u001b[K     |████████████████████████████████| 1.7 MB 9.3 MB/s \n",
            "\u001b[?25h  Installing build dependencies ... \u001b[?25l\u001b[?25hdone\n",
            "  Getting requirements to build wheel ... \u001b[?25l\u001b[?25hdone\n",
            "  Installing backend dependencies ... \u001b[?25l\u001b[?25hdone\n",
            "    Preparing wheel metadata ... \u001b[?25l\u001b[?25hdone\n",
            "Requirement already satisfied: jinja2 in /usr/local/lib/python3.7/dist-packages (from pyLDAvis) (2.11.3)\n",
            "Requirement already satisfied: setuptools in /usr/local/lib/python3.7/dist-packages (from pyLDAvis) (57.4.0)\n",
            "Requirement already satisfied: numexpr in /usr/local/lib/python3.7/dist-packages (from pyLDAvis) (2.8.1)\n",
            "Requirement already satisfied: future in /usr/local/lib/python3.7/dist-packages (from pyLDAvis) (0.16.0)\n",
            "Requirement already satisfied: gensim in /usr/local/lib/python3.7/dist-packages (from pyLDAvis) (3.6.0)\n",
            "Requirement already satisfied: scikit-learn in /usr/local/lib/python3.7/dist-packages (from pyLDAvis) (1.0.2)\n",
            "Requirement already satisfied: scipy in /usr/local/lib/python3.7/dist-packages (from pyLDAvis) (1.4.1)\n",
            "Collecting funcy\n",
            "  Downloading funcy-1.17-py2.py3-none-any.whl (33 kB)\n",
            "Requirement already satisfied: sklearn in /usr/local/lib/python3.7/dist-packages (from pyLDAvis) (0.0)\n",
            "Requirement already satisfied: numpy>=1.20.0 in /usr/local/lib/python3.7/dist-packages (from pyLDAvis) (1.21.6)\n",
            "Requirement already satisfied: joblib in /usr/local/lib/python3.7/dist-packages (from pyLDAvis) (1.1.0)\n",
            "Requirement already satisfied: pandas>=1.2.0 in /usr/local/lib/python3.7/dist-packages (from pyLDAvis) (1.3.5)\n",
            "Requirement already satisfied: python-dateutil>=2.7.3 in /usr/local/lib/python3.7/dist-packages (from pandas>=1.2.0->pyLDAvis) (2.8.2)\n",
            "Requirement already satisfied: pytz>=2017.3 in /usr/local/lib/python3.7/dist-packages (from pandas>=1.2.0->pyLDAvis) (2022.1)\n",
            "Requirement already satisfied: six>=1.5 in /usr/local/lib/python3.7/dist-packages (from python-dateutil>=2.7.3->pandas>=1.2.0->pyLDAvis) (1.15.0)\n",
            "Requirement already satisfied: smart-open>=1.2.1 in /usr/local/lib/python3.7/dist-packages (from gensim->pyLDAvis) (6.0.0)\n",
            "Requirement already satisfied: MarkupSafe>=0.23 in /usr/local/lib/python3.7/dist-packages (from jinja2->pyLDAvis) (2.0.1)\n",
            "Requirement already satisfied: packaging in /usr/local/lib/python3.7/dist-packages (from numexpr->pyLDAvis) (21.3)\n",
            "Requirement already satisfied: pyparsing!=3.0.5,>=2.0.2 in /usr/local/lib/python3.7/dist-packages (from packaging->numexpr->pyLDAvis) (3.0.8)\n",
            "Requirement already satisfied: threadpoolctl>=2.0.0 in /usr/local/lib/python3.7/dist-packages (from scikit-learn->pyLDAvis) (3.1.0)\n",
            "Building wheels for collected packages: pyLDAvis\n",
            "  Building wheel for pyLDAvis (PEP 517) ... \u001b[?25l\u001b[?25hdone\n",
            "  Created wheel for pyLDAvis: filename=pyLDAvis-3.3.1-py2.py3-none-any.whl size=136898 sha256=a18712a86ce56c5f1a2bc9a0fd067a0ccea8d407f3878da37d4786b4a36992e1\n",
            "  Stored in directory: /root/.cache/pip/wheels/c9/21/f6/17bcf2667e8a68532ba2fbf6d5c72fdf4c7f7d9abfa4852d2f\n",
            "Successfully built pyLDAvis\n",
            "Installing collected packages: funcy, pyLDAvis\n",
            "Successfully installed funcy-1.17 pyLDAvis-3.3.1\n"
          ]
        }
      ],
      "source": [
        "# pyLDAvis - LDA visualisation\n",
        "!pip install pyLDAvis"
      ]
    },
    {
      "cell_type": "code",
      "execution_count": null,
      "metadata": {
        "colab": {
          "base_uri": "https://localhost:8080/"
        },
        "id": "JABPmxLb49yu",
        "outputId": "f987f5b8-b563-4cc8-9bd5-5f33811564d2"
      },
      "outputs": [
        {
          "output_type": "stream",
          "name": "stderr",
          "text": [
            "/usr/local/lib/python3.7/dist-packages/past/types/oldstr.py:5: DeprecationWarning: Using or importing the ABCs from 'collections' instead of from 'collections.abc' is deprecated since Python 3.3,and in 3.9 it will stop working\n",
            "  from collections import Iterable\n"
          ]
        }
      ],
      "source": [
        "# import pyLDAvis.gensim as gensimvis\n",
        "#pyLDAvis.enable_notebook()\n",
        "\n",
        "import pyLDAvis\n",
        "import pyLDAvis.gensim_models as gensimvis\n",
        "pyLDAvis.enable_notebook()"
      ]
    },
    {
      "cell_type": "code",
      "execution_count": null,
      "metadata": {
        "colab": {
          "base_uri": "https://localhost:8080/",
          "height": 35
        },
        "id": "W7cLPScI49yu",
        "outputId": "0ad2b416-dbfc-4c0f-cfcd-c59eec512096"
      },
      "outputs": [
        {
          "output_type": "execute_result",
          "data": {
            "text/plain": [
              "'3.3.1'"
            ],
            "application/vnd.google.colaboratory.intrinsic+json": {
              "type": "string"
            }
          },
          "metadata": {},
          "execution_count": 48
        }
      ],
      "source": [
        "pyLDAvis.__version__"
      ]
    },
    {
      "cell_type": "code",
      "execution_count": null,
      "metadata": {
        "colab": {
          "base_uri": "https://localhost:8080/",
          "height": 916
        },
        "id": "19RW7pzaKj5r",
        "outputId": "b9ed22db-03c2-49c5-ee03-e77fd6031937"
      },
      "outputs": [
        {
          "output_type": "stream",
          "name": "stderr",
          "text": [
            "/usr/local/lib/python3.7/dist-packages/pyLDAvis/_prepare.py:247: FutureWarning: In a future version of pandas all arguments of DataFrame.drop except for the argument 'labels' will be keyword-only\n",
            "  by='saliency', ascending=False).head(R).drop('saliency', 1)\n"
          ]
        },
        {
          "output_type": "execute_result",
          "data": {
            "text/plain": [
              "PreparedData(topic_coordinates=              x         y  topics  cluster       Freq\n",
              "topic                                                \n",
              "4      0.275488  0.079292       1        1  49.886046\n",
              "3     -0.003472 -0.136403       2        1  15.613273\n",
              "1     -0.101109  0.189308       3        1  13.914285\n",
              "2      0.019363 -0.135142       4        1  13.358865\n",
              "0     -0.190270  0.002944       5        1   7.227531, topic_info=         Term         Freq        Total Category  logprob  loglift\n",
              "11     деньги  2063.000000  2063.000000  Default  30.0000  30.0000\n",
              "59        это  2041.000000  2041.000000  Default  29.0000  29.0000\n",
              "1625   кредит   687.000000   687.000000  Default  28.0000  28.0000\n",
              "102     очень   596.000000   596.000000  Default  27.0000  27.0000\n",
              "84      карту  1336.000000  1336.000000  Default  26.0000  26.0000\n",
              "...       ...          ...          ...      ...      ...      ...\n",
              "3089  паспорт    26.551120    84.272729   Topic5  -6.4715   1.4723\n",
              "6632    форме    22.347839    36.720219   Topic5  -6.6439   2.1307\n",
              "642    говорю    23.812746    64.935432   Topic5  -6.5804   1.6241\n",
              "732    москве    22.553207    65.158312   Topic5  -6.6347   1.5663\n",
              "6411     этих    22.434359    76.029696   Topic5  -6.6400   1.4067\n",
              "\n",
              "[297 rows x 6 columns], token_table=      Topic      Freq   Term\n",
              "term                        \n",
              "5034      4  0.974729  арест\n",
              "468       1  0.834828   банк\n",
              "468       2  0.085146   банк\n",
              "468       4  0.079824   банк\n",
              "0         1  0.712846  банка\n",
              "...     ...       ...    ...\n",
              "6411      1  0.657638   этих\n",
              "6411      3  0.039458   этих\n",
              "6411      5  0.289361   этих\n",
              "59        1  0.986034    это\n",
              "59        3  0.013715    это\n",
              "\n",
              "[404 rows x 3 columns], R=30, lambda_step=0.01, plot_opts={'xlab': 'PC1', 'ylab': 'PC2'}, topic_order=[5, 4, 2, 3, 1])"
            ],
            "text/html": [
              "\n",
              "<link rel=\"stylesheet\" type=\"text/css\" href=\"https://cdn.jsdelivr.net/gh/bmabey/pyLDAvis@3.3.1/pyLDAvis/js/ldavis.v1.0.0.css\">\n",
              "\n",
              "\n",
              "<div id=\"ldavis_el621403917255964965477368159\"></div>\n",
              "<script type=\"text/javascript\">\n",
              "\n",
              "var ldavis_el621403917255964965477368159_data = {\"mdsDat\": {\"x\": [0.2754876556781889, -0.0034722512890173795, -0.1011086950752047, 0.019362859219904608, -0.19026956853387095], \"y\": [0.07929235494828057, -0.13640296152952838, 0.18930833116366844, -0.1351421453593529, 0.00294442077693232], \"topics\": [1, 2, 3, 4, 5], \"cluster\": [1, 1, 1, 1, 1], \"Freq\": [49.88604638128421, 15.613272777699724, 13.914284805887458, 13.358865384483753, 7.227530650644853]}, \"tinfo\": {\"Term\": [\"\\u0434\\u0435\\u043d\\u044c\\u0433\\u0438\", \"\\u044d\\u0442\\u043e\", \"\\u043a\\u0440\\u0435\\u0434\\u0438\\u0442\", \"\\u043e\\u0447\\u0435\\u043d\\u044c\", \"\\u043a\\u0430\\u0440\\u0442\\u0443\", \"\\u0434\\u043e\\u043a\\u0443\\u043c\\u0435\\u043d\\u0442\\u044b\", \"\\u0431\\u0430\\u043d\\u043a\\u043e\\u043c\\u0430\\u0442\", \"\\u043a\\u0430\\u0440\\u0442\\u044b\", \"\\u043a\\u0440\\u0435\\u0434\\u0438\\u0442\\u0430\", \"\\u0440\\u0443\\u0431\\u043b\\u0435\\u0439\", \"\\u0433\\u043e\\u0434\\u0430\", \"\\u043e\\u0442\\u0434\\u0435\\u043b\\u0435\\u043d\\u0438\\u0435\", \"\\u0434\\u0435\\u043d\\u0435\\u0433\", \"\\u043e\\u0442\\u0432\\u0435\\u0442\", \"\\u043e\\u0442\\u0434\\u0435\\u043b\\u0435\\u043d\\u0438\\u044f\", \"\\u0431\\u0430\\u043d\\u043a\", \"\\u0441\\u043a\\u0430\\u0437\\u0430\\u043b\\u0438\", \"\\u0441\\u0447\\u0435\\u0442\", \"\\u043f\\u0440\\u043e\\u0441\\u0442\\u043e\", \"\\u043f\\u043e\\u0447\\u0435\\u043c\\u0443\", \"\\u0440\\u0443\\u0431\", \"\\u0437\\u0430\\u044f\\u0432\\u043b\\u0435\\u043d\\u0438\\u0435\", \"\\u0441\\u0431\\u0435\\u0440\\u0431\\u0430\\u043d\\u043a\", \"\\u0434\\u043e\\u0433\\u043e\\u0432\\u043e\\u0440\", \"\\u0441\\u0440\\u0435\\u0434\\u0441\\u0442\\u0432\", \"\\u0434\\u043d\\u0435\\u0439\", \"\\u043d\\u0430\\u043c\", \"\\u0434\\u0435\\u043d\\u0435\\u0436\\u043d\\u044b\\u0445_\\u0441\\u0440\\u0435\\u0434\\u0441\\u0442\\u0432\", \"\\u0441\\u0440\\u0435\\u0434\\u0441\\u0442\\u0432\\u0430\", \"\\u0441\\u0443\\u043c\\u043c\\u0430\", \"\\u0441\\u043a\\u0430\\u0437\\u0430\\u043b\\u0438\", \"\\u043f\\u0440\\u043e\\u0441\\u0442\\u043e\", \"\\u043f\\u043e\\u0447\\u0435\\u043c\\u0443\", \"\\u043d\\u0443\\u0436\\u043d\\u043e\", \"\\u043c\\u043e\\u0433\\u0443\", \"\\u043a\\u0430\\u0440\\u0442\\u0430\", \"\\u043e\\u043d\\u043b\\u0430\\u0439\\u043d\", \"\\u0434\\u043d\\u044f\", \"\\u043f\\u0440\\u0438\\u0448\\u043b\\u0430\", \"\\u0432\\u043e\\u043e\\u0431\\u0449\\u0435\", \"\\u043f\\u043e\\u043b\\u0443\\u0447\\u0438\\u0442\\u044c\", \"\\u0441\\u0434\\u0435\\u043b\\u0430\\u0442\\u044c\", \"\\u0441\\u0440\\u0430\\u0437\\u0443\", \"\\u0433\\u043e\\u0432\\u043e\\u0440\\u044f\\u0442\", \"\\u0435\\u0449\\u0451\", \"\\u0434\\u0435\\u043b\\u0430\\u0442\\u044c\", \"\\u0442\\u0435\\u043b\\u0435\\u0444\\u043e\\u043d\", \"\\u0434\\u0435\\u0432\\u0443\\u0448\\u043a\\u0430\", \"\\u043e\\u043f\\u043b\\u0430\\u0442\\u0438\\u0442\\u044c\", \"\\u043f\\u0440\\u0438\\u0448\\u043b\\u043e\\u0441\\u044c\", \"\\u0445\\u043e\\u0442\\u044f\", \"\\u0441\\u043d\\u043e\\u0432\\u0430\", \"\\u0434\\u0430\\u043d\\u043d\\u044b\\u0435\", \"\\u0432\\u0441\\u0451\", \"\\u043e\\u043a\\u0430\\u0437\\u0430\\u043b\\u043e\\u0441\\u044c\", \"\\u0440\\u0435\\u0448\\u0438\\u043b\\u0430\", \"\\u0437\\u0430\\u043a\\u0440\\u044b\\u0442\\u044c\", \"\\u0432\\u0437\\u044f\\u0442\\u044c\", \"\\u0433\\u043e\\u0432\\u043e\\u0440\\u0438\\u0442\", \"\\u0431\\u0443\\u0434\\u0443\", \"\\u044d\\u0442\\u043e\", \"\\u0441\\u0435\\u0433\\u043e\\u0434\\u043d\\u044f\", \"\\u0441\\u043e\\u0442\\u0440\\u0443\\u0434\\u043d\\u0438\\u0446\\u0430\", \"\\u043a\\u0430\\u0440\\u0442\\u0443\", \"\\u0441\\u043a\\u0430\\u0437\\u0430\\u043b\\u0430\", \"\\u043e\\u0442\\u0434\\u0435\\u043b\\u0435\\u043d\\u0438\\u0435\", \"\\u043e\\u0442\\u0434\\u0435\\u043b\\u0435\\u043d\\u0438\\u0438\", \"\\u043a\\u0430\\u0440\\u0442\\u044b\", \"\\u0431\\u0430\\u043d\\u043a\\u0435\", \"\\u0441\\u0431\\u0435\\u0440\\u0431\\u0430\\u043d\\u043a\", \"\\u0431\\u0430\\u043d\\u043a\", \"\\u0438\\u0442\\u043e\\u0433\\u0435\", \"\\u0431\\u0430\\u043d\\u043a\\u0430\", \"\\u0434\\u0435\\u043d\\u044c\\u0433\\u0438\", \"\\u0441\\u0431\\u0435\\u0440\\u0431\\u0430\\u043d\\u043a\\u0430\", \"\\u0432\\u043e\\u043f\\u0440\\u043e\\u0441\", \"\\u0441\\u043c\\u0441\", \"\\u0432\\u0440\\u0435\\u043c\\u044f\", \"\\u0434\\u0435\\u043d\\u0435\\u0433\", \"\\u0434\\u0435\\u043d\\u044c\", \"\\u043e\\u0442\\u0432\\u0435\\u0442\", \"\\u0437\\u0430\\u044f\\u0432\\u043b\\u0435\\u043d\\u0438\\u0435\", \"\\u0441\\u043e\\u0442\\u0440\\u0443\\u0434\\u043d\\u0438\\u043a\\u0438\", \"\\u0434\\u043e\\u0433\\u043e\\u0432\\u043e\\u0440\", \"\\u0441\\u0442\\u0440\\u0430\\u0445\\u043e\\u0432\\u043a\\u0438\", \"\\u0441\\u0442\\u0440\\u0430\\u0445\\u043e\\u0432\\u043a\\u0443\", \"\\u0434\\u043e\\u0433\\u043e\\u0432\\u043e\\u0440\\u0430\", \"\\u0438\\u043f\\u043e\\u0442\\u0435\\u043a\\u0435\", \"\\u043e\\u0444\\u043e\\u0440\\u043c\\u043b\\u0435\\u043d\\u0438\\u0438\", \"\\u0438\\u043f\\u043e\\u0442\\u0435\\u043a\\u0438\", \"\\u0441\\u0442\\u0440\\u0430\\u0445\\u043e\\u0432\\u0430\\u043d\\u0438\\u0435\", \"\\u0434\\u043e\\u043a\\u0443\\u043c\\u0435\\u043d\\u0442\\u044b\", \"\\u0438\\u043f\\u043e\\u0442\\u0435\\u043a\\u0430\", \"\\u0437\\u0430\\u043a\\u043b\\u0430\\u0434\\u043d\\u043e\\u0439\", \"\\u0441\\u043f\\u0440\\u0430\\u0432\\u043a\\u0438\", \"\\u0434\\u043e\\u0437\\u0432\\u043e\\u043d\\u0438\\u0442\\u044c\\u0441\\u044f\", \"\\u0438\\u043f\\u043e\\u0442\\u0435\\u0447\\u043d\\u044b\\u0439\", \"\\u043e\\u0442\\u043d\\u043e\\u0448\\u0435\\u043d\\u0438\\u0438\", \"\\u043a\\u0440\\u0435\\u0434\\u0438\\u0442\\u043d\\u0430\\u044f_\\u0438\\u0441\\u0442\\u043e\\u0440\\u0438\\u044f\", \"\\u0434\\u043e\\u0433\\u043e\\u0432\\u043e\\u0440\\u0435\", \"\\u043e\\u0434\\u043e\\u0431\\u0440\\u0435\\u043d\\u0438\\u0435\", \"\\u0434\\u043e\\u0441\\u0440\\u043e\\u0447\\u043d\\u043e\", \"\\u043f\\u043e\\u0434\\u043f\\u0438\\u0441\\u044c\", \"\\u0440\\u0435\\u0444\\u0438\\u043d\\u0430\\u043d\\u0441\\u0438\\u0440\\u043e\\u0432\\u0430\\u043d\\u0438\\u0435\", \"\\u0438\\u043f\\u043e\\u0442\\u0435\\u0447\\u043d\\u044b\\u0439_\\u043a\\u0440\\u0435\\u0434\\u0438\\u0442\", \"\\u043e\\u0431\\u0441\\u043b\\u0443\\u0436\\u0438\\u0432\\u0430\\u043d\\u0438\\u044e\", \"\\u0434\\u0440\\u0443\\u0433\\u043e\\u043c_\\u0431\\u0430\\u043d\\u043a\\u0435\", \"\\u0441\\u0442\\u0430\\u0432\\u043a\\u0438\", \"\\u043e\\u0442\\u043a\\u0430\\u0437\\u0430\", \"\\u0441\\u0442\\u0440\\u0430\\u043d\\u044b\", \"\\u0441\\u0442\\u0440\\u0430\\u0445\\u043e\\u0432\\u0430\\u043d\\u0438\\u044f\", \"\\u0438\\u044e\\u043d\\u044f\", \"\\u043e\\u0442\\u0432\\u0435\\u0447\\u0430\\u0442\\u044c\", \"\\u043a\\u0440\\u0435\\u0434\\u0438\\u0442\\u0430\", \"\\u0434\\u043e\\u043a\\u0443\\u043c\\u0435\\u043d\\u0442\\u043e\\u0432\", \"\\u0436\\u0438\\u0432\\u0443\", \"\\u0437\\u0430\\u044f\\u0432\\u043a\\u0438\", \"\\u043a\\u0432\\u0430\\u0440\\u0442\\u0438\\u0440\\u044b\", \"\\u043a\\u0440\\u0435\\u0434\\u0438\\u0442\\u0443\", \"\\u0438\\u043f\\u043e\\u0442\\u0435\\u043a\\u0443\", \"\\u043a\\u0440\\u0435\\u0434\\u0438\\u0442\", \"\\u043a\\u0432\\u0430\\u0440\\u0442\\u0438\\u0440\\u0443\", \"\\u0434\\u0430\\u0442\\u0443\", \"\\u0433\\u043e\\u0434\\u0430\", \"\\u0434\\u0430\\u043d\\u043d\\u044b\\u0439\", \"\\u0441\\u0442\\u0440\\u0430\\u0445\\u043e\\u0432\\u043a\\u0430\", \"\\u0442\\u0430\\u043a\\u0436\\u0435\", \"\\u043d\\u0430\\u043c\", \"\\u043c\\u0435\\u043d\\u0435\\u0434\\u0436\\u0435\\u0440\", \"\\u0431\\u0430\\u043d\\u043a\\u0430\", \"\\u0441\\u0440\\u043e\\u043a\", \"\\u0441\\u0432\\u044f\\u0437\\u0438\", \"\\u0441\\u043e\\u0442\\u0440\\u0443\\u0434\\u043d\\u0438\\u043a\", \"\\u0441\\u0443\\u043c\\u043c\\u0443\", \"\\u0441\\u0431\\u0435\\u0440\\u0431\\u0430\\u043d\\u043a\\u0430\", \"\\u0434\\u043d\\u0435\\u0439\", \"\\u0431\\u0430\\u043d\\u043a\", \"\\u043e\\u0442\\u0432\\u0435\\u0442\\u0430\", \"\\u0441\\u0431\\u0435\\u0440\\u0431\\u0430\\u043d\\u043a\", \"\\u0431\\u0430\\u043d\\u043a\\u043e\\u043c\", \"\\u043b\\u0435\\u0442\", \"\\u0441\\u0443\\u043c\\u043c\\u0430\", \"\\u0443\\u043b\\u0438\\u0446\\u0435\", \"\\u0440\\u0443\\u043a\\u043e\\u0432\\u043e\\u0434\\u0441\\u0442\\u0432\\u043e\", \"\\u043c\\u0435\\u043d\\u0435\\u0434\\u0436\\u0435\\u0440\\u0443\", \"\\u043e\\u0431\\u0440\\u0430\\u0442\\u0438\\u043b\\u0438\\u0441\\u044c\", \"\\u043a\\u0430\\u0441\\u0441\\u0438\\u0440\", \"\\u043e\\u0444\\u043e\\u0440\\u043c\\u043b\\u0435\\u043d\\u0438\\u0435\", \"\\u043f\\u043e\\u043c\\u043e\\u0449\\u044c\", \"\\u043a\\u043b\\u0438\\u0435\\u043d\\u0442\\u0430\\u043c\", \"\\u0431\\u043b\\u0430\\u0433\\u043e\\u0434\\u0430\\u0440\\u043d\\u043e\\u0441\\u0442\\u044c\", \"\\u043d\\u0435\\u043a\\u043e\\u043c\\u043f\\u0435\\u0442\\u0435\\u043d\\u0442\\u043d\\u043e\\u0441\\u0442\\u044c\", \"\\u043a\\u043e\\u043d\\u0441\\u0443\\u043b\\u044c\\u0442\\u0430\\u043d\\u0442\", \"\\u0441\\u043e\\u0442\\u0440\\u0443\\u0434\\u043d\\u0438\\u043a\\u0430\\u043c\", \"\\u0440\\u0443\\u043a\\u043e\\u0432\\u043e\\u0434\\u0438\\u0442\\u0435\\u043b\\u044e\", \"\\u0441\\u0434\\u0435\\u043b\\u043a\\u0438\", \"\\u0441\\u0442\\u0430\\u0432\\u043a\\u0430\", \"\\u0445\\u043e\\u0447\\u0443_\\u0432\\u044b\\u0440\\u0430\\u0437\\u0438\\u0442\\u044c\", \"\\u043d\\u0430\\u0448\\u0435\\u0439\", \"\\u0436\\u0434\\u0435\\u043c\", \"\\u0441\\u0434\\u0435\\u043b\\u043a\\u0443\", \"\\u0442\\u0430\\u043a\\u0438\\u043c\\u0438\", \"\\u0441\\u0442\\u0440\\u0430\\u0445\\u043e\\u0432\\u0430\\u043d\\u0438\\u0435_\\u0436\\u0438\\u0437\\u043d\\u0438\", \"\\u043e\\u0442\\u0434\\u0435\\u043b\\u0435\\u043d\\u0438\\u0435\\u043c\", \"\\u0444\\u0438\\u043b\\u0438\\u0430\\u043b\\u0430\", \"\\u043c\\u0443\\u0436\\u0435\\u043c\", \"\\u0433\\u0440\\u0443\\u0431\\u043e\\u0439_\\u0444\\u043e\\u0440\\u043c\\u0435\", \"\\u043f\\u0440\\u0438\\u0434\\u0442\\u0438\", \"\\u043a\\u043e\\u043d\\u0441\\u0443\\u043b\\u044c\\u0442\\u0430\\u043d\\u0442\\u0443\", \"\\u043e\\u0442\\u043d\\u043e\\u0448\\u0435\\u043d\\u0438\\u0435_\\u043a\\u043b\\u0438\\u0435\\u043d\\u0442\\u0430\\u043c\", \"\\u043a\\u0440\\u0435\\u0434\\u0438\\u0442\\u043e\\u043c\", \"\\u0436\\u0435\\u043b\\u0430\\u044e\", \"\\u0432\\u043e\\u0441\\u043f\\u043e\\u043b\\u044c\\u0437\\u043e\\u0432\\u0430\\u0442\\u044c\\u0441\\u044f\", \"\\u043e\\u0447\\u0435\\u043d\\u044c\", \"\\u0434\\u0440\\u0443\\u0433\\u0438\\u0435\", \"\\u043a\\u043b\\u0438\\u0435\\u043d\\u0442\\u0430\\u043c\\u0438\", \"\\u0441\\u043e\\u0442\\u0440\\u0443\\u0434\\u043d\\u0438\\u043a\\u0443\", \"\\u0441\\u043f\\u0430\\u0441\\u0438\\u0431\\u043e\", \"\\u043e\\u0444\\u0438\\u0441\\u0430\", \"\\u043e\\u0442\\u0434\\u0435\\u043b\\u0435\\u043d\\u0438\\u044f\", \"\\u0440\\u0430\\u0431\\u043e\\u0442\\u0443\", \"\\u0440\\u0430\\u0431\\u043e\\u0442\\u0435\", \"\\u043a\\u043b\\u0438\\u0435\\u043d\\u0442\\u043e\\u0432\", \"\\u0441\\u043e\\u0442\\u0440\\u0443\\u0434\\u043d\\u0438\\u043a\\u043e\\u0432\", \"\\u043d\\u0430\\u043c\", \"\\u043e\\u0431\\u0441\\u043b\\u0443\\u0436\\u0438\\u0432\\u0430\\u043d\\u0438\\u044f\", \"\\u0431\\u044b\\u0441\\u0442\\u0440\\u043e\", \"\\u0447\\u0435\\u043b\\u043e\\u0432\\u0435\\u043a\", \"\\u0441\\u0431\\u0435\\u0440\\u0431\\u0430\\u043d\\u043a\\u0430\", \"\\u0440\\u0430\\u0431\\u043e\\u0442\\u044b\", \"\\u043e\\u0431\\u0441\\u043b\\u0443\\u0436\\u0438\\u0432\\u0430\\u043d\\u0438\\u0435\", \"\\u0431\\u0430\\u043d\\u043a\\u0430\", \"\\u043c\\u0435\\u043d\\u0435\\u0434\\u0436\\u0435\\u0440\", \"\\u0443\\u043b\", \"\\u0432\\u0441\\u0435\\u043c\", \"\\u043a\\u043e\\u0442\\u043e\\u0440\\u044b\\u0435\", \"\\u0431\\u0430\\u043d\\u043a\\u043e\\u043c\\u0430\\u0442\", \"\\u0434\\u0435\\u043d\\u0435\\u0436\\u043d\\u044b\\u0435_\\u0441\\u0440\\u0435\\u0434\\u0441\\u0442\\u0432\\u0430\", \"\\u043f\\u0440\\u0435\\u0442\\u0435\\u043d\\u0437\\u0438\\u044e\", \"\\u0431\\u0430\\u043d\\u043a\\u043e\\u043c\\u0430\\u0442\\u0430\", \"\\u043a\\u0443\\u043f\\u044e\\u0440\\u044b\", \"\\u0447\\u0435\\u043a\", \"\\u0441\\u043f\\u0438\\u0441\\u0430\\u043b\\u0438\", \"\\u043f\\u0440\\u0435\\u0442\\u0435\\u043d\\u0437\\u0438\\u0438\", \"\\u0432\\u043e\\u0437\\u0432\\u0440\\u0430\\u0442\\u0430\", \"\\u0432\\u043e\\u0437\\u0432\\u0440\\u0430\\u0442\", \"\\u0442\\u044b\\u0441\\u044f\\u0447_\\u0440\\u0443\\u0431\\u043b\\u0435\\u0439\", \"\\u0441\\u0431\\u043e\\u0439\", \"\\u0440\\u0435\\u043a\\u0432\\u0438\\u0437\\u0438\\u0442\\u044b\", \"\\u0441\\u0440\\u043e\\u043a_\\u0440\\u0430\\u0441\\u0441\\u043c\\u043e\\u0442\\u0440\\u0435\\u043d\\u0438\\u044f\", \"\\u0440\\u0430\\u0441\\u0441\\u043c\\u043e\\u0442\\u0440\\u0435\\u043d\\u0438\\u044f\", \"\\u0447\\u0435\\u043a\\u0430\", \"\\u043f\\u0440\\u0438\\u043d\\u044f\\u043b\", \"\\u0441\\u043f\\u0438\\u0441\\u0430\\u043d\\u044b\", \"\\u0437\\u0430\\u0447\\u0438\\u0441\\u043b\\u0435\\u043d\\u044b\", \"\\u0432\\u044b\\u0434\\u0430\\u043b\", \"\\u043c\\u043e\\u0435_\\u043e\\u0431\\u0440\\u0430\\u0449\\u0435\\u043d\\u0438\\u0435\", \"\\u0441\\u043d\\u044f\\u0442\\u0438\\u0435\", \"\\u0447\\u0438\\u0441\\u043b\\u0430\", \"\\u0437\\u0430\\u0431\\u0440\\u0430\\u043b\", \"\\u043d\\u0435\\u043e\\u0431\\u0445\\u043e\\u0434\\u0438\\u043c\\u043e\\u0441\\u0442\\u0438\", \"\\u0432\\u044b\\u0434\\u0430\\u043b_\\u0447\\u0435\\u043a\", \"\\u0430\\u0440\\u0435\\u0441\\u0442\", \"\\u0441\\u043b\\u0443\\u0436\\u0431\\u0443\", \"\\u0431\\u0430\\u043d\\u043a\\u043e\\u043c\\u0430\\u0442_\\u043f\\u0440\\u0438\\u043d\\u044f\\u043b\", \"\\u0434\\u0430\\u043d\\u043d\\u0430\\u044f\", \"\\u0434\\u0435\\u043d\\u0435\\u0436\\u043d\\u044b\\u0445_\\u0441\\u0440\\u0435\\u0434\\u0441\\u0442\\u0432\", \"\\u0440\\u0430\\u0437\\u043c\\u0435\\u0440\\u0435\", \"\\u0441\\u0440\\u0435\\u0434\\u0441\\u0442\\u0432\", \"\\u043e\\u0431\\u0440\\u0430\\u0449\\u0435\\u043d\\u0438\\u0435\", \"\\u0441\\u0440\\u0435\\u0434\\u0441\\u0442\\u0432\\u0430\", \"\\u0432\\u0435\\u0440\\u043d\\u0443\\u0442\\u044c\", \"\\u0431\\u0430\\u043d\\u043a\\u043e\\u043c\\u0430\\u0442\\u0435\", \"\\u0434\\u0435\\u043d\\u044c\\u0433\\u0438\", \"\\u0440\\u0443\\u0431\", \"\\u043e\\u0431\\u0440\\u0430\\u0449\\u0435\\u043d\\u0438\\u044f\", \"\\u0440\\u0443\\u0431\\u043b\\u0435\\u0439\", \"\\u0441\\u0443\\u043c\\u043c\\u0430\", \"\\u043e\\u043f\\u0435\\u0440\\u0430\\u0446\\u0438\\u0438\", \"\\u043e\\u0442\\u0432\\u0435\\u0442\", \"\\u0434\\u0435\\u043d\\u0435\\u0433\", \"\\u0437\\u0430\\u044f\\u0432\\u043b\\u0435\\u043d\\u0438\\u0435\", \"\\u0441\\u0447\\u0435\\u0442\", \"\\u0434\\u043d\\u0435\\u0439\", \"\\u043c\\u043e\\u0438\", \"\\u0441\\u0431\\u0435\\u0440\\u0431\\u0430\\u043d\\u043a\\u0430\", \"\\u0440\", \"\\u0440\\u043e\\u0441\\u0441\\u0438\\u0438\", \"\\u0431\\u0430\\u043d\\u043a\", \"\\u043a\\u0430\\u0440\\u0442\\u044b\", \"\\u0431\\u0430\\u043d\\u043a\\u0430\", \"\\u0441\\u0431\\u0435\\u0440\\u0431\\u0430\\u043d\\u043a\", \"\\u0441\\u0443\\u043c\\u043c\\u0443\", \"\\u043a\\u0430\\u0440\\u0442\\u043e\\u0447\\u043a\\u0443\", \"\\u043f\\u043e\\u0434\\u043e\\u0448\\u043b\\u0430\", \"\\u043d\\u0435\\u0451\", \"\\u0445\", \"\\u043a\\u0430\\u043a\\u043e\\u043c_\\u043e\\u0441\\u043d\\u043e\\u0432\\u0430\\u043d\\u0438\\u0438\", \"\\u0440\\u044f\\u0434\\u043e\\u043c\", \"\\u0442\\u0443\", \"\\u043f\\u0430\\u0441\\u043f\\u043e\\u0440\\u0442\\u0443\", \"\\u0441\\u044b\\u043d\\u0430\", \"\\u043e\\u0431\\u044f\\u0437\\u0430\\u043d\\u044b\", \"\\u0446\\u0441\\u043a\\u043e\", \"\\u043f\\u0435\\u043d\\u0441\\u0438\\u0438\", \"\\u0437\\u0430\\u0439\\u0442\\u0438\", \"\\u0434\\u043e\\u0447\\u044c\", \"\\u043e\\u0434\\u043d\\u043e\\u043c\\u0443\", \"\\u043f\\u0435\\u043d\\u0441\\u0438\\u044e\", \"\\u043f\\u0438\\u043d\\u043a\\u043e\\u0434\", \"\\u043f\\u043e\\u0441\\u0435\\u0442\\u0438\\u043b\\u0430\", \"\\u043a\\u043e\\u043f\\u0435\\u0439\\u043a\\u0438\", \"\\u043f\\u0435\\u0440\\u0435\\u0437\\u0432\\u043e\\u043d\\u0438\\u0442\\u044c\", \"\\u0445\\u0430\\u043c\\u0441\\u0442\\u0432\\u043e\", \"\\u0434\\u043e\\u0432\\u0435\\u0440\\u0435\\u043d\\u043d\\u043e\\u0441\\u0442\\u044c\", \"\\u0440\\u0430\\u0437\\u0433\\u043e\\u0432\\u0430\\u0440\\u0438\\u0432\\u0430\\u043b\\u0430\", \"\\u043d\\u0430\\u0440\\u043e\\u0434\\u0443\", \"\\u043f\\u043e\\u0437\\u043e\\u0440\", \"\\u0441\\u0431\\u0435\\u0440\\u043a\\u043d\\u0438\\u0436\\u043a\\u0438\", \"\\u043e\\u043f\\u0435\\u0440\\u0430\\u0446\\u0438\\u043e\\u043d\\u0438\\u0441\\u0442\\u043a\\u0430\", \"\\u0441\\u043d\\u044f\\u043b\\u0430\", \"\\u0434\\u0430\\u043b\\u0435\\u043a\\u043e\", \"\\u0447\\u0443\\u0434\\u043e\", \"\\u0441\\u043a\\u043e\", \"\\u0434\\u0440\\u0443\\u0433\\u043e\\u043c\\u0443\", \"\\u043a\\u0430\\u0440\\u0442\\u043e\\u0447\\u043a\\u0438\", \"\\u0447\\u0430\\u0441\\u0430\", \"\\u0434\\u0435\\u043b\\u0430\\u044e\\u0442\", \"\\u0437\\u0430\\u043b\\u0435\", \"\\u0441\\u0440\\u043e\\u0447\\u043d\\u043e\", \"\\u043e\\u0447\\u0435\\u0440\\u0435\\u0434\\u0438\", \"\\u043e\\u0431\\u0440\\u0430\\u0449\\u0435\\u043d\\u0438\\u0438\", \"\\u043f\\u0430\\u0441\\u043f\\u043e\\u0440\\u0442\", \"\\u0444\\u043e\\u0440\\u043c\\u0435\", \"\\u0433\\u043e\\u0432\\u043e\\u0440\\u044e\", \"\\u043c\\u043e\\u0441\\u043a\\u0432\\u0435\", \"\\u044d\\u0442\\u0438\\u0445\"], \"Freq\": [2063.0, 2041.0, 687.0, 596.0, 1336.0, 363.0, 308.0, 1297.0, 283.0, 442.0, 600.0, 1005.0, 513.0, 497.0, 408.0, 1503.0, 540.0, 444.0, 534.0, 528.0, 267.0, 481.0, 1350.0, 170.0, 174.0, 538.0, 309.0, 168.0, 171.0, 334.0, 539.867023010988, 534.0110067787903, 527.9469485179754, 427.9332120698533, 409.2523785049967, 357.17070343321933, 355.7016927949267, 339.49697865446853, 329.49810692055473, 315.4324024681214, 311.86200735090415, 303.1117463867268, 314.6082338482565, 257.491538950769, 285.048501389718, 242.5689782884533, 209.6521199972711, 205.77819922878257, 204.74525759200057, 194.42244770334466, 309.5493258765928, 265.54435432338516, 178.5186248978315, 281.46715524023335, 166.2138160910909, 152.7977533538473, 149.6264088872518, 150.7591649075595, 148.86320193315774, 143.13657063005417, 2013.0080486275167, 421.64218883801465, 187.0591473888466, 1301.814470471986, 334.7255007992448, 958.1406246715047, 514.4689034897874, 1182.5031670095482, 419.375518249905, 1159.7076968498006, 1255.375583724529, 287.8704196566971, 1432.1656281764192, 1424.2488869654535, 1297.1664882627604, 424.64815064980064, 386.0462860119167, 358.0671433491565, 370.11989911472915, 338.19750213284004, 342.46719100071647, 333.5439754463204, 316.23157956346665, 170.1547552333281, 129.90129724643947, 115.43595311571676, 98.79025611509879, 73.24440272966, 64.2467930754059, 63.62157872455059, 61.86663423978339, 359.2863072841551, 58.2746507327719, 55.37625340220725, 56.186135137291664, 48.30482643900797, 46.06176090529597, 45.95375768057853, 44.803704637715015, 42.93089332437428, 41.91829618417572, 42.707496726229714, 42.66161478076522, 41.218433561336454, 49.717285877848646, 47.67543786280087, 39.83379509704829, 39.417887715021884, 38.2198764057071, 38.24738226293729, 36.041740148757185, 37.07917328229753, 36.40913457151153, 275.82737223491154, 136.63789262963647, 38.43306406594372, 52.79491589800134, 61.95603259245717, 104.91993553551308, 134.35500144639437, 388.7836714579909, 73.45149092720574, 49.90901534343817, 265.7619724256213, 66.74305321926184, 59.93356213439407, 115.71143472223226, 133.56213173003943, 95.10054307141253, 308.5064198953994, 85.0793805541648, 72.23667048291695, 113.45711129842981, 111.85926790720242, 182.06713968555604, 114.67603690126002, 127.6081928086138, 66.77604557124087, 91.35726871628367, 69.24674667858395, 71.45214921726559, 66.546027192652, 93.8960082480366, 72.09669822330952, 68.58937383614882, 68.65225605433139, 68.13271798202068, 65.97048678903397, 58.29133923363186, 131.87648333546346, 56.31330377591976, 56.6331852274257, 54.18160965915555, 78.05361315337743, 45.12058438919152, 43.727889055791394, 42.58187544016554, 41.372737248609326, 41.355452909548134, 41.4392471391121, 39.89473583493279, 39.35914444704177, 39.309541894659176, 39.58027088674271, 36.53973136878877, 38.87041273734002, 34.21942522001228, 34.229338805981726, 33.415432243806265, 33.38250621264118, 33.00424731950302, 31.46170565289312, 49.32433338201982, 310.77550926671233, 63.43986797244637, 64.17021496890891, 60.7815420105629, 109.5503414243015, 72.46275074924509, 181.41525331395533, 106.18153026042977, 100.7009906418743, 140.11395389672066, 128.5208825923209, 120.92254403454163, 65.63893369614996, 66.29110685462842, 64.30039954896004, 199.77299868709085, 66.99953009228622, 82.58931147477263, 150.28847068072514, 72.94475799318255, 73.54159664619559, 63.37539696458381, 65.47916223612562, 307.78463700542505, 108.88541963715662, 89.94921513222104, 79.22572628787572, 79.4944942005648, 70.81017709383683, 69.4561585504908, 66.16124196226936, 64.28359689626866, 53.58712149858278, 53.01643750752669, 52.797090832156464, 54.88847231573743, 49.158940223569196, 46.73131261148454, 44.956258809889015, 47.38414126581008, 42.723461157434166, 41.25471118025863, 39.60844215738449, 37.858425839369, 37.36282844533048, 35.47043937070734, 34.95686625272959, 36.33166010882642, 30.962669257566276, 31.027484539959854, 29.910679440949746, 28.56312617493177, 34.91467297755356, 155.49097974223415, 119.92408013275121, 152.16794907745108, 133.409714211664, 141.98845210233964, 143.665132489692, 73.59374398421846, 638.3441875302385, 146.8598548229261, 87.40520144806469, 182.43745787353828, 147.15799995119204, 111.73963367105779, 151.85792601037508, 142.65632023640228, 135.7596403073662, 128.93953171769894, 136.05726836118146, 109.39124402515193, 185.73475300423286, 67.93860413194831, 83.57665663995671, 119.96618476659285, 114.86969215084459, 117.72861156224701, 98.68334128210589, 73.8236500585495, 51.76108737801189, 43.295807011065875, 43.166137888635724, 34.20283473426582, 28.953061657800962, 27.031835726589392, 27.34445876493305, 26.672272274095963, 25.56793064181084, 28.090062213595548, 23.800102810851925, 22.865380907616345, 22.92919037698949, 26.88861660848645, 23.82427539567035, 21.514887348336245, 20.860828797440693, 22.391089096244674, 20.9238589572264, 21.860177446001362, 19.6005553096289, 19.026749660401343, 20.196393439654003, 18.685318144308876, 19.77764641956925, 18.11003380509491, 18.31406304977423, 19.649276146451495, 18.006341668912555, 17.80428667518807, 20.77815603959223, 49.408723404275364, 33.31971711332635, 58.5604156593737, 28.267229256264933, 24.07847419371301, 27.744464388554874, 33.73130847281468, 25.67367495990677, 26.551119606695668, 22.347839412371805, 23.812745610235755, 22.55320747095774, 22.434358762414654], \"Total\": [2063.0, 2041.0, 687.0, 596.0, 1336.0, 363.0, 308.0, 1297.0, 283.0, 442.0, 600.0, 1005.0, 513.0, 497.0, 408.0, 1503.0, 540.0, 444.0, 534.0, 528.0, 267.0, 481.0, 1350.0, 170.0, 174.0, 538.0, 309.0, 168.0, 171.0, 334.0, 540.6308635926098, 534.7785629645074, 528.712189777294, 428.69820672238376, 410.0175283154951, 357.9308573082571, 356.4656308721581, 340.2660149663905, 330.26400294387383, 316.1958410017361, 312.6268498854923, 303.8775112916644, 315.4691199033452, 258.25659140483236, 285.8954920682744, 243.3390370421871, 210.4167537950143, 206.5412588089073, 205.5139204852388, 195.20019202274318, 310.80860922107036, 266.62598688875033, 179.33189058822205, 282.7564788532435, 166.9820213553492, 153.56541750633832, 150.3881587068426, 151.53046679186278, 149.63465671110995, 143.90403397806773, 2041.5107805616847, 427.0331359666235, 188.17800624315026, 1336.218293702727, 341.1220719664392, 1005.3984980400942, 534.0204198218607, 1297.930341033263, 439.3209895905163, 1350.644893780437, 1503.303792244276, 299.6323614033543, 2008.8481107351322, 2063.151573343846, 1866.1972324831286, 481.32157618431404, 446.37185387646934, 438.658252747019, 513.3351382423375, 430.97085454665824, 497.51741096529213, 481.28156144209817, 446.54843156715066, 170.93530372935604, 130.6726782132675, 116.21353398213574, 99.56398197011386, 74.01329043529155, 65.02146921792342, 64.3891577760966, 62.63741198483922, 363.9973379548747, 59.049371773057075, 56.140717946430996, 56.972184723939854, 49.09707753344324, 46.83378511886701, 46.73990702663665, 45.590310095867636, 43.70675231824212, 42.688580807580344, 43.492293171759925, 43.45296254143512, 41.988318205929936, 50.663907289648975, 48.58876327077425, 40.61348830802318, 40.19292862637678, 39.00691133632225, 39.052570451273546, 36.80781049428325, 37.89734893209258, 37.2358194086803, 283.0941954065019, 143.66782774503545, 39.348181724877335, 56.04359433796513, 67.13344575981539, 121.5820944871166, 165.6267789215699, 687.0246442558444, 89.35224101195885, 54.66296997626997, 600.4845840938718, 84.52887266007679, 74.429431860197, 225.34651000164976, 309.45411874982193, 190.14325329331635, 2008.8481107351322, 162.51250387779902, 121.69251727512247, 369.91218455227425, 367.7790012840638, 1866.1972324831286, 538.4731800563338, 1503.303792244276, 128.21296717515906, 1350.644893780437, 168.5081506931828, 268.6893567796932, 334.13278444734345, 94.71102175864175, 72.91887527193033, 69.3889208931064, 69.4616269553735, 68.93781285093367, 66.77599234403944, 59.08952100938078, 133.71430772266027, 57.09828482951795, 57.46498530935931, 54.99467501586524, 79.32273713273449, 45.917271597016175, 44.51668112815901, 43.38054110900643, 42.15690233501643, 42.15489395638944, 42.246370422110864, 40.68589107780242, 40.16256724767698, 40.12130709080061, 40.39917145031252, 37.339985869166355, 39.75711711302671, 35.031717324553675, 35.042010693123636, 34.22803348595649, 34.197408530241255, 33.81324615267984, 32.26387825040577, 52.83775375112966, 596.6350972618455, 80.78812544017684, 82.8810256058387, 77.20483109208337, 178.92944260730965, 103.16822908418928, 408.79144992967866, 186.99504417367524, 174.7961953476334, 329.11059708948784, 344.7777464542147, 309.45411874982193, 103.44744611224218, 109.6386266946119, 112.22561639530639, 1866.1972324831286, 130.70158715526688, 264.86913447400843, 2008.8481107351322, 190.14325329331635, 230.3052495634714, 116.17797469263147, 311.84092971617036, 308.5638204598696, 109.66323074995395, 90.73730798751035, 80.00283685438617, 80.27862410230611, 71.58962621907776, 70.25050640013748, 66.9542198721803, 65.06660407595345, 54.36713125228219, 53.79681820069947, 53.577472793561185, 55.7012344548956, 49.929262318162486, 47.52419247522893, 45.73913735553644, 48.2099474372531, 43.50198907231986, 42.026769862844894, 40.40460894329288, 38.63383614828096, 38.14579008538967, 36.265801984683264, 35.743477569007815, 37.15576017837784, 31.732337762746354, 31.80372494823061, 30.71409163485047, 29.33161937024842, 35.8648594550817, 168.02617642636574, 134.12351233492538, 174.90030365379985, 154.2001529260937, 171.77307900837246, 177.41417591479507, 89.58194467676192, 2063.151573343846, 267.79047088090357, 130.07877663873188, 442.1254102854131, 334.13278444734345, 214.34915583842272, 497.51741096529213, 513.3351382423375, 481.28156144209817, 444.8875308714576, 538.4731800563338, 366.9964424536226, 1866.1972324831286, 107.83395763653255, 259.60636402598305, 1503.303792244276, 1297.930341033263, 2008.8481107351322, 1350.644893780437, 367.7790012840638, 52.605020770245574, 44.135345942219345, 44.02015286007546, 35.045604913877334, 29.82002467905621, 27.8605032313398, 28.188352931395674, 27.52383550719084, 26.440806063842366, 29.077401889066426, 24.653176128916737, 23.688495524797535, 23.770956789823003, 27.879745632291176, 24.70927519303436, 22.332295852673145, 21.69585745082961, 23.307763326092722, 21.78875874174366, 22.786050586950246, 20.442550652040467, 19.844574527662505, 21.07304917650252, 19.520754537233213, 20.664606201839465, 18.937732288647737, 19.153315739327276, 20.58221085884719, 18.861582050622328, 18.660427954719964, 22.044966358035254, 74.82336211568534, 47.63374667928952, 119.44468264360268, 40.01854361385023, 36.94331771196604, 57.62638005727104, 153.32873245422905, 55.7264738290596, 84.27272913227961, 36.72021853007401, 64.93543210242731, 65.15831168828221, 76.0296964547365], \"Category\": [\"Default\", \"Default\", \"Default\", \"Default\", \"Default\", \"Default\", \"Default\", \"Default\", \"Default\", \"Default\", \"Default\", \"Default\", \"Default\", \"Default\", \"Default\", \"Default\", \"Default\", \"Default\", \"Default\", \"Default\", \"Default\", \"Default\", \"Default\", \"Default\", \"Default\", \"Default\", \"Default\", \"Default\", \"Default\", \"Default\", \"Topic1\", \"Topic1\", \"Topic1\", \"Topic1\", \"Topic1\", \"Topic1\", \"Topic1\", \"Topic1\", \"Topic1\", \"Topic1\", \"Topic1\", \"Topic1\", \"Topic1\", \"Topic1\", \"Topic1\", \"Topic1\", \"Topic1\", \"Topic1\", \"Topic1\", \"Topic1\", \"Topic1\", \"Topic1\", \"Topic1\", \"Topic1\", \"Topic1\", \"Topic1\", \"Topic1\", \"Topic1\", \"Topic1\", \"Topic1\", \"Topic1\", \"Topic1\", \"Topic1\", \"Topic1\", \"Topic1\", \"Topic1\", \"Topic1\", \"Topic1\", \"Topic1\", \"Topic1\", \"Topic1\", \"Topic1\", \"Topic1\", \"Topic1\", \"Topic1\", \"Topic1\", \"Topic1\", \"Topic1\", \"Topic1\", \"Topic1\", \"Topic1\", \"Topic1\", \"Topic1\", \"Topic2\", \"Topic2\", \"Topic2\", \"Topic2\", \"Topic2\", \"Topic2\", \"Topic2\", \"Topic2\", \"Topic2\", \"Topic2\", \"Topic2\", \"Topic2\", \"Topic2\", \"Topic2\", \"Topic2\", \"Topic2\", \"Topic2\", \"Topic2\", \"Topic2\", \"Topic2\", \"Topic2\", \"Topic2\", \"Topic2\", \"Topic2\", \"Topic2\", \"Topic2\", \"Topic2\", \"Topic2\", \"Topic2\", \"Topic2\", \"Topic2\", \"Topic2\", \"Topic2\", \"Topic2\", \"Topic2\", \"Topic2\", \"Topic2\", \"Topic2\", \"Topic2\", \"Topic2\", \"Topic2\", \"Topic2\", \"Topic2\", \"Topic2\", \"Topic2\", \"Topic2\", \"Topic2\", \"Topic2\", \"Topic2\", \"Topic2\", \"Topic2\", \"Topic2\", \"Topic2\", \"Topic2\", \"Topic2\", \"Topic2\", \"Topic2\", \"Topic2\", \"Topic2\", \"Topic3\", \"Topic3\", \"Topic3\", \"Topic3\", \"Topic3\", \"Topic3\", \"Topic3\", \"Topic3\", \"Topic3\", \"Topic3\", \"Topic3\", \"Topic3\", \"Topic3\", \"Topic3\", \"Topic3\", \"Topic3\", \"Topic3\", \"Topic3\", \"Topic3\", \"Topic3\", \"Topic3\", \"Topic3\", \"Topic3\", \"Topic3\", \"Topic3\", \"Topic3\", \"Topic3\", \"Topic3\", \"Topic3\", \"Topic3\", \"Topic3\", \"Topic3\", \"Topic3\", \"Topic3\", \"Topic3\", \"Topic3\", \"Topic3\", \"Topic3\", \"Topic3\", \"Topic3\", \"Topic3\", \"Topic3\", \"Topic3\", \"Topic3\", \"Topic3\", \"Topic3\", \"Topic3\", \"Topic3\", \"Topic3\", \"Topic3\", \"Topic3\", \"Topic3\", \"Topic3\", \"Topic3\", \"Topic4\", \"Topic4\", \"Topic4\", \"Topic4\", \"Topic4\", \"Topic4\", \"Topic4\", \"Topic4\", \"Topic4\", \"Topic4\", \"Topic4\", \"Topic4\", \"Topic4\", \"Topic4\", \"Topic4\", \"Topic4\", \"Topic4\", \"Topic4\", \"Topic4\", \"Topic4\", \"Topic4\", \"Topic4\", \"Topic4\", \"Topic4\", \"Topic4\", \"Topic4\", \"Topic4\", \"Topic4\", \"Topic4\", \"Topic4\", \"Topic4\", \"Topic4\", \"Topic4\", \"Topic4\", \"Topic4\", \"Topic4\", \"Topic4\", \"Topic4\", \"Topic4\", \"Topic4\", \"Topic4\", \"Topic4\", \"Topic4\", \"Topic4\", \"Topic4\", \"Topic4\", \"Topic4\", \"Topic4\", \"Topic4\", \"Topic4\", \"Topic4\", \"Topic4\", \"Topic4\", \"Topic4\", \"Topic4\", \"Topic4\", \"Topic4\", \"Topic5\", \"Topic5\", \"Topic5\", \"Topic5\", \"Topic5\", \"Topic5\", \"Topic5\", \"Topic5\", \"Topic5\", \"Topic5\", \"Topic5\", \"Topic5\", \"Topic5\", \"Topic5\", \"Topic5\", \"Topic5\", \"Topic5\", \"Topic5\", \"Topic5\", \"Topic5\", \"Topic5\", \"Topic5\", \"Topic5\", \"Topic5\", \"Topic5\", \"Topic5\", \"Topic5\", \"Topic5\", \"Topic5\", \"Topic5\", \"Topic5\", \"Topic5\", \"Topic5\", \"Topic5\", \"Topic5\", \"Topic5\", \"Topic5\", \"Topic5\", \"Topic5\", \"Topic5\", \"Topic5\", \"Topic5\", \"Topic5\", \"Topic5\"], \"logprob\": [30.0, 29.0, 28.0, 27.0, 26.0, 25.0, 24.0, 23.0, 22.0, 21.0, 20.0, 19.0, 18.0, 17.0, 16.0, 15.0, 14.0, 13.0, 12.0, 11.0, 10.0, 9.0, 8.0, 7.0, 6.0, 5.0, 4.0, 3.0, 2.0, 1.0, -5.3911, -5.402, -5.4135, -5.6235, -5.6681, -5.8042, -5.8084, -5.855, -5.8849, -5.9285, -5.9399, -5.9684, -5.9311, -6.1315, -6.0298, -6.1912, -6.337, -6.3557, -6.3607, -6.4124, -5.9473, -6.1007, -6.4978, -6.0424, -6.5692, -6.6533, -6.6743, -6.6668, -6.6794, -6.7187, -4.0751, -5.6383, -6.451, -4.5109, -5.8691, -4.8175, -5.4393, -4.6071, -5.6437, -4.6265, -4.5473, -6.0199, -4.4155, -4.4211, -4.5145, -5.6312, -5.7265, -5.8017, -5.7686, -5.8588, -5.8463, -5.8727, -5.926, -5.3841, -5.6541, -5.7721, -5.9278, -6.227, -6.3581, -6.3679, -6.3959, -4.6367, -6.4557, -6.5067, -6.4922, -6.6433, -6.6908, -6.6932, -6.7185, -6.7612, -6.7851, -6.7665, -6.7675, -6.8019, -6.6145, -6.6564, -6.8361, -6.8466, -6.8775, -6.8768, -6.9362, -6.9078, -6.926, -4.9011, -5.6035, -6.8719, -6.5544, -6.3944, -5.8676, -5.6203, -4.5578, -6.2242, -6.6106, -4.9382, -6.32, -6.4276, -5.7697, -5.6263, -5.9659, -4.7891, -6.0772, -6.2409, -5.7894, -5.8036, -5.3165, -5.7787, -5.6719, -6.3195, -6.0061, -6.2832, -6.2518, -6.3229, -5.8634, -6.1276, -6.1775, -6.1766, -6.1842, -6.2164, -6.3402, -5.5238, -6.3747, -6.369, -6.4133, -6.0482, -6.5963, -6.6276, -6.6542, -6.683, -6.6834, -6.6814, -6.7194, -6.7329, -6.7342, -6.7273, -6.8072, -6.7454, -6.8728, -6.8725, -6.8966, -6.8976, -6.909, -6.9569, -6.5072, -4.6666, -6.2555, -6.2441, -6.2983, -5.7092, -6.1226, -5.2048, -5.7405, -5.7935, -5.4632, -5.5495, -5.6105, -6.2215, -6.2116, -6.2421, -5.1084, -6.2009, -5.9917, -5.3931, -6.1159, -6.1078, -6.2566, -6.2239, -4.6355, -5.6746, -5.8656, -5.9926, -5.9892, -6.1049, -6.1242, -6.1728, -6.2016, -6.3836, -6.3943, -6.3984, -6.3596, -6.4698, -6.5205, -6.5592, -6.5066, -6.6101, -6.6451, -6.6858, -6.731, -6.7442, -6.7962, -6.8108, -6.7722, -6.9321, -6.93, -6.9667, -7.0128, -6.812, -5.3183, -5.578, -5.3399, -5.4715, -5.4091, -5.3974, -6.0663, -3.906, -5.3754, -5.8943, -5.1585, -5.3734, -5.6487, -5.3419, -5.4045, -5.454, -5.5055, -5.4518, -5.67, -5.1406, -6.1463, -5.9391, -5.5777, -5.6211, -5.5965, -5.773, -6.0632, -5.804, -5.9826, -5.9856, -6.2183, -6.3849, -6.4536, -6.4421, -6.467, -6.5093, -6.4152, -6.5809, -6.621, -6.6182, -6.4589, -6.5799, -6.6819, -6.7127, -6.6419, -6.7097, -6.6659, -6.7751, -6.8048, -6.7451, -6.8229, -6.7661, -6.8541, -6.8429, -6.7726, -6.8599, -6.8712, -6.7167, -5.8505, -6.2445, -5.6805, -6.4089, -6.5693, -6.4276, -6.2322, -6.5051, -6.4715, -6.6439, -6.5804, -6.6347, -6.64], \"loglift\": [30.0, 29.0, 28.0, 27.0, 26.0, 25.0, 24.0, 23.0, 22.0, 21.0, 20.0, 19.0, 18.0, 17.0, 16.0, 15.0, 14.0, 13.0, 12.0, 11.0, 10.0, 9.0, 8.0, 7.0, 6.0, 5.0, 4.0, 3.0, 2.0, 1.0, 0.694, 0.694, 0.694, 0.6936, 0.6936, 0.6933, 0.6933, 0.6932, 0.6931, 0.693, 0.693, 0.6929, 0.6927, 0.6925, 0.6925, 0.6923, 0.6918, 0.6917, 0.6917, 0.6914, 0.6914, 0.6914, 0.6909, 0.6909, 0.6908, 0.6904, 0.6904, 0.6903, 0.6903, 0.6901, 0.6814, 0.6827, 0.6895, 0.6693, 0.6765, 0.6473, 0.6581, 0.6023, 0.649, 0.543, 0.5152, 0.6554, 0.3571, 0.3248, 0.3317, 0.5702, 0.5502, 0.4924, 0.3683, 0.453, 0.322, 0.3288, 0.3504, 1.8525, 1.8511, 1.8503, 1.8492, 1.8466, 1.8451, 1.8451, 1.8447, 1.844, 1.8438, 1.8433, 1.8432, 1.8408, 1.8404, 1.8401, 1.8396, 1.8391, 1.8388, 1.8388, 1.8387, 1.8385, 1.8382, 1.8381, 1.8377, 1.8376, 1.8367, 1.8362, 1.836, 1.8352, 1.8346, 1.831, 1.8069, 1.8335, 1.7973, 1.7768, 1.7097, 1.6478, 1.2877, 1.6611, 1.7661, 1.0419, 1.6208, 1.6404, 1.1905, 1.0168, 1.1642, -0.0165, 1.2099, 1.3355, 0.6752, 0.6668, -0.4702, 0.3104, -0.6094, 1.2047, -0.8365, 0.9677, 0.5325, 0.2434, 1.9636, 1.9609, 1.9607, 1.9605, 1.9605, 1.9601, 1.9587, 1.9584, 1.9584, 1.9577, 1.9574, 1.9561, 1.9548, 1.9544, 1.9537, 1.9535, 1.9531, 1.953, 1.9526, 1.952, 1.9518, 1.9518, 1.9506, 1.9497, 1.9488, 1.9488, 1.9482, 1.9481, 1.948, 1.9471, 1.9034, 1.32, 1.7305, 1.7164, 1.7331, 1.4816, 1.619, 1.1598, 1.4063, 1.4208, 1.1183, 0.9854, 1.0326, 1.5174, 1.4691, 1.4153, -0.2622, 1.304, 0.8069, -0.6205, 1.0142, 0.8307, 1.3662, 0.4115, 2.0105, 2.0059, 2.0043, 2.0032, 2.0032, 2.002, 2.0016, 2.0011, 2.0009, 1.9985, 1.9984, 1.9983, 1.9983, 1.9974, 1.9962, 1.9957, 1.9957, 1.9949, 1.9944, 1.9931, 1.9927, 1.9923, 1.9908, 1.9907, 1.9906, 1.9884, 1.9883, 1.9865, 1.9864, 1.9861, 1.9355, 1.9011, 1.8738, 1.8682, 1.8226, 1.802, 1.8164, 0.8399, 1.4123, 1.6154, 1.1278, 1.193, 1.3616, 0.8263, 0.7325, 0.7474, 0.7745, 0.6373, 0.8026, -0.2943, 1.551, 0.8796, -0.5152, -0.4117, -0.8239, -0.6034, 0.4072, 2.6111, 2.6081, 2.6077, 2.6029, 2.5978, 2.5971, 2.5969, 2.5958, 2.5937, 2.5927, 2.5921, 2.5919, 2.5912, 2.5911, 2.5908, 2.59, 2.588, 2.5871, 2.5868, 2.5858, 2.5852, 2.5852, 2.5848, 2.5835, 2.5834, 2.5826, 2.5825, 2.5809, 2.5809, 2.5803, 2.5681, 2.2123, 2.2699, 1.9145, 2.2796, 2.1992, 1.8963, 1.1131, 1.8523, 1.4723, 2.1307, 1.6241, 1.5663, 1.4067]}, \"token.table\": {\"Topic\": [4, 1, 2, 4, 1, 2, 3, 4, 1, 2, 3, 1, 2, 3, 4, 4, 4, 4, 1, 4, 3, 1, 1, 3, 2, 4, 1, 4, 4, 1, 1, 2, 3, 3, 5, 1, 2, 3, 4, 1, 3, 1, 3, 4, 4, 1, 1, 5, 1, 1, 2, 4, 3, 5, 4, 1, 2, 3, 2, 4, 1, 1, 3, 5, 1, 4, 4, 2, 4, 1, 2, 3, 4, 1, 4, 1, 2, 4, 1, 5, 2, 2, 2, 2, 2, 3, 2, 3, 2, 5, 2, 3, 4, 2, 3, 5, 1, 3, 3, 2, 4, 5, 2, 1, 3, 5, 4, 2, 3, 1, 2, 4, 2, 2, 2, 2, 3, 2, 2, 1, 2, 4, 2, 5, 1, 3, 5, 5, 1, 4, 1, 4, 3, 2, 3, 2, 3, 2, 3, 1, 3, 1, 3, 4, 3, 3, 5, 1, 2, 3, 4, 1, 2, 1, 2, 2, 3, 1, 2, 4, 1, 2, 3, 1, 2, 3, 3, 1, 4, 1, 2, 3, 4, 1, 3, 5, 3, 1, 2, 3, 5, 3, 3, 4, 5, 1, 3, 2, 3, 4, 3, 5, 2, 4, 1, 3, 2, 1, 3, 5, 5, 2, 1, 1, 1, 4, 5, 1, 1, 2, 3, 4, 2, 4, 2, 1, 2, 3, 3, 1, 3, 4, 1, 2, 3, 2, 3, 2, 1, 3, 3, 2, 1, 3, 1, 3, 5, 1, 5, 5, 5, 5, 5, 5, 5, 2, 5, 1, 3, 5, 1, 4, 4, 3, 4, 1, 1, 1, 2, 4, 1, 3, 1, 2, 3, 1, 2, 3, 5, 2, 4, 4, 4, 2, 1, 1, 2, 3, 4, 1, 4, 1, 4, 3, 3, 5, 1, 2, 3, 4, 1, 2, 3, 4, 5, 5, 4, 1, 2, 1, 3, 3, 1, 4, 1, 2, 1, 5, 4, 1, 4, 1, 4, 5, 4, 1, 2, 3, 1, 3, 1, 2, 3, 4, 1, 2, 3, 4, 2, 3, 5, 1, 1, 2, 3, 4, 4, 2, 1, 1, 4, 1, 4, 1, 2, 4, 4, 2, 5, 3, 2, 2, 2, 3, 2, 1, 2, 2, 2, 1, 2, 4, 1, 2, 4, 1, 4, 5, 1, 2, 3, 4, 3, 1, 5, 4, 1, 3, 4, 3, 3, 3, 5, 5, 5, 1, 3, 3, 5, 2, 3, 5, 4, 4, 1, 3, 5, 4, 5, 1, 3, 5, 1, 3], \"Freq\": [0.9747285907691978, 0.8348279346295107, 0.08514579731679471, 0.07982418498449505, 0.7128463283747041, 0.1538194940417483, 0.07466965730181957, 0.05874013041076472, 0.9537445510867643, 0.01820991982981889, 0.02731487974472833, 0.43914789697465806, 0.40947574177366763, 0.017803293120594244, 0.1305574828843578, 0.9981727590129351, 0.9886941335879742, 0.9874649838203682, 0.16744445606895925, 0.8260593166068657, 0.9807650118948902, 0.9937177996121671, 0.3921975429314019, 0.6019776240342448, 0.18600542955399788, 0.8116600562356271, 0.9964992730300805, 0.9932471836599475, 0.983607503555766, 0.9962180369041301, 0.8829855569101963, 0.11011349297938919, 0.0062328392252484445, 0.9273672047224829, 0.056777583962601, 0.8161250763164466, 0.06155133257135212, 0.08206844342846949, 0.04103422171423474, 0.44758914189694576, 0.5422714603751458, 0.9937880155377266, 0.0035366121549385288, 0.9899860695629863, 0.9769214052799439, 0.9957586248730116, 0.6313964298463088, 0.3695979101539369, 0.9951343297842006, 0.47461668050989775, 0.4429755684759046, 0.08160076261398243, 0.9705490508788005, 0.9543207961924964, 0.9758856031161958, 0.9981492940985932, 0.7926285763851703, 0.2011147134111626, 0.9146960002668308, 0.07317568002134646, 0.9973794155607038, 0.998606729745017, 0.27487257172929586, 0.6996756371291166, 0.720776686487666, 0.27857044910198986, 0.9939521137083203, 0.07141744372942255, 0.9224753148383745, 0.7842757727910509, 0.13225952381387546, 0.016242397661353127, 0.06728993316846295, 0.6902061963833597, 0.3092356413571513, 0.5329884767333718, 0.2135668112346263, 0.25256596806877546, 0.996279337604387, 0.9574405323487685, 0.9945283173870454, 0.9943354819789837, 0.9838296766344926, 0.9776549320538285, 0.9535885810366067, 0.04176300354904847, 0.9862709491697046, 0.010989091355651305, 0.9886809102059586, 0.9684449907149717, 0.04951222692946351, 0.7798175741390503, 0.1609147375207564, 0.9848944689663117, 0.334120243906538, 0.6548756780568145, 0.9968677642945817, 0.9704975738825, 0.9608268342510909, 0.9657371277203143, 0.9791996297066388, 0.9675672798264027, 0.9796810944327528, 0.9974189543233969, 0.32482193650174435, 0.6496438730034887, 0.9755686704879825, 0.9456923779797018, 0.053529757244134064, 0.69398046124853, 0.024933429745456166, 0.2825788704485032, 0.9822289087665471, 0.9863093448577664, 0.993956159863904, 0.8090479140662012, 0.18716780101531522, 0.9821969307680168, 0.9868958529816232, 0.9611778869649689, 0.03671165540491201, 0.003337423218628364, 0.9763215908927952, 0.9725008718845177, 0.9973993376395167, 0.29390927600677275, 0.6927861505873929, 0.9884988017990141, 0.9743916889448457, 0.025444944258160334, 0.9114510714482807, 0.0886025978161896, 0.9863962488487773, 0.8169912603560746, 0.16787491651152217, 0.9235337066090512, 0.07447852472653639, 0.007478631247705531, 0.98717932469713, 0.21717877968358487, 0.7721912166527463, 0.5256591599600177, 0.42538891557458075, 0.04861587606566637, 0.9819132485903719, 0.9641219970624272, 0.963799739531168, 0.6894540758190001, 0.009620289430032559, 0.20843960431737213, 0.08658260487029304, 0.43375445479511265, 0.5662096742124122, 0.024726752132619774, 0.9749405126575796, 0.9870518517065068, 0.9759488885211518, 0.13159832512751649, 0.8636140086493269, 0.9840726704449163, 0.7220233891105209, 0.2642456733342628, 0.007443540093922897, 0.11570223828064329, 0.4996233016664142, 0.3839210633857709, 0.9943950577685805, 0.9975183297170843, 0.9835937558504874, 0.6594069369775474, 0.016348932321757374, 0.027248220536262288, 0.2970056038452589, 0.5371532670680639, 0.10743065341361277, 0.3529864326447277, 0.9809564382931922, 0.1777323249798615, 0.4330205735872989, 0.3910111149556953, 0.9733230323530813, 0.9726035615797253, 0.9919083715612893, 0.9688941856436458, 0.9768253221809982, 0.9983713327664188, 0.9933542161966623, 0.12970155749187723, 0.0064850778745938606, 0.8625153573209835, 0.5203989774942016, 0.4665646005120428, 0.3228812653784922, 0.6688254782840195, 0.6871317806109252, 0.313362295553334, 0.987882727792572, 0.35766953550360625, 0.6380051173848112, 0.9629471060317962, 0.9712951841972965, 0.9838696720632589, 0.9941189994744442, 0.9986937566154166, 0.4758591168741902, 0.522511971469699, 0.9397850609772392, 0.9974993397818241, 0.687413128590707, 0.004019959816319924, 0.004019959816319924, 0.30551694604031426, 0.5225680481169075, 0.47577090947957246, 0.9668110054161395, 0.9528560087045167, 0.004973152446265745, 0.040779850059379105, 0.9901193159170735, 0.9625100107060716, 0.011235525416802391, 0.024343638403071848, 0.508816904159274, 0.04647846720685677, 0.44276855602321447, 0.9741863351435202, 0.9649854014761858, 0.9841696940857203, 0.2907871954990992, 0.6978892691978381, 0.9883791716633515, 0.9842902778080896, 0.47767890509284255, 0.521256629767979, 0.704368961194143, 0.07174128308458864, 0.2217457840796376, 0.6763753896059226, 0.3203883424449107, 0.9809679320655007, 0.9709354473745787, 0.9851203900008619, 0.9655029912291855, 0.9679267135485811, 0.9742758118695681, 0.9895757961035869, 0.9678384288890874, 0.9979948942782045, 0.981561519017766, 0.943891513407093, 0.9986529726549448, 0.9857481742898063, 0.9918742576359899, 0.970263958245749, 0.9749025356472772, 0.9961727498831029, 0.9938514813417635, 0.9985441395403146, 0.3616671487793691, 0.6305991312050538, 0.4176292273113733, 0.577815780252722, 0.4064278833476118, 0.021390941228821674, 0.5668599425637744, 0.3519467590347952, 0.1300672805128591, 0.51261810555068, 0.9490795485971237, 0.10438140007130159, 0.8946977148968708, 0.9889699866967302, 0.9874107914885903, 0.9764620673520961, 0.9963180674690968, 0.2234151701850999, 0.21956318449225334, 0.23497112726363956, 0.3235667981991102, 0.44811153886565475, 0.548936635110427, 0.5858066376071963, 0.4116479075077596, 0.9800233862964153, 0.9873986636724216, 0.9691138661712386, 0.858848987873619, 0.06737522232456838, 0.0007403870585117405, 0.07329831879266231, 0.6949962080236477, 0.09752452572112866, 0.10716980848475677, 0.0996679218908238, 0.0005358490424237839, 0.9504833908117994, 0.989221723917695, 0.4026541737913169, 0.5916551125096902, 0.9971122861710482, 0.9883935388922742, 0.9831417953587201, 0.9882137109682821, 0.011708693257918035, 0.982053134436163, 0.017589011363035756, 0.9988330973403599, 0.952598414483206, 0.9767503580004884, 0.8647498641498644, 0.13441707732899447, 0.9976521910108802, 0.0037505721466574446, 0.9717129096169507, 0.9699628692229257, 0.5244487965023624, 0.30547790724106677, 0.17031069164767437, 0.01260672584112488, 0.9833246156077406, 0.7076500053779292, 0.13660332382295468, 0.12764572881817077, 0.02911218376554772, 0.5655817465176667, 0.05510796504531111, 0.37415407846553334, 0.005800838425822222, 0.16838324514297173, 0.7901059964400982, 0.0388576719560704, 0.9937399366341031, 0.38003806980630506, 0.005588795144210368, 0.6147674658631406, 0.9821993254679936, 0.9884605489766152, 0.9829358005375676, 0.9985129450911426, 0.12578594513790617, 0.8690665300437154, 0.1688273864997582, 0.8266720304470919, 0.25228827949651106, 0.523036677004962, 0.22152141614327803, 0.9813884228402779, 0.5032417439925746, 0.48588858040662375, 0.9912278385820452, 0.9703199376819255, 0.9730473451782936, 0.9898237815924851, 0.9720520797524635, 0.9780532858804868, 0.18809763355841025, 0.8061327152503296, 0.9948521892834428, 0.9895577224050145, 0.35913865859789945, 0.20051908438382718, 0.4399448567824268, 0.49486240205276844, 0.3045307089555498, 0.20120778984563112, 0.7080441193372391, 0.289960925061917, 0.9833285693795407, 0.044376103272807686, 0.5147627979645691, 0.14644114080026535, 0.2973198919278115, 0.9710534627802154, 0.9980193887250047, 0.9578424133439841, 0.9851883767971782, 0.5427579277369029, 0.3213126932202465, 0.1346039660787519, 0.9924927242316771, 0.9908948581191859, 0.3812613475743328, 0.5991249747596658, 0.9701644495380561, 0.9783514953895299, 0.9973983692951851, 0.003217414094500597, 0.9725572261969665, 0.973505396404052, 0.016744152654895247, 0.4855804269919622, 0.4939525033194098, 0.9917638036372283, 0.9838401553183868, 0.3831567282155591, 0.5702797815301345, 0.04455310793204175, 0.9650965395659009, 0.9646081024335288, 0.6576377696018685, 0.03945826617611211, 0.28936061862482215, 0.9860344697499758, 0.01371533291256797], \"Term\": [\"\\u0430\\u0440\\u0435\\u0441\\u0442\", \"\\u0431\\u0430\\u043d\\u043a\", \"\\u0431\\u0430\\u043d\\u043a\", \"\\u0431\\u0430\\u043d\\u043a\", \"\\u0431\\u0430\\u043d\\u043a\\u0430\", \"\\u0431\\u0430\\u043d\\u043a\\u0430\", \"\\u0431\\u0430\\u043d\\u043a\\u0430\", \"\\u0431\\u0430\\u043d\\u043a\\u0430\", \"\\u0431\\u0430\\u043d\\u043a\\u0435\", \"\\u0431\\u0430\\u043d\\u043a\\u0435\", \"\\u0431\\u0430\\u043d\\u043a\\u0435\", \"\\u0431\\u0430\\u043d\\u043a\\u043e\\u043c\", \"\\u0431\\u0430\\u043d\\u043a\\u043e\\u043c\", \"\\u0431\\u0430\\u043d\\u043a\\u043e\\u043c\", \"\\u0431\\u0430\\u043d\\u043a\\u043e\\u043c\", \"\\u0431\\u0430\\u043d\\u043a\\u043e\\u043c\\u0430\\u0442\", \"\\u0431\\u0430\\u043d\\u043a\\u043e\\u043c\\u0430\\u0442_\\u043f\\u0440\\u0438\\u043d\\u044f\\u043b\", \"\\u0431\\u0430\\u043d\\u043a\\u043e\\u043c\\u0430\\u0442\\u0430\", \"\\u0431\\u0430\\u043d\\u043a\\u043e\\u043c\\u0430\\u0442\\u0435\", \"\\u0431\\u0430\\u043d\\u043a\\u043e\\u043c\\u0430\\u0442\\u0435\", \"\\u0431\\u043b\\u0430\\u0433\\u043e\\u0434\\u0430\\u0440\\u043d\\u043e\\u0441\\u0442\\u044c\", \"\\u0431\\u0443\\u0434\\u0443\", \"\\u0431\\u044b\\u0441\\u0442\\u0440\\u043e\", \"\\u0431\\u044b\\u0441\\u0442\\u0440\\u043e\", \"\\u0432\\u0435\\u0440\\u043d\\u0443\\u0442\\u044c\", \"\\u0432\\u0435\\u0440\\u043d\\u0443\\u0442\\u044c\", \"\\u0432\\u0437\\u044f\\u0442\\u044c\", \"\\u0432\\u043e\\u0437\\u0432\\u0440\\u0430\\u0442\", \"\\u0432\\u043e\\u0437\\u0432\\u0440\\u0430\\u0442\\u0430\", \"\\u0432\\u043e\\u043e\\u0431\\u0449\\u0435\", \"\\u0432\\u043e\\u043f\\u0440\\u043e\\u0441\", \"\\u0432\\u043e\\u043f\\u0440\\u043e\\u0441\", \"\\u0432\\u043e\\u043f\\u0440\\u043e\\u0441\", \"\\u0432\\u043e\\u0441\\u043f\\u043e\\u043b\\u044c\\u0437\\u043e\\u0432\\u0430\\u0442\\u044c\\u0441\\u044f\", \"\\u0432\\u043e\\u0441\\u043f\\u043e\\u043b\\u044c\\u0437\\u043e\\u0432\\u0430\\u0442\\u044c\\u0441\\u044f\", \"\\u0432\\u0440\\u0435\\u043c\\u044f\", \"\\u0432\\u0440\\u0435\\u043c\\u044f\", \"\\u0432\\u0440\\u0435\\u043c\\u044f\", \"\\u0432\\u0440\\u0435\\u043c\\u044f\", \"\\u0432\\u0441\\u0435\\u043c\", \"\\u0432\\u0441\\u0435\\u043c\", \"\\u0432\\u0441\\u0451\", \"\\u0432\\u0441\\u0451\", \"\\u0432\\u044b\\u0434\\u0430\\u043b\", \"\\u0432\\u044b\\u0434\\u0430\\u043b_\\u0447\\u0435\\u043a\", \"\\u0433\\u043e\\u0432\\u043e\\u0440\\u0438\\u0442\", \"\\u0433\\u043e\\u0432\\u043e\\u0440\\u044e\", \"\\u0433\\u043e\\u0432\\u043e\\u0440\\u044e\", \"\\u0433\\u043e\\u0432\\u043e\\u0440\\u044f\\u0442\", \"\\u0433\\u043e\\u0434\\u0430\", \"\\u0433\\u043e\\u0434\\u0430\", \"\\u0433\\u043e\\u0434\\u0430\", \"\\u0433\\u0440\\u0443\\u0431\\u043e\\u0439_\\u0444\\u043e\\u0440\\u043c\\u0435\", \"\\u0434\\u0430\\u043b\\u0435\\u043a\\u043e\", \"\\u0434\\u0430\\u043d\\u043d\\u0430\\u044f\", \"\\u0434\\u0430\\u043d\\u043d\\u044b\\u0435\", \"\\u0434\\u0430\\u043d\\u043d\\u044b\\u0439\", \"\\u0434\\u0430\\u043d\\u043d\\u044b\\u0439\", \"\\u0434\\u0430\\u0442\\u0443\", \"\\u0434\\u0430\\u0442\\u0443\", \"\\u0434\\u0435\\u0432\\u0443\\u0448\\u043a\\u0430\", \"\\u0434\\u0435\\u043b\\u0430\\u0442\\u044c\", \"\\u0434\\u0435\\u043b\\u0430\\u044e\\u0442\", \"\\u0434\\u0435\\u043b\\u0430\\u044e\\u0442\", \"\\u0434\\u0435\\u043d\\u0435\\u0433\", \"\\u0434\\u0435\\u043d\\u0435\\u0433\", \"\\u0434\\u0435\\u043d\\u0435\\u0436\\u043d\\u044b\\u0435_\\u0441\\u0440\\u0435\\u0434\\u0441\\u0442\\u0432\\u0430\", \"\\u0434\\u0435\\u043d\\u0435\\u0436\\u043d\\u044b\\u0445_\\u0441\\u0440\\u0435\\u0434\\u0441\\u0442\\u0432\", \"\\u0434\\u0435\\u043d\\u0435\\u0436\\u043d\\u044b\\u0445_\\u0441\\u0440\\u0435\\u0434\\u0441\\u0442\\u0432\", \"\\u0434\\u0435\\u043d\\u044c\", \"\\u0434\\u0435\\u043d\\u044c\", \"\\u0434\\u0435\\u043d\\u044c\", \"\\u0434\\u0435\\u043d\\u044c\", \"\\u0434\\u0435\\u043d\\u044c\\u0433\\u0438\", \"\\u0434\\u0435\\u043d\\u044c\\u0433\\u0438\", \"\\u0434\\u043d\\u0435\\u0439\", \"\\u0434\\u043d\\u0435\\u0439\", \"\\u0434\\u043d\\u0435\\u0439\", \"\\u0434\\u043d\\u044f\", \"\\u0434\\u043e\\u0432\\u0435\\u0440\\u0435\\u043d\\u043d\\u043e\\u0441\\u0442\\u044c\", \"\\u0434\\u043e\\u0433\\u043e\\u0432\\u043e\\u0440\", \"\\u0434\\u043e\\u0433\\u043e\\u0432\\u043e\\u0440\\u0430\", \"\\u0434\\u043e\\u0433\\u043e\\u0432\\u043e\\u0440\\u0435\", \"\\u0434\\u043e\\u0437\\u0432\\u043e\\u043d\\u0438\\u0442\\u044c\\u0441\\u044f\", \"\\u0434\\u043e\\u043a\\u0443\\u043c\\u0435\\u043d\\u0442\\u043e\\u0432\", \"\\u0434\\u043e\\u043a\\u0443\\u043c\\u0435\\u043d\\u0442\\u043e\\u0432\", \"\\u0434\\u043e\\u043a\\u0443\\u043c\\u0435\\u043d\\u0442\\u044b\", \"\\u0434\\u043e\\u043a\\u0443\\u043c\\u0435\\u043d\\u0442\\u044b\", \"\\u0434\\u043e\\u0441\\u0440\\u043e\\u0447\\u043d\\u043e\", \"\\u0434\\u043e\\u0447\\u044c\", \"\\u0434\\u0440\\u0443\\u0433\\u0438\\u0435\", \"\\u0434\\u0440\\u0443\\u0433\\u0438\\u0435\", \"\\u0434\\u0440\\u0443\\u0433\\u0438\\u0435\", \"\\u0434\\u0440\\u0443\\u0433\\u043e\\u043c_\\u0431\\u0430\\u043d\\u043a\\u0435\", \"\\u0434\\u0440\\u0443\\u0433\\u043e\\u043c\\u0443\", \"\\u0434\\u0440\\u0443\\u0433\\u043e\\u043c\\u0443\", \"\\u0435\\u0449\\u0451\", \"\\u0436\\u0434\\u0435\\u043c\", \"\\u0436\\u0435\\u043b\\u0430\\u044e\", \"\\u0436\\u0438\\u0432\\u0443\", \"\\u0437\\u0430\\u0431\\u0440\\u0430\\u043b\", \"\\u0437\\u0430\\u0439\\u0442\\u0438\", \"\\u0437\\u0430\\u043a\\u043b\\u0430\\u0434\\u043d\\u043e\\u0439\", \"\\u0437\\u0430\\u043a\\u0440\\u044b\\u0442\\u044c\", \"\\u0437\\u0430\\u043b\\u0435\", \"\\u0437\\u0430\\u043b\\u0435\", \"\\u0437\\u0430\\u0447\\u0438\\u0441\\u043b\\u0435\\u043d\\u044b\", \"\\u0437\\u0430\\u044f\\u0432\\u043a\\u0438\", \"\\u0437\\u0430\\u044f\\u0432\\u043a\\u0438\", \"\\u0437\\u0430\\u044f\\u0432\\u043b\\u0435\\u043d\\u0438\\u0435\", \"\\u0437\\u0430\\u044f\\u0432\\u043b\\u0435\\u043d\\u0438\\u0435\", \"\\u0437\\u0430\\u044f\\u0432\\u043b\\u0435\\u043d\\u0438\\u0435\", \"\\u0438\\u043f\\u043e\\u0442\\u0435\\u043a\\u0430\", \"\\u0438\\u043f\\u043e\\u0442\\u0435\\u043a\\u0435\", \"\\u0438\\u043f\\u043e\\u0442\\u0435\\u043a\\u0438\", \"\\u0438\\u043f\\u043e\\u0442\\u0435\\u043a\\u0443\", \"\\u0438\\u043f\\u043e\\u0442\\u0435\\u043a\\u0443\", \"\\u0438\\u043f\\u043e\\u0442\\u0435\\u0447\\u043d\\u044b\\u0439\", \"\\u0438\\u043f\\u043e\\u0442\\u0435\\u0447\\u043d\\u044b\\u0439_\\u043a\\u0440\\u0435\\u0434\\u0438\\u0442\", \"\\u0438\\u0442\\u043e\\u0433\\u0435\", \"\\u0438\\u0442\\u043e\\u0433\\u0435\", \"\\u0438\\u0442\\u043e\\u0433\\u0435\", \"\\u0438\\u044e\\u043d\\u044f\", \"\\u043a\\u0430\\u043a\\u043e\\u043c_\\u043e\\u0441\\u043d\\u043e\\u0432\\u0430\\u043d\\u0438\\u0438\", \"\\u043a\\u0430\\u0440\\u0442\\u0430\", \"\\u043a\\u0430\\u0440\\u0442\\u043e\\u0447\\u043a\\u0438\", \"\\u043a\\u0430\\u0440\\u0442\\u043e\\u0447\\u043a\\u0438\", \"\\u043a\\u0430\\u0440\\u0442\\u043e\\u0447\\u043a\\u0443\", \"\\u043a\\u0430\\u0440\\u0442\\u0443\", \"\\u043a\\u0430\\u0440\\u0442\\u0443\", \"\\u043a\\u0430\\u0440\\u0442\\u044b\", \"\\u043a\\u0430\\u0440\\u0442\\u044b\", \"\\u043a\\u0430\\u0441\\u0441\\u0438\\u0440\", \"\\u043a\\u0432\\u0430\\u0440\\u0442\\u0438\\u0440\\u0443\", \"\\u043a\\u0432\\u0430\\u0440\\u0442\\u0438\\u0440\\u0443\", \"\\u043a\\u0432\\u0430\\u0440\\u0442\\u0438\\u0440\\u044b\", \"\\u043a\\u0432\\u0430\\u0440\\u0442\\u0438\\u0440\\u044b\", \"\\u043a\\u043b\\u0438\\u0435\\u043d\\u0442\\u0430\\u043c\", \"\\u043a\\u043b\\u0438\\u0435\\u043d\\u0442\\u0430\\u043c\", \"\\u043a\\u043b\\u0438\\u0435\\u043d\\u0442\\u0430\\u043c\\u0438\", \"\\u043a\\u043b\\u0438\\u0435\\u043d\\u0442\\u0430\\u043c\\u0438\", \"\\u043a\\u043b\\u0438\\u0435\\u043d\\u0442\\u043e\\u0432\", \"\\u043a\\u043b\\u0438\\u0435\\u043d\\u0442\\u043e\\u0432\", \"\\u043a\\u043b\\u0438\\u0435\\u043d\\u0442\\u043e\\u0432\", \"\\u043a\\u043e\\u043d\\u0441\\u0443\\u043b\\u044c\\u0442\\u0430\\u043d\\u0442\", \"\\u043a\\u043e\\u043d\\u0441\\u0443\\u043b\\u044c\\u0442\\u0430\\u043d\\u0442\\u0443\", \"\\u043a\\u043e\\u043f\\u0435\\u0439\\u043a\\u0438\", \"\\u043a\\u043e\\u0442\\u043e\\u0440\\u044b\\u0435\", \"\\u043a\\u043e\\u0442\\u043e\\u0440\\u044b\\u0435\", \"\\u043a\\u043e\\u0442\\u043e\\u0440\\u044b\\u0435\", \"\\u043a\\u043e\\u0442\\u043e\\u0440\\u044b\\u0435\", \"\\u043a\\u0440\\u0435\\u0434\\u0438\\u0442\", \"\\u043a\\u0440\\u0435\\u0434\\u0438\\u0442\", \"\\u043a\\u0440\\u0435\\u0434\\u0438\\u0442\\u0430\", \"\\u043a\\u0440\\u0435\\u0434\\u0438\\u0442\\u0430\", \"\\u043a\\u0440\\u0435\\u0434\\u0438\\u0442\\u043d\\u0430\\u044f_\\u0438\\u0441\\u0442\\u043e\\u0440\\u0438\\u044f\", \"\\u043a\\u0440\\u0435\\u0434\\u0438\\u0442\\u043e\\u043c\", \"\\u043a\\u0440\\u0435\\u0434\\u0438\\u0442\\u0443\", \"\\u043a\\u0440\\u0435\\u0434\\u0438\\u0442\\u0443\", \"\\u043a\\u0443\\u043f\\u044e\\u0440\\u044b\", \"\\u043b\\u0435\\u0442\", \"\\u043b\\u0435\\u0442\", \"\\u043b\\u0435\\u0442\", \"\\u043c\\u0435\\u043d\\u0435\\u0434\\u0436\\u0435\\u0440\", \"\\u043c\\u0435\\u043d\\u0435\\u0434\\u0436\\u0435\\u0440\", \"\\u043c\\u0435\\u043d\\u0435\\u0434\\u0436\\u0435\\u0440\", \"\\u043c\\u0435\\u043d\\u0435\\u0434\\u0436\\u0435\\u0440\\u0443\", \"\\u043c\\u043e\\u0433\\u0443\", \"\\u043c\\u043e\\u0435_\\u043e\\u0431\\u0440\\u0430\\u0449\\u0435\\u043d\\u0438\\u0435\", \"\\u043c\\u043e\\u0438\", \"\\u043c\\u043e\\u0438\", \"\\u043c\\u043e\\u0438\", \"\\u043c\\u043e\\u0438\", \"\\u043c\\u043e\\u0441\\u043a\\u0432\\u0435\", \"\\u043c\\u043e\\u0441\\u043a\\u0432\\u0435\", \"\\u043c\\u043e\\u0441\\u043a\\u0432\\u0435\", \"\\u043c\\u0443\\u0436\\u0435\\u043c\", \"\\u043d\\u0430\\u043c\", \"\\u043d\\u0430\\u043c\", \"\\u043d\\u0430\\u043c\", \"\\u043d\\u0430\\u0440\\u043e\\u0434\\u0443\", \"\\u043d\\u0430\\u0448\\u0435\\u0439\", \"\\u043d\\u0435\\u043a\\u043e\\u043c\\u043f\\u0435\\u0442\\u0435\\u043d\\u0442\\u043d\\u043e\\u0441\\u0442\\u044c\", \"\\u043d\\u0435\\u043e\\u0431\\u0445\\u043e\\u0434\\u0438\\u043c\\u043e\\u0441\\u0442\\u0438\", \"\\u043d\\u0435\\u0451\", \"\\u043d\\u0443\\u0436\\u043d\\u043e\", \"\\u043e\\u0431\\u0440\\u0430\\u0442\\u0438\\u043b\\u0438\\u0441\\u044c\", \"\\u043e\\u0431\\u0440\\u0430\\u0449\\u0435\\u043d\\u0438\\u0435\", \"\\u043e\\u0431\\u0440\\u0430\\u0449\\u0435\\u043d\\u0438\\u0435\", \"\\u043e\\u0431\\u0440\\u0430\\u0449\\u0435\\u043d\\u0438\\u0435\", \"\\u043e\\u0431\\u0440\\u0430\\u0449\\u0435\\u043d\\u0438\\u0438\", \"\\u043e\\u0431\\u0440\\u0430\\u0449\\u0435\\u043d\\u0438\\u0438\", \"\\u043e\\u0431\\u0440\\u0430\\u0449\\u0435\\u043d\\u0438\\u044f\", \"\\u043e\\u0431\\u0440\\u0430\\u0449\\u0435\\u043d\\u0438\\u044f\", \"\\u043e\\u0431\\u0441\\u043b\\u0443\\u0436\\u0438\\u0432\\u0430\\u043d\\u0438\\u0435\", \"\\u043e\\u0431\\u0441\\u043b\\u0443\\u0436\\u0438\\u0432\\u0430\\u043d\\u0438\\u0435\", \"\\u043e\\u0431\\u0441\\u043b\\u0443\\u0436\\u0438\\u0432\\u0430\\u043d\\u0438\\u044e\", \"\\u043e\\u0431\\u0441\\u043b\\u0443\\u0436\\u0438\\u0432\\u0430\\u043d\\u0438\\u044f\", \"\\u043e\\u0431\\u0441\\u043b\\u0443\\u0436\\u0438\\u0432\\u0430\\u043d\\u0438\\u044f\", \"\\u043e\\u0431\\u044f\\u0437\\u0430\\u043d\\u044b\", \"\\u043e\\u0434\\u043d\\u043e\\u043c\\u0443\", \"\\u043e\\u0434\\u043e\\u0431\\u0440\\u0435\\u043d\\u0438\\u0435\", \"\\u043e\\u043a\\u0430\\u0437\\u0430\\u043b\\u043e\\u0441\\u044c\", \"\\u043e\\u043d\\u043b\\u0430\\u0439\\u043d\", \"\\u043e\\u043f\\u0435\\u0440\\u0430\\u0446\\u0438\\u0438\", \"\\u043e\\u043f\\u0435\\u0440\\u0430\\u0446\\u0438\\u0438\", \"\\u043e\\u043f\\u0435\\u0440\\u0430\\u0446\\u0438\\u043e\\u043d\\u0438\\u0441\\u0442\\u043a\\u0430\", \"\\u043e\\u043f\\u043b\\u0430\\u0442\\u0438\\u0442\\u044c\", \"\\u043e\\u0442\\u0432\\u0435\\u0442\", \"\\u043e\\u0442\\u0432\\u0435\\u0442\", \"\\u043e\\u0442\\u0432\\u0435\\u0442\", \"\\u043e\\u0442\\u0432\\u0435\\u0442\", \"\\u043e\\u0442\\u0432\\u0435\\u0442\\u0430\", \"\\u043e\\u0442\\u0432\\u0435\\u0442\\u0430\", \"\\u043e\\u0442\\u0432\\u0435\\u0447\\u0430\\u0442\\u044c\", \"\\u043e\\u0442\\u0434\\u0435\\u043b\\u0435\\u043d\\u0438\\u0435\", \"\\u043e\\u0442\\u0434\\u0435\\u043b\\u0435\\u043d\\u0438\\u0435\", \"\\u043e\\u0442\\u0434\\u0435\\u043b\\u0435\\u043d\\u0438\\u0435\", \"\\u043e\\u0442\\u0434\\u0435\\u043b\\u0435\\u043d\\u0438\\u0435\\u043c\", \"\\u043e\\u0442\\u0434\\u0435\\u043b\\u0435\\u043d\\u0438\\u0438\", \"\\u043e\\u0442\\u0434\\u0435\\u043b\\u0435\\u043d\\u0438\\u0438\", \"\\u043e\\u0442\\u0434\\u0435\\u043b\\u0435\\u043d\\u0438\\u0438\", \"\\u043e\\u0442\\u0434\\u0435\\u043b\\u0435\\u043d\\u0438\\u044f\", \"\\u043e\\u0442\\u0434\\u0435\\u043b\\u0435\\u043d\\u0438\\u044f\", \"\\u043e\\u0442\\u0434\\u0435\\u043b\\u0435\\u043d\\u0438\\u044f\", \"\\u043e\\u0442\\u043a\\u0430\\u0437\\u0430\", \"\\u043e\\u0442\\u043d\\u043e\\u0448\\u0435\\u043d\\u0438\\u0435_\\u043a\\u043b\\u0438\\u0435\\u043d\\u0442\\u0430\\u043c\", \"\\u043e\\u0442\\u043d\\u043e\\u0448\\u0435\\u043d\\u0438\\u0438\", \"\\u043e\\u0444\\u0438\\u0441\\u0430\", \"\\u043e\\u0444\\u0438\\u0441\\u0430\", \"\\u043e\\u0444\\u043e\\u0440\\u043c\\u043b\\u0435\\u043d\\u0438\\u0435\", \"\\u043e\\u0444\\u043e\\u0440\\u043c\\u043b\\u0435\\u043d\\u0438\\u0438\", \"\\u043e\\u0447\\u0435\\u043d\\u044c\", \"\\u043e\\u0447\\u0435\\u043d\\u044c\", \"\\u043e\\u0447\\u0435\\u0440\\u0435\\u0434\\u0438\", \"\\u043e\\u0447\\u0435\\u0440\\u0435\\u0434\\u0438\", \"\\u043e\\u0447\\u0435\\u0440\\u0435\\u0434\\u0438\", \"\\u043f\\u0430\\u0441\\u043f\\u043e\\u0440\\u0442\", \"\\u043f\\u0430\\u0441\\u043f\\u043e\\u0440\\u0442\", \"\\u043f\\u0430\\u0441\\u043f\\u043e\\u0440\\u0442\\u0443\", \"\\u043f\\u0435\\u043d\\u0441\\u0438\\u0438\", \"\\u043f\\u0435\\u043d\\u0441\\u0438\\u044e\", \"\\u043f\\u0435\\u0440\\u0435\\u0437\\u0432\\u043e\\u043d\\u0438\\u0442\\u044c\", \"\\u043f\\u0438\\u043d\\u043a\\u043e\\u0434\", \"\\u043f\\u043e\\u0434\\u043e\\u0448\\u043b\\u0430\", \"\\u043f\\u043e\\u0434\\u043f\\u0438\\u0441\\u044c\", \"\\u043f\\u043e\\u0437\\u043e\\u0440\", \"\\u043f\\u043e\\u043b\\u0443\\u0447\\u0438\\u0442\\u044c\", \"\\u043f\\u043e\\u043c\\u043e\\u0449\\u044c\", \"\\u043f\\u043e\\u0441\\u0435\\u0442\\u0438\\u043b\\u0430\", \"\\u043f\\u043e\\u0447\\u0435\\u043c\\u0443\", \"\\u043f\\u0440\\u0435\\u0442\\u0435\\u043d\\u0437\\u0438\\u0438\", \"\\u043f\\u0440\\u0435\\u0442\\u0435\\u043d\\u0437\\u0438\\u044e\", \"\\u043f\\u0440\\u0438\\u0434\\u0442\\u0438\", \"\\u043f\\u0440\\u0438\\u043d\\u044f\\u043b\", \"\\u043f\\u0440\\u0438\\u0448\\u043b\\u0430\", \"\\u043f\\u0440\\u0438\\u0448\\u043b\\u043e\\u0441\\u044c\", \"\\u043f\\u0440\\u043e\\u0441\\u0442\\u043e\", \"\\u0440\", \"\\u0440\", \"\\u0440\\u0430\\u0431\\u043e\\u0442\\u0435\", \"\\u0440\\u0430\\u0431\\u043e\\u0442\\u0435\", \"\\u0440\\u0430\\u0431\\u043e\\u0442\\u0443\", \"\\u0440\\u0430\\u0431\\u043e\\u0442\\u0443\", \"\\u0440\\u0430\\u0431\\u043e\\u0442\\u0443\", \"\\u0440\\u0430\\u0431\\u043e\\u0442\\u044b\", \"\\u0440\\u0430\\u0431\\u043e\\u0442\\u044b\", \"\\u0440\\u0430\\u0431\\u043e\\u0442\\u044b\", \"\\u0440\\u0430\\u0437\\u0433\\u043e\\u0432\\u0430\\u0440\\u0438\\u0432\\u0430\\u043b\\u0430\", \"\\u0440\\u0430\\u0437\\u043c\\u0435\\u0440\\u0435\", \"\\u0440\\u0430\\u0437\\u043c\\u0435\\u0440\\u0435\", \"\\u0440\\u0430\\u0441\\u0441\\u043c\\u043e\\u0442\\u0440\\u0435\\u043d\\u0438\\u044f\", \"\\u0440\\u0435\\u043a\\u0432\\u0438\\u0437\\u0438\\u0442\\u044b\", \"\\u0440\\u0435\\u0444\\u0438\\u043d\\u0430\\u043d\\u0441\\u0438\\u0440\\u043e\\u0432\\u0430\\u043d\\u0438\\u0435\", \"\\u0440\\u0435\\u0448\\u0438\\u043b\\u0430\", \"\\u0440\\u043e\\u0441\\u0441\\u0438\\u0438\", \"\\u0440\\u043e\\u0441\\u0441\\u0438\\u0438\", \"\\u0440\\u043e\\u0441\\u0441\\u0438\\u0438\", \"\\u0440\\u043e\\u0441\\u0441\\u0438\\u0438\", \"\\u0440\\u0443\\u0431\", \"\\u0440\\u0443\\u0431\", \"\\u0440\\u0443\\u0431\\u043b\\u0435\\u0439\", \"\\u0440\\u0443\\u0431\\u043b\\u0435\\u0439\", \"\\u0440\\u0443\\u043a\\u043e\\u0432\\u043e\\u0434\\u0438\\u0442\\u0435\\u043b\\u044e\", \"\\u0440\\u0443\\u043a\\u043e\\u0432\\u043e\\u0434\\u0441\\u0442\\u0432\\u043e\", \"\\u0440\\u044f\\u0434\\u043e\\u043c\", \"\\u0441\\u0431\\u0435\\u0440\\u0431\\u0430\\u043d\\u043a\", \"\\u0441\\u0431\\u0435\\u0440\\u0431\\u0430\\u043d\\u043a\", \"\\u0441\\u0431\\u0435\\u0440\\u0431\\u0430\\u043d\\u043a\", \"\\u0441\\u0431\\u0435\\u0440\\u0431\\u0430\\u043d\\u043a\", \"\\u0441\\u0431\\u0435\\u0440\\u0431\\u0430\\u043d\\u043a\\u0430\", \"\\u0441\\u0431\\u0435\\u0440\\u0431\\u0430\\u043d\\u043a\\u0430\", \"\\u0441\\u0431\\u0435\\u0440\\u0431\\u0430\\u043d\\u043a\\u0430\", \"\\u0441\\u0431\\u0435\\u0440\\u0431\\u0430\\u043d\\u043a\\u0430\", \"\\u0441\\u0431\\u0435\\u0440\\u0431\\u0430\\u043d\\u043a\\u0430\", \"\\u0441\\u0431\\u0435\\u0440\\u043a\\u043d\\u0438\\u0436\\u043a\\u0438\", \"\\u0441\\u0431\\u043e\\u0439\", \"\\u0441\\u0432\\u044f\\u0437\\u0438\", \"\\u0441\\u0432\\u044f\\u0437\\u0438\", \"\\u0441\\u0434\\u0435\\u043b\\u0430\\u0442\\u044c\", \"\\u0441\\u0434\\u0435\\u043b\\u043a\\u0438\", \"\\u0441\\u0434\\u0435\\u043b\\u043a\\u0443\", \"\\u0441\\u0435\\u0433\\u043e\\u0434\\u043d\\u044f\", \"\\u0441\\u0435\\u0433\\u043e\\u0434\\u043d\\u044f\", \"\\u0441\\u043a\\u0430\\u0437\\u0430\\u043b\\u0430\", \"\\u0441\\u043a\\u0430\\u0437\\u0430\\u043b\\u0430\", \"\\u0441\\u043a\\u0430\\u0437\\u0430\\u043b\\u0438\", \"\\u0441\\u043a\\u043e\", \"\\u0441\\u043b\\u0443\\u0436\\u0431\\u0443\", \"\\u0441\\u043c\\u0441\", \"\\u0441\\u043c\\u0441\", \"\\u0441\\u043d\\u043e\\u0432\\u0430\", \"\\u0441\\u043d\\u043e\\u0432\\u0430\", \"\\u0441\\u043d\\u044f\\u043b\\u0430\", \"\\u0441\\u043d\\u044f\\u0442\\u0438\\u0435\", \"\\u0441\\u043e\\u0442\\u0440\\u0443\\u0434\\u043d\\u0438\\u043a\", \"\\u0441\\u043e\\u0442\\u0440\\u0443\\u0434\\u043d\\u0438\\u043a\", \"\\u0441\\u043e\\u0442\\u0440\\u0443\\u0434\\u043d\\u0438\\u043a\", \"\\u0441\\u043e\\u0442\\u0440\\u0443\\u0434\\u043d\\u0438\\u043a\\u0430\\u043c\", \"\\u0441\\u043e\\u0442\\u0440\\u0443\\u0434\\u043d\\u0438\\u043a\\u0430\\u043c\", \"\\u0441\\u043e\\u0442\\u0440\\u0443\\u0434\\u043d\\u0438\\u043a\\u0438\", \"\\u0441\\u043e\\u0442\\u0440\\u0443\\u0434\\u043d\\u0438\\u043a\\u0438\", \"\\u0441\\u043e\\u0442\\u0440\\u0443\\u0434\\u043d\\u0438\\u043a\\u0438\", \"\\u0441\\u043e\\u0442\\u0440\\u0443\\u0434\\u043d\\u0438\\u043a\\u0438\", \"\\u0441\\u043e\\u0442\\u0440\\u0443\\u0434\\u043d\\u0438\\u043a\\u043e\\u0432\", \"\\u0441\\u043e\\u0442\\u0440\\u0443\\u0434\\u043d\\u0438\\u043a\\u043e\\u0432\", \"\\u0441\\u043e\\u0442\\u0440\\u0443\\u0434\\u043d\\u0438\\u043a\\u043e\\u0432\", \"\\u0441\\u043e\\u0442\\u0440\\u0443\\u0434\\u043d\\u0438\\u043a\\u043e\\u0432\", \"\\u0441\\u043e\\u0442\\u0440\\u0443\\u0434\\u043d\\u0438\\u043a\\u0443\", \"\\u0441\\u043e\\u0442\\u0440\\u0443\\u0434\\u043d\\u0438\\u043a\\u0443\", \"\\u0441\\u043e\\u0442\\u0440\\u0443\\u0434\\u043d\\u0438\\u043a\\u0443\", \"\\u0441\\u043e\\u0442\\u0440\\u0443\\u0434\\u043d\\u0438\\u0446\\u0430\", \"\\u0441\\u043f\\u0430\\u0441\\u0438\\u0431\\u043e\", \"\\u0441\\u043f\\u0430\\u0441\\u0438\\u0431\\u043e\", \"\\u0441\\u043f\\u0430\\u0441\\u0438\\u0431\\u043e\", \"\\u0441\\u043f\\u0438\\u0441\\u0430\\u043b\\u0438\", \"\\u0441\\u043f\\u0438\\u0441\\u0430\\u043d\\u044b\", \"\\u0441\\u043f\\u0440\\u0430\\u0432\\u043a\\u0438\", \"\\u0441\\u0440\\u0430\\u0437\\u0443\", \"\\u0441\\u0440\\u0435\\u0434\\u0441\\u0442\\u0432\", \"\\u0441\\u0440\\u0435\\u0434\\u0441\\u0442\\u0432\", \"\\u0441\\u0440\\u0435\\u0434\\u0441\\u0442\\u0432\\u0430\", \"\\u0441\\u0440\\u0435\\u0434\\u0441\\u0442\\u0432\\u0430\", \"\\u0441\\u0440\\u043e\\u043a\", \"\\u0441\\u0440\\u043e\\u043a\", \"\\u0441\\u0440\\u043e\\u043a\", \"\\u0441\\u0440\\u043e\\u043a_\\u0440\\u0430\\u0441\\u0441\\u043c\\u043e\\u0442\\u0440\\u0435\\u043d\\u0438\\u044f\", \"\\u0441\\u0440\\u043e\\u0447\\u043d\\u043e\", \"\\u0441\\u0440\\u043e\\u0447\\u043d\\u043e\", \"\\u0441\\u0442\\u0430\\u0432\\u043a\\u0430\", \"\\u0441\\u0442\\u0430\\u0432\\u043a\\u0438\", \"\\u0441\\u0442\\u0440\\u0430\\u043d\\u044b\", \"\\u0441\\u0442\\u0440\\u0430\\u0445\\u043e\\u0432\\u0430\\u043d\\u0438\\u0435\", \"\\u0441\\u0442\\u0440\\u0430\\u0445\\u043e\\u0432\\u0430\\u043d\\u0438\\u0435_\\u0436\\u0438\\u0437\\u043d\\u0438\", \"\\u0441\\u0442\\u0440\\u0430\\u0445\\u043e\\u0432\\u0430\\u043d\\u0438\\u044f\", \"\\u0441\\u0442\\u0440\\u0430\\u0445\\u043e\\u0432\\u043a\\u0430\", \"\\u0441\\u0442\\u0440\\u0430\\u0445\\u043e\\u0432\\u043a\\u0430\", \"\\u0441\\u0442\\u0440\\u0430\\u0445\\u043e\\u0432\\u043a\\u0438\", \"\\u0441\\u0442\\u0440\\u0430\\u0445\\u043e\\u0432\\u043a\\u0443\", \"\\u0441\\u0443\\u043c\\u043c\\u0430\", \"\\u0441\\u0443\\u043c\\u043c\\u0430\", \"\\u0441\\u0443\\u043c\\u043c\\u0430\", \"\\u0441\\u0443\\u043c\\u043c\\u0443\", \"\\u0441\\u0443\\u043c\\u043c\\u0443\", \"\\u0441\\u0443\\u043c\\u043c\\u0443\", \"\\u0441\\u0447\\u0435\\u0442\", \"\\u0441\\u0447\\u0435\\u0442\", \"\\u0441\\u044b\\u043d\\u0430\", \"\\u0442\\u0430\\u043a\\u0436\\u0435\", \"\\u0442\\u0430\\u043a\\u0436\\u0435\", \"\\u0442\\u0430\\u043a\\u0436\\u0435\", \"\\u0442\\u0430\\u043a\\u0436\\u0435\", \"\\u0442\\u0430\\u043a\\u0438\\u043c\\u0438\", \"\\u0442\\u0435\\u043b\\u0435\\u0444\\u043e\\u043d\", \"\\u0442\\u0443\", \"\\u0442\\u044b\\u0441\\u044f\\u0447_\\u0440\\u0443\\u0431\\u043b\\u0435\\u0439\", \"\\u0443\\u043b\", \"\\u0443\\u043b\", \"\\u0443\\u043b\", \"\\u0443\\u043b\\u0438\\u0446\\u0435\", \"\\u0444\\u0438\\u043b\\u0438\\u0430\\u043b\\u0430\", \"\\u0444\\u043e\\u0440\\u043c\\u0435\", \"\\u0444\\u043e\\u0440\\u043c\\u0435\", \"\\u0445\", \"\\u0445\\u0430\\u043c\\u0441\\u0442\\u0432\\u043e\", \"\\u0445\\u043e\\u0442\\u044f\", \"\\u0445\\u043e\\u0442\\u044f\", \"\\u0445\\u043e\\u0447\\u0443_\\u0432\\u044b\\u0440\\u0430\\u0437\\u0438\\u0442\\u044c\", \"\\u0446\\u0441\\u043a\\u043e\", \"\\u0447\\u0430\\u0441\\u0430\", \"\\u0447\\u0430\\u0441\\u0430\", \"\\u0447\\u0430\\u0441\\u0430\", \"\\u0447\\u0435\\u043a\", \"\\u0447\\u0435\\u043a\\u0430\", \"\\u0447\\u0435\\u043b\\u043e\\u0432\\u0435\\u043a\", \"\\u0447\\u0435\\u043b\\u043e\\u0432\\u0435\\u043a\", \"\\u0447\\u0435\\u043b\\u043e\\u0432\\u0435\\u043a\", \"\\u0447\\u0438\\u0441\\u043b\\u0430\", \"\\u0447\\u0443\\u0434\\u043e\", \"\\u044d\\u0442\\u0438\\u0445\", \"\\u044d\\u0442\\u0438\\u0445\", \"\\u044d\\u0442\\u0438\\u0445\", \"\\u044d\\u0442\\u043e\", \"\\u044d\\u0442\\u043e\"]}, \"R\": 30, \"lambda.step\": 0.01, \"plot.opts\": {\"xlab\": \"PC1\", \"ylab\": \"PC2\"}, \"topic.order\": [5, 4, 2, 3, 1]};\n",
              "\n",
              "function LDAvis_load_lib(url, callback){\n",
              "  var s = document.createElement('script');\n",
              "  s.src = url;\n",
              "  s.async = true;\n",
              "  s.onreadystatechange = s.onload = callback;\n",
              "  s.onerror = function(){console.warn(\"failed to load library \" + url);};\n",
              "  document.getElementsByTagName(\"head\")[0].appendChild(s);\n",
              "}\n",
              "\n",
              "if(typeof(LDAvis) !== \"undefined\"){\n",
              "   // already loaded: just create the visualization\n",
              "   !function(LDAvis){\n",
              "       new LDAvis(\"#\" + \"ldavis_el621403917255964965477368159\", ldavis_el621403917255964965477368159_data);\n",
              "   }(LDAvis);\n",
              "}else if(typeof define === \"function\" && define.amd){\n",
              "   // require.js is available: use it to load d3/LDAvis\n",
              "   require.config({paths: {d3: \"https://d3js.org/d3.v5\"}});\n",
              "   require([\"d3\"], function(d3){\n",
              "      window.d3 = d3;\n",
              "      LDAvis_load_lib(\"https://cdn.jsdelivr.net/gh/bmabey/pyLDAvis@3.3.1/pyLDAvis/js/ldavis.v3.0.0.js\", function(){\n",
              "        new LDAvis(\"#\" + \"ldavis_el621403917255964965477368159\", ldavis_el621403917255964965477368159_data);\n",
              "      });\n",
              "    });\n",
              "}else{\n",
              "    // require.js not available: dynamically load d3 & LDAvis\n",
              "    LDAvis_load_lib(\"https://d3js.org/d3.v5.js\", function(){\n",
              "         LDAvis_load_lib(\"https://cdn.jsdelivr.net/gh/bmabey/pyLDAvis@3.3.1/pyLDAvis/js/ldavis.v3.0.0.js\", function(){\n",
              "                 new LDAvis(\"#\" + \"ldavis_el621403917255964965477368159\", ldavis_el621403917255964965477368159_data);\n",
              "            })\n",
              "         });\n",
              "}\n",
              "</script>"
            ]
          },
          "metadata": {},
          "execution_count": 49
        }
      ],
      "source": [
        "# Visualize the topics\n",
        "pyLDAvis.enable_notebook()\n",
        "#vis = pyLDAvis.gensim.prepare(lda_model, corpus, id2word)\n",
        "vis = gensimvis.prepare(lda_model, corpus, id2word)\n",
        "vis"
      ]
    },
    {
      "cell_type": "markdown",
      "source": [
        "название тем:\n",
        "1) карточка\n",
        "2) кредит, страховка\n",
        "3) обслуживание, сотрудники\n",
        "4) операции с банкоматом\n",
        "5) очереди, документы"
      ],
      "metadata": {
        "id": "fooGgDqtSmMw"
      }
    },
    {
      "cell_type": "code",
      "source": [
        "topic_list = pd.Series([max(sent[0], key=lambda x:x[1])[0] for sent in doc_lda])\n",
        "df['topic'] = topic_list"
      ],
      "metadata": {
        "id": "8IWjPv1SSyVt"
      },
      "execution_count": null,
      "outputs": []
    },
    {
      "cell_type": "code",
      "source": [
        "df"
      ],
      "metadata": {
        "colab": {
          "base_uri": "https://localhost:8080/",
          "height": 800
        },
        "id": "6LK7P2-6TLfP",
        "outputId": "9958b8e7-dcb1-40a0-c711-32f3fbf2f2f5"
      },
      "execution_count": null,
      "outputs": [
        {
          "output_type": "execute_result",
          "data": {
            "text/plain": [
              "                   bank_href               login  \\\n",
              "0      /sberbank-rossii.html                 NaN   \n",
              "1      /sberbank-rossii.html                 NaN   \n",
              "2      /sberbank-rossii.html                 NaN   \n",
              "3      /sberbank-rossii.html                 NaN   \n",
              "4      /sberbank-rossii.html                 NaN   \n",
              "...                      ...                 ...   \n",
              "2476  /bank/sberbank-rossii/             елена,    \n",
              "2477  /bank/sberbank-rossii/  Светлана Бачкова,    \n",
              "2478  /bank/sberbank-rossii/            Оксана,    \n",
              "2479  /bank/sberbank-rossii/             ольга,    \n",
              "2480  /bank/sberbank-rossii/           Евгения,    \n",
              "\n",
              "                                                 review bank_name  \\\n",
              "0     3 раза я обращался по вопросу списаний за овер...  сбербанк   \n",
              "1     Очень возмущена и удивлена сложившейся ситуаци...  сбербанк   \n",
              "2     Я уже не знаю, дождемся ли мы, чтобы сбер пров...  сбербанк   \n",
              "3     Здравствуйте, у меня возникла следующая пробле...  сбербанк   \n",
              "4     Дорогой друг Сбербанк, как же мне не хочется и...  сбербанк   \n",
              "...                                                 ...       ...   \n",
              "2476  Обратились с мужем в отделение сбербанка для п...  сбербанк   \n",
              "2477  Все равно каким способом получать деньги с кли...  сбербанк   \n",
              "2478  РефинансированиеНачну по порядку,живя в браке ...  сбербанк   \n",
              "2479  Моему возмущению нет предела.Я думала,что дове...  сбербанк   \n",
              "2480  Люди! Не подключайте услугу \"Мобильный банк\"! ...  сбербанк   \n",
              "\n",
              "                       site          date  \\\n",
              "0     http://bankireview.ru           NaN   \n",
              "1     http://bankireview.ru           NaN   \n",
              "2     http://bankireview.ru           NaN   \n",
              "3     http://bankireview.ru           NaN   \n",
              "4     http://bankireview.ru           NaN   \n",
              "...                     ...           ...   \n",
              "2476  https://www.sravni.ru  20 окт, 2015   \n",
              "2477  https://www.sravni.ru  05 дек, 2016   \n",
              "2478  https://www.sravni.ru  02 окт, 2018   \n",
              "2479  https://www.sravni.ru  23 авг, 2015   \n",
              "2480  https://www.sravni.ru  23 авг, 2015   \n",
              "\n",
              "                                  message_href score status user_href  \\\n",
              "0                                          NaN   NaN    NaN       NaN   \n",
              "1                                          NaN   NaN    NaN       NaN   \n",
              "2                                          NaN   NaN    NaN       NaN   \n",
              "3                                          NaN   NaN    NaN       NaN   \n",
              "4                                          NaN   NaN    NaN       NaN   \n",
              "...                                        ...   ...    ...       ...   \n",
              "2476  /bank/sberbank-rossii/otzyv/178947/?page     1    NaN       NaN   \n",
              "2477  /bank/sberbank-rossii/otzyv/219105/?page     1    NaN       NaN   \n",
              "2478  /bank/sberbank-rossii/otzyv/299483/?page     5    NaN       NaN   \n",
              "2479  /bank/sberbank-rossii/otzyv/170655/?page     1    NaN       NaN   \n",
              "2480  /bank/sberbank-rossii/otzyv/170646/?page     1    NaN       NaN   \n",
              "\n",
              "                                       tokenized_review  topic  \n",
              "0     3 раза я обращался по вопросу списаний за овер...      4  \n",
              "1     Очень возмущена и удивлена сложившейся ситуаци...      4  \n",
              "2     Я уже не знаю, дождемся ли мы, чтобы сбер пров...      0  \n",
              "3     Здравствуйте, у меня возникла следующая пробле...      4  \n",
              "4     Дорогой друг Сбербанк, как же мне не хочется и...      4  \n",
              "...                                                 ...    ...  \n",
              "2476  Обратились с мужем в отделение сбербанка для п...      1  \n",
              "2477  Все равно каким способом получать деньги с кли...      4  \n",
              "2478  РефинансированиеНачну по порядку,живя в браке ...      4  \n",
              "2479  Моему возмущению нет предела.Я думала,что дове...      4  \n",
              "2480  Люди! Не подключайте услугу \"Мобильный банк\"! ...      4  \n",
              "\n",
              "[2481 rows x 12 columns]"
            ],
            "text/html": [
              "\n",
              "  <div id=\"df-5b9d6fa1-4eaf-4bf2-a0e2-6fe8f6032983\">\n",
              "    <div class=\"colab-df-container\">\n",
              "      <div>\n",
              "<style scoped>\n",
              "    .dataframe tbody tr th:only-of-type {\n",
              "        vertical-align: middle;\n",
              "    }\n",
              "\n",
              "    .dataframe tbody tr th {\n",
              "        vertical-align: top;\n",
              "    }\n",
              "\n",
              "    .dataframe thead th {\n",
              "        text-align: right;\n",
              "    }\n",
              "</style>\n",
              "<table border=\"1\" class=\"dataframe\">\n",
              "  <thead>\n",
              "    <tr style=\"text-align: right;\">\n",
              "      <th></th>\n",
              "      <th>bank_href</th>\n",
              "      <th>login</th>\n",
              "      <th>review</th>\n",
              "      <th>bank_name</th>\n",
              "      <th>site</th>\n",
              "      <th>date</th>\n",
              "      <th>message_href</th>\n",
              "      <th>score</th>\n",
              "      <th>status</th>\n",
              "      <th>user_href</th>\n",
              "      <th>tokenized_review</th>\n",
              "      <th>topic</th>\n",
              "    </tr>\n",
              "  </thead>\n",
              "  <tbody>\n",
              "    <tr>\n",
              "      <th>0</th>\n",
              "      <td>/sberbank-rossii.html</td>\n",
              "      <td>NaN</td>\n",
              "      <td>3 раза я обращался по вопросу списаний за овер...</td>\n",
              "      <td>сбербанк</td>\n",
              "      <td>http://bankireview.ru</td>\n",
              "      <td>NaN</td>\n",
              "      <td>NaN</td>\n",
              "      <td>NaN</td>\n",
              "      <td>NaN</td>\n",
              "      <td>NaN</td>\n",
              "      <td>3 раза я обращался по вопросу списаний за овер...</td>\n",
              "      <td>4</td>\n",
              "    </tr>\n",
              "    <tr>\n",
              "      <th>1</th>\n",
              "      <td>/sberbank-rossii.html</td>\n",
              "      <td>NaN</td>\n",
              "      <td>Очень возмущена и удивлена сложившейся ситуаци...</td>\n",
              "      <td>сбербанк</td>\n",
              "      <td>http://bankireview.ru</td>\n",
              "      <td>NaN</td>\n",
              "      <td>NaN</td>\n",
              "      <td>NaN</td>\n",
              "      <td>NaN</td>\n",
              "      <td>NaN</td>\n",
              "      <td>Очень возмущена и удивлена сложившейся ситуаци...</td>\n",
              "      <td>4</td>\n",
              "    </tr>\n",
              "    <tr>\n",
              "      <th>2</th>\n",
              "      <td>/sberbank-rossii.html</td>\n",
              "      <td>NaN</td>\n",
              "      <td>Я уже не знаю, дождемся ли мы, чтобы сбер пров...</td>\n",
              "      <td>сбербанк</td>\n",
              "      <td>http://bankireview.ru</td>\n",
              "      <td>NaN</td>\n",
              "      <td>NaN</td>\n",
              "      <td>NaN</td>\n",
              "      <td>NaN</td>\n",
              "      <td>NaN</td>\n",
              "      <td>Я уже не знаю, дождемся ли мы, чтобы сбер пров...</td>\n",
              "      <td>0</td>\n",
              "    </tr>\n",
              "    <tr>\n",
              "      <th>3</th>\n",
              "      <td>/sberbank-rossii.html</td>\n",
              "      <td>NaN</td>\n",
              "      <td>Здравствуйте, у меня возникла следующая пробле...</td>\n",
              "      <td>сбербанк</td>\n",
              "      <td>http://bankireview.ru</td>\n",
              "      <td>NaN</td>\n",
              "      <td>NaN</td>\n",
              "      <td>NaN</td>\n",
              "      <td>NaN</td>\n",
              "      <td>NaN</td>\n",
              "      <td>Здравствуйте, у меня возникла следующая пробле...</td>\n",
              "      <td>4</td>\n",
              "    </tr>\n",
              "    <tr>\n",
              "      <th>4</th>\n",
              "      <td>/sberbank-rossii.html</td>\n",
              "      <td>NaN</td>\n",
              "      <td>Дорогой друг Сбербанк, как же мне не хочется и...</td>\n",
              "      <td>сбербанк</td>\n",
              "      <td>http://bankireview.ru</td>\n",
              "      <td>NaN</td>\n",
              "      <td>NaN</td>\n",
              "      <td>NaN</td>\n",
              "      <td>NaN</td>\n",
              "      <td>NaN</td>\n",
              "      <td>Дорогой друг Сбербанк, как же мне не хочется и...</td>\n",
              "      <td>4</td>\n",
              "    </tr>\n",
              "    <tr>\n",
              "      <th>...</th>\n",
              "      <td>...</td>\n",
              "      <td>...</td>\n",
              "      <td>...</td>\n",
              "      <td>...</td>\n",
              "      <td>...</td>\n",
              "      <td>...</td>\n",
              "      <td>...</td>\n",
              "      <td>...</td>\n",
              "      <td>...</td>\n",
              "      <td>...</td>\n",
              "      <td>...</td>\n",
              "      <td>...</td>\n",
              "    </tr>\n",
              "    <tr>\n",
              "      <th>2476</th>\n",
              "      <td>/bank/sberbank-rossii/</td>\n",
              "      <td>елена,</td>\n",
              "      <td>Обратились с мужем в отделение сбербанка для п...</td>\n",
              "      <td>сбербанк</td>\n",
              "      <td>https://www.sravni.ru</td>\n",
              "      <td>20 окт, 2015</td>\n",
              "      <td>/bank/sberbank-rossii/otzyv/178947/?page</td>\n",
              "      <td>1</td>\n",
              "      <td>NaN</td>\n",
              "      <td>NaN</td>\n",
              "      <td>Обратились с мужем в отделение сбербанка для п...</td>\n",
              "      <td>1</td>\n",
              "    </tr>\n",
              "    <tr>\n",
              "      <th>2477</th>\n",
              "      <td>/bank/sberbank-rossii/</td>\n",
              "      <td>Светлана Бачкова,</td>\n",
              "      <td>Все равно каким способом получать деньги с кли...</td>\n",
              "      <td>сбербанк</td>\n",
              "      <td>https://www.sravni.ru</td>\n",
              "      <td>05 дек, 2016</td>\n",
              "      <td>/bank/sberbank-rossii/otzyv/219105/?page</td>\n",
              "      <td>1</td>\n",
              "      <td>NaN</td>\n",
              "      <td>NaN</td>\n",
              "      <td>Все равно каким способом получать деньги с кли...</td>\n",
              "      <td>4</td>\n",
              "    </tr>\n",
              "    <tr>\n",
              "      <th>2478</th>\n",
              "      <td>/bank/sberbank-rossii/</td>\n",
              "      <td>Оксана,</td>\n",
              "      <td>РефинансированиеНачну по порядку,живя в браке ...</td>\n",
              "      <td>сбербанк</td>\n",
              "      <td>https://www.sravni.ru</td>\n",
              "      <td>02 окт, 2018</td>\n",
              "      <td>/bank/sberbank-rossii/otzyv/299483/?page</td>\n",
              "      <td>5</td>\n",
              "      <td>NaN</td>\n",
              "      <td>NaN</td>\n",
              "      <td>РефинансированиеНачну по порядку,живя в браке ...</td>\n",
              "      <td>4</td>\n",
              "    </tr>\n",
              "    <tr>\n",
              "      <th>2479</th>\n",
              "      <td>/bank/sberbank-rossii/</td>\n",
              "      <td>ольга,</td>\n",
              "      <td>Моему возмущению нет предела.Я думала,что дове...</td>\n",
              "      <td>сбербанк</td>\n",
              "      <td>https://www.sravni.ru</td>\n",
              "      <td>23 авг, 2015</td>\n",
              "      <td>/bank/sberbank-rossii/otzyv/170655/?page</td>\n",
              "      <td>1</td>\n",
              "      <td>NaN</td>\n",
              "      <td>NaN</td>\n",
              "      <td>Моему возмущению нет предела.Я думала,что дове...</td>\n",
              "      <td>4</td>\n",
              "    </tr>\n",
              "    <tr>\n",
              "      <th>2480</th>\n",
              "      <td>/bank/sberbank-rossii/</td>\n",
              "      <td>Евгения,</td>\n",
              "      <td>Люди! Не подключайте услугу \"Мобильный банк\"! ...</td>\n",
              "      <td>сбербанк</td>\n",
              "      <td>https://www.sravni.ru</td>\n",
              "      <td>23 авг, 2015</td>\n",
              "      <td>/bank/sberbank-rossii/otzyv/170646/?page</td>\n",
              "      <td>1</td>\n",
              "      <td>NaN</td>\n",
              "      <td>NaN</td>\n",
              "      <td>Люди! Не подключайте услугу \"Мобильный банк\"! ...</td>\n",
              "      <td>4</td>\n",
              "    </tr>\n",
              "  </tbody>\n",
              "</table>\n",
              "<p>2481 rows × 12 columns</p>\n",
              "</div>\n",
              "      <button class=\"colab-df-convert\" onclick=\"convertToInteractive('df-5b9d6fa1-4eaf-4bf2-a0e2-6fe8f6032983')\"\n",
              "              title=\"Convert this dataframe to an interactive table.\"\n",
              "              style=\"display:none;\">\n",
              "        \n",
              "  <svg xmlns=\"http://www.w3.org/2000/svg\" height=\"24px\"viewBox=\"0 0 24 24\"\n",
              "       width=\"24px\">\n",
              "    <path d=\"M0 0h24v24H0V0z\" fill=\"none\"/>\n",
              "    <path d=\"M18.56 5.44l.94 2.06.94-2.06 2.06-.94-2.06-.94-.94-2.06-.94 2.06-2.06.94zm-11 1L8.5 8.5l.94-2.06 2.06-.94-2.06-.94L8.5 2.5l-.94 2.06-2.06.94zm10 10l.94 2.06.94-2.06 2.06-.94-2.06-.94-.94-2.06-.94 2.06-2.06.94z\"/><path d=\"M17.41 7.96l-1.37-1.37c-.4-.4-.92-.59-1.43-.59-.52 0-1.04.2-1.43.59L10.3 9.45l-7.72 7.72c-.78.78-.78 2.05 0 2.83L4 21.41c.39.39.9.59 1.41.59.51 0 1.02-.2 1.41-.59l7.78-7.78 2.81-2.81c.8-.78.8-2.07 0-2.86zM5.41 20L4 18.59l7.72-7.72 1.47 1.35L5.41 20z\"/>\n",
              "  </svg>\n",
              "      </button>\n",
              "      \n",
              "  <style>\n",
              "    .colab-df-container {\n",
              "      display:flex;\n",
              "      flex-wrap:wrap;\n",
              "      gap: 12px;\n",
              "    }\n",
              "\n",
              "    .colab-df-convert {\n",
              "      background-color: #E8F0FE;\n",
              "      border: none;\n",
              "      border-radius: 50%;\n",
              "      cursor: pointer;\n",
              "      display: none;\n",
              "      fill: #1967D2;\n",
              "      height: 32px;\n",
              "      padding: 0 0 0 0;\n",
              "      width: 32px;\n",
              "    }\n",
              "\n",
              "    .colab-df-convert:hover {\n",
              "      background-color: #E2EBFA;\n",
              "      box-shadow: 0px 1px 2px rgba(60, 64, 67, 0.3), 0px 1px 3px 1px rgba(60, 64, 67, 0.15);\n",
              "      fill: #174EA6;\n",
              "    }\n",
              "\n",
              "    [theme=dark] .colab-df-convert {\n",
              "      background-color: #3B4455;\n",
              "      fill: #D2E3FC;\n",
              "    }\n",
              "\n",
              "    [theme=dark] .colab-df-convert:hover {\n",
              "      background-color: #434B5C;\n",
              "      box-shadow: 0px 1px 3px 1px rgba(0, 0, 0, 0.15);\n",
              "      filter: drop-shadow(0px 1px 2px rgba(0, 0, 0, 0.3));\n",
              "      fill: #FFFFFF;\n",
              "    }\n",
              "  </style>\n",
              "\n",
              "      <script>\n",
              "        const buttonEl =\n",
              "          document.querySelector('#df-5b9d6fa1-4eaf-4bf2-a0e2-6fe8f6032983 button.colab-df-convert');\n",
              "        buttonEl.style.display =\n",
              "          google.colab.kernel.accessAllowed ? 'block' : 'none';\n",
              "\n",
              "        async function convertToInteractive(key) {\n",
              "          const element = document.querySelector('#df-5b9d6fa1-4eaf-4bf2-a0e2-6fe8f6032983');\n",
              "          const dataTable =\n",
              "            await google.colab.kernel.invokeFunction('convertToInteractive',\n",
              "                                                     [key], {});\n",
              "          if (!dataTable) return;\n",
              "\n",
              "          const docLinkHtml = 'Like what you see? Visit the ' +\n",
              "            '<a target=\"_blank\" href=https://colab.research.google.com/notebooks/data_table.ipynb>data table notebook</a>'\n",
              "            + ' to learn more about interactive tables.';\n",
              "          element.innerHTML = '';\n",
              "          dataTable['output_type'] = 'display_data';\n",
              "          await google.colab.output.renderOutput(dataTable, element);\n",
              "          const docLink = document.createElement('div');\n",
              "          docLink.innerHTML = docLinkHtml;\n",
              "          element.appendChild(docLink);\n",
              "        }\n",
              "      </script>\n",
              "    </div>\n",
              "  </div>\n",
              "  "
            ]
          },
          "metadata": {},
          "execution_count": 51
        }
      ]
    },
    {
      "cell_type": "code",
      "source": [
        "data = df[['score', 'topic']]\n",
        "data = data[pd.to_numeric(data['score'], errors='coerce').notnull()]\n",
        "data.score = data.score.astype(float)\n",
        "data"
      ],
      "metadata": {
        "colab": {
          "base_uri": "https://localhost:8080/",
          "height": 423
        },
        "id": "ho4EoslITRhW",
        "outputId": "4a611654-a1a1-42e5-e4f0-f296794b241f"
      },
      "execution_count": null,
      "outputs": [
        {
          "output_type": "execute_result",
          "data": {
            "text/plain": [
              "      score  topic\n",
              "389     1.0      4\n",
              "390     1.0      3\n",
              "391     5.0      1\n",
              "392     1.0      2\n",
              "393     1.0      4\n",
              "...     ...    ...\n",
              "2476    1.0      1\n",
              "2477    1.0      4\n",
              "2478    5.0      4\n",
              "2479    1.0      4\n",
              "2480    1.0      4\n",
              "\n",
              "[1791 rows x 2 columns]"
            ],
            "text/html": [
              "\n",
              "  <div id=\"df-257a548f-7945-483e-b57b-c2f337555713\">\n",
              "    <div class=\"colab-df-container\">\n",
              "      <div>\n",
              "<style scoped>\n",
              "    .dataframe tbody tr th:only-of-type {\n",
              "        vertical-align: middle;\n",
              "    }\n",
              "\n",
              "    .dataframe tbody tr th {\n",
              "        vertical-align: top;\n",
              "    }\n",
              "\n",
              "    .dataframe thead th {\n",
              "        text-align: right;\n",
              "    }\n",
              "</style>\n",
              "<table border=\"1\" class=\"dataframe\">\n",
              "  <thead>\n",
              "    <tr style=\"text-align: right;\">\n",
              "      <th></th>\n",
              "      <th>score</th>\n",
              "      <th>topic</th>\n",
              "    </tr>\n",
              "  </thead>\n",
              "  <tbody>\n",
              "    <tr>\n",
              "      <th>389</th>\n",
              "      <td>1.0</td>\n",
              "      <td>4</td>\n",
              "    </tr>\n",
              "    <tr>\n",
              "      <th>390</th>\n",
              "      <td>1.0</td>\n",
              "      <td>3</td>\n",
              "    </tr>\n",
              "    <tr>\n",
              "      <th>391</th>\n",
              "      <td>5.0</td>\n",
              "      <td>1</td>\n",
              "    </tr>\n",
              "    <tr>\n",
              "      <th>392</th>\n",
              "      <td>1.0</td>\n",
              "      <td>2</td>\n",
              "    </tr>\n",
              "    <tr>\n",
              "      <th>393</th>\n",
              "      <td>1.0</td>\n",
              "      <td>4</td>\n",
              "    </tr>\n",
              "    <tr>\n",
              "      <th>...</th>\n",
              "      <td>...</td>\n",
              "      <td>...</td>\n",
              "    </tr>\n",
              "    <tr>\n",
              "      <th>2476</th>\n",
              "      <td>1.0</td>\n",
              "      <td>1</td>\n",
              "    </tr>\n",
              "    <tr>\n",
              "      <th>2477</th>\n",
              "      <td>1.0</td>\n",
              "      <td>4</td>\n",
              "    </tr>\n",
              "    <tr>\n",
              "      <th>2478</th>\n",
              "      <td>5.0</td>\n",
              "      <td>4</td>\n",
              "    </tr>\n",
              "    <tr>\n",
              "      <th>2479</th>\n",
              "      <td>1.0</td>\n",
              "      <td>4</td>\n",
              "    </tr>\n",
              "    <tr>\n",
              "      <th>2480</th>\n",
              "      <td>1.0</td>\n",
              "      <td>4</td>\n",
              "    </tr>\n",
              "  </tbody>\n",
              "</table>\n",
              "<p>1791 rows × 2 columns</p>\n",
              "</div>\n",
              "      <button class=\"colab-df-convert\" onclick=\"convertToInteractive('df-257a548f-7945-483e-b57b-c2f337555713')\"\n",
              "              title=\"Convert this dataframe to an interactive table.\"\n",
              "              style=\"display:none;\">\n",
              "        \n",
              "  <svg xmlns=\"http://www.w3.org/2000/svg\" height=\"24px\"viewBox=\"0 0 24 24\"\n",
              "       width=\"24px\">\n",
              "    <path d=\"M0 0h24v24H0V0z\" fill=\"none\"/>\n",
              "    <path d=\"M18.56 5.44l.94 2.06.94-2.06 2.06-.94-2.06-.94-.94-2.06-.94 2.06-2.06.94zm-11 1L8.5 8.5l.94-2.06 2.06-.94-2.06-.94L8.5 2.5l-.94 2.06-2.06.94zm10 10l.94 2.06.94-2.06 2.06-.94-2.06-.94-.94-2.06-.94 2.06-2.06.94z\"/><path d=\"M17.41 7.96l-1.37-1.37c-.4-.4-.92-.59-1.43-.59-.52 0-1.04.2-1.43.59L10.3 9.45l-7.72 7.72c-.78.78-.78 2.05 0 2.83L4 21.41c.39.39.9.59 1.41.59.51 0 1.02-.2 1.41-.59l7.78-7.78 2.81-2.81c.8-.78.8-2.07 0-2.86zM5.41 20L4 18.59l7.72-7.72 1.47 1.35L5.41 20z\"/>\n",
              "  </svg>\n",
              "      </button>\n",
              "      \n",
              "  <style>\n",
              "    .colab-df-container {\n",
              "      display:flex;\n",
              "      flex-wrap:wrap;\n",
              "      gap: 12px;\n",
              "    }\n",
              "\n",
              "    .colab-df-convert {\n",
              "      background-color: #E8F0FE;\n",
              "      border: none;\n",
              "      border-radius: 50%;\n",
              "      cursor: pointer;\n",
              "      display: none;\n",
              "      fill: #1967D2;\n",
              "      height: 32px;\n",
              "      padding: 0 0 0 0;\n",
              "      width: 32px;\n",
              "    }\n",
              "\n",
              "    .colab-df-convert:hover {\n",
              "      background-color: #E2EBFA;\n",
              "      box-shadow: 0px 1px 2px rgba(60, 64, 67, 0.3), 0px 1px 3px 1px rgba(60, 64, 67, 0.15);\n",
              "      fill: #174EA6;\n",
              "    }\n",
              "\n",
              "    [theme=dark] .colab-df-convert {\n",
              "      background-color: #3B4455;\n",
              "      fill: #D2E3FC;\n",
              "    }\n",
              "\n",
              "    [theme=dark] .colab-df-convert:hover {\n",
              "      background-color: #434B5C;\n",
              "      box-shadow: 0px 1px 3px 1px rgba(0, 0, 0, 0.15);\n",
              "      filter: drop-shadow(0px 1px 2px rgba(0, 0, 0, 0.3));\n",
              "      fill: #FFFFFF;\n",
              "    }\n",
              "  </style>\n",
              "\n",
              "      <script>\n",
              "        const buttonEl =\n",
              "          document.querySelector('#df-257a548f-7945-483e-b57b-c2f337555713 button.colab-df-convert');\n",
              "        buttonEl.style.display =\n",
              "          google.colab.kernel.accessAllowed ? 'block' : 'none';\n",
              "\n",
              "        async function convertToInteractive(key) {\n",
              "          const element = document.querySelector('#df-257a548f-7945-483e-b57b-c2f337555713');\n",
              "          const dataTable =\n",
              "            await google.colab.kernel.invokeFunction('convertToInteractive',\n",
              "                                                     [key], {});\n",
              "          if (!dataTable) return;\n",
              "\n",
              "          const docLinkHtml = 'Like what you see? Visit the ' +\n",
              "            '<a target=\"_blank\" href=https://colab.research.google.com/notebooks/data_table.ipynb>data table notebook</a>'\n",
              "            + ' to learn more about interactive tables.';\n",
              "          element.innerHTML = '';\n",
              "          dataTable['output_type'] = 'display_data';\n",
              "          await google.colab.output.renderOutput(dataTable, element);\n",
              "          const docLink = document.createElement('div');\n",
              "          docLink.innerHTML = docLinkHtml;\n",
              "          element.appendChild(docLink);\n",
              "        }\n",
              "      </script>\n",
              "    </div>\n",
              "  </div>\n",
              "  "
            ]
          },
          "metadata": {},
          "execution_count": 55
        }
      ]
    },
    {
      "cell_type": "code",
      "source": [
        "data.groupby('topic')['score'].mean()"
      ],
      "metadata": {
        "colab": {
          "base_uri": "https://localhost:8080/"
        },
        "id": "MoW_U1L1TrWz",
        "outputId": "4ffd2860-0c1d-4199-ec0f-3fd605882dc0"
      },
      "execution_count": null,
      "outputs": [
        {
          "output_type": "execute_result",
          "data": {
            "text/plain": [
              "topic\n",
              "0    1.478261\n",
              "1    4.399160\n",
              "2    1.287879\n",
              "3    1.628049\n",
              "4    1.505673\n",
              "Name: score, dtype: float64"
            ]
          },
          "metadata": {},
          "execution_count": 56
        }
      ]
    },
    {
      "cell_type": "markdown",
      "source": [
        "Я думаю, что существует некоторая связь в оценкой и темой, например, в теме 1, в которой отзывы об оформлении страховок и кредитов и они имею более высокую оценку"
      ],
      "metadata": {
        "id": "Q72IHOxzbv9K"
      }
    }
  ],
  "metadata": {
    "colab": {
      "collapsed_sections": [],
      "name": "Lab_3_reveiew_template.ipynb",
      "provenance": [],
      "toc_visible": true,
      "include_colab_link": true
    },
    "kernelspec": {
      "display_name": "Python 3",
      "language": "python",
      "name": "python3"
    },
    "language_info": {
      "codemirror_mode": {
        "name": "ipython",
        "version": 3
      },
      "file_extension": ".py",
      "mimetype": "text/x-python",
      "name": "python",
      "nbconvert_exporter": "python",
      "pygments_lexer": "ipython3",
      "version": "3.8.8"
    }
  },
  "nbformat": 4,
  "nbformat_minor": 0
}
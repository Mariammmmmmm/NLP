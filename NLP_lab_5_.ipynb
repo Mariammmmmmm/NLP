{
  "cells": [
    {
      "cell_type": "markdown",
      "metadata": {
        "id": "view-in-github",
        "colab_type": "text"
      },
      "source": [
        "<a href=\"https://colab.research.google.com/github/Mariammmmmmm/NLP/blob/main/NLP_lab_5_.ipynb\" target=\"_parent\"><img src=\"https://colab.research.google.com/assets/colab-badge.svg\" alt=\"Open In Colab\"/></a>"
      ]
    },
    {
      "cell_type": "markdown",
      "metadata": {
        "id": "xTVaXSrvPSfs"
      },
      "source": [
        "# Lab 5"
      ]
    },
    {
      "cell_type": "markdown",
      "metadata": {
        "id": "UCYIVGi7Y5VU"
      },
      "source": [
        "Цель: Выполнить тематическое моделирование финансовых новостей в Индии (согласно датасету)."
      ]
    },
    {
      "cell_type": "code",
      "execution_count": null,
      "metadata": {
        "id": "KTtxvnOGMayh"
      },
      "outputs": [],
      "source": [
        "import re\n",
        "import numpy as np\n",
        "import pandas as pd\n",
        "from pprint import pprint\n",
        "\n",
        "# Gensim \n",
        "import gensim\n",
        "import gensim.corpora as corpora\n",
        "from gensim.utils import simple_preprocess\n",
        "from gensim.models import CoherenceModel\n",
        "\n",
        "import warnings\n",
        "warnings.filterwarnings(\"ignore\", category=DeprecationWarning)"
      ]
    },
    {
      "cell_type": "code",
      "execution_count": null,
      "metadata": {
        "colab": {
          "base_uri": "https://localhost:8080/",
          "height": 206
        },
        "id": "otn1eA4pPlVv",
        "outputId": "64740667-e242-494a-ded6-ffe3c1d91b33"
      },
      "outputs": [
        {
          "output_type": "execute_result",
          "data": {
            "text/plain": [
              "   Unnamed: 0                    Date  \\\n",
              "0           0   May 26, 2020, Tuesday   \n",
              "1           1   May 26, 2020, Tuesday   \n",
              "2           2    May 25, 2020, Monday   \n",
              "3           3    May 24, 2020, Sunday   \n",
              "4           4  May 23, 2020, Saturday   \n",
              "\n",
              "                                               Title  \\\n",
              "0  ATMs to become virtual bank branches, accept d...   \n",
              "1  IDFC First Bank seniors to forgo 65% of bonus ...   \n",
              "2  Huge scam in YES Bank for many years, says Enf...   \n",
              "3  Bank of Maharashtra sanctioned Rs 2,789 cr in ...   \n",
              "4  DCB Bank's profit before tax declines 37.6% to...   \n",
              "\n",
              "                                         Description  \n",
              "0  Close to 14.6 per cent (or 35,000) of the 240,...  \n",
              "1  V Vaidyanathan, managing director and chief ex...  \n",
              "2  Rana Kapoor's wife also charged with abetting ...  \n",
              "3  The bank said it was now gearing up to extend ...  \n",
              "4  Net profit for the financial year ended March ...  "
            ],
            "text/html": [
              "\n",
              "  <div id=\"df-fb085b9e-3ce9-48d3-b0ff-cea1c038274f\">\n",
              "    <div class=\"colab-df-container\">\n",
              "      <div>\n",
              "<style scoped>\n",
              "    .dataframe tbody tr th:only-of-type {\n",
              "        vertical-align: middle;\n",
              "    }\n",
              "\n",
              "    .dataframe tbody tr th {\n",
              "        vertical-align: top;\n",
              "    }\n",
              "\n",
              "    .dataframe thead th {\n",
              "        text-align: right;\n",
              "    }\n",
              "</style>\n",
              "<table border=\"1\" class=\"dataframe\">\n",
              "  <thead>\n",
              "    <tr style=\"text-align: right;\">\n",
              "      <th></th>\n",
              "      <th>Unnamed: 0</th>\n",
              "      <th>Date</th>\n",
              "      <th>Title</th>\n",
              "      <th>Description</th>\n",
              "    </tr>\n",
              "  </thead>\n",
              "  <tbody>\n",
              "    <tr>\n",
              "      <th>0</th>\n",
              "      <td>0</td>\n",
              "      <td>May 26, 2020, Tuesday</td>\n",
              "      <td>ATMs to become virtual bank branches, accept d...</td>\n",
              "      <td>Close to 14.6 per cent (or 35,000) of the 240,...</td>\n",
              "    </tr>\n",
              "    <tr>\n",
              "      <th>1</th>\n",
              "      <td>1</td>\n",
              "      <td>May 26, 2020, Tuesday</td>\n",
              "      <td>IDFC First Bank seniors to forgo 65% of bonus ...</td>\n",
              "      <td>V Vaidyanathan, managing director and chief ex...</td>\n",
              "    </tr>\n",
              "    <tr>\n",
              "      <th>2</th>\n",
              "      <td>2</td>\n",
              "      <td>May 25, 2020, Monday</td>\n",
              "      <td>Huge scam in YES Bank for many years, says Enf...</td>\n",
              "      <td>Rana Kapoor's wife also charged with abetting ...</td>\n",
              "    </tr>\n",
              "    <tr>\n",
              "      <th>3</th>\n",
              "      <td>3</td>\n",
              "      <td>May 24, 2020, Sunday</td>\n",
              "      <td>Bank of Maharashtra sanctioned Rs 2,789 cr in ...</td>\n",
              "      <td>The bank said it was now gearing up to extend ...</td>\n",
              "    </tr>\n",
              "    <tr>\n",
              "      <th>4</th>\n",
              "      <td>4</td>\n",
              "      <td>May 23, 2020, Saturday</td>\n",
              "      <td>DCB Bank's profit before tax declines 37.6% to...</td>\n",
              "      <td>Net profit for the financial year ended March ...</td>\n",
              "    </tr>\n",
              "  </tbody>\n",
              "</table>\n",
              "</div>\n",
              "      <button class=\"colab-df-convert\" onclick=\"convertToInteractive('df-fb085b9e-3ce9-48d3-b0ff-cea1c038274f')\"\n",
              "              title=\"Convert this dataframe to an interactive table.\"\n",
              "              style=\"display:none;\">\n",
              "        \n",
              "  <svg xmlns=\"http://www.w3.org/2000/svg\" height=\"24px\"viewBox=\"0 0 24 24\"\n",
              "       width=\"24px\">\n",
              "    <path d=\"M0 0h24v24H0V0z\" fill=\"none\"/>\n",
              "    <path d=\"M18.56 5.44l.94 2.06.94-2.06 2.06-.94-2.06-.94-.94-2.06-.94 2.06-2.06.94zm-11 1L8.5 8.5l.94-2.06 2.06-.94-2.06-.94L8.5 2.5l-.94 2.06-2.06.94zm10 10l.94 2.06.94-2.06 2.06-.94-2.06-.94-.94-2.06-.94 2.06-2.06.94z\"/><path d=\"M17.41 7.96l-1.37-1.37c-.4-.4-.92-.59-1.43-.59-.52 0-1.04.2-1.43.59L10.3 9.45l-7.72 7.72c-.78.78-.78 2.05 0 2.83L4 21.41c.39.39.9.59 1.41.59.51 0 1.02-.2 1.41-.59l7.78-7.78 2.81-2.81c.8-.78.8-2.07 0-2.86zM5.41 20L4 18.59l7.72-7.72 1.47 1.35L5.41 20z\"/>\n",
              "  </svg>\n",
              "      </button>\n",
              "      \n",
              "  <style>\n",
              "    .colab-df-container {\n",
              "      display:flex;\n",
              "      flex-wrap:wrap;\n",
              "      gap: 12px;\n",
              "    }\n",
              "\n",
              "    .colab-df-convert {\n",
              "      background-color: #E8F0FE;\n",
              "      border: none;\n",
              "      border-radius: 50%;\n",
              "      cursor: pointer;\n",
              "      display: none;\n",
              "      fill: #1967D2;\n",
              "      height: 32px;\n",
              "      padding: 0 0 0 0;\n",
              "      width: 32px;\n",
              "    }\n",
              "\n",
              "    .colab-df-convert:hover {\n",
              "      background-color: #E2EBFA;\n",
              "      box-shadow: 0px 1px 2px rgba(60, 64, 67, 0.3), 0px 1px 3px 1px rgba(60, 64, 67, 0.15);\n",
              "      fill: #174EA6;\n",
              "    }\n",
              "\n",
              "    [theme=dark] .colab-df-convert {\n",
              "      background-color: #3B4455;\n",
              "      fill: #D2E3FC;\n",
              "    }\n",
              "\n",
              "    [theme=dark] .colab-df-convert:hover {\n",
              "      background-color: #434B5C;\n",
              "      box-shadow: 0px 1px 3px 1px rgba(0, 0, 0, 0.15);\n",
              "      filter: drop-shadow(0px 1px 2px rgba(0, 0, 0, 0.3));\n",
              "      fill: #FFFFFF;\n",
              "    }\n",
              "  </style>\n",
              "\n",
              "      <script>\n",
              "        const buttonEl =\n",
              "          document.querySelector('#df-fb085b9e-3ce9-48d3-b0ff-cea1c038274f button.colab-df-convert');\n",
              "        buttonEl.style.display =\n",
              "          google.colab.kernel.accessAllowed ? 'block' : 'none';\n",
              "\n",
              "        async function convertToInteractive(key) {\n",
              "          const element = document.querySelector('#df-fb085b9e-3ce9-48d3-b0ff-cea1c038274f');\n",
              "          const dataTable =\n",
              "            await google.colab.kernel.invokeFunction('convertToInteractive',\n",
              "                                                     [key], {});\n",
              "          if (!dataTable) return;\n",
              "\n",
              "          const docLinkHtml = 'Like what you see? Visit the ' +\n",
              "            '<a target=\"_blank\" href=https://colab.research.google.com/notebooks/data_table.ipynb>data table notebook</a>'\n",
              "            + ' to learn more about interactive tables.';\n",
              "          element.innerHTML = '';\n",
              "          dataTable['output_type'] = 'display_data';\n",
              "          await google.colab.output.renderOutput(dataTable, element);\n",
              "          const docLink = document.createElement('div');\n",
              "          docLink.innerHTML = docLinkHtml;\n",
              "          element.appendChild(docLink);\n",
              "        }\n",
              "      </script>\n",
              "    </div>\n",
              "  </div>\n",
              "  "
            ]
          },
          "metadata": {},
          "execution_count": 3
        }
      ],
      "source": [
        "df = pd.read_csv('IndianFinancialNews.csv')\n",
        "df.reset_index(drop=True, inplace=True)\n",
        "df.head()"
      ]
    },
    {
      "cell_type": "code",
      "execution_count": null,
      "metadata": {
        "colab": {
          "base_uri": "https://localhost:8080/"
        },
        "id": "Odl33zQDQFJG",
        "outputId": "0bf7bbfb-e509-49c9-fc00-f2b3d7fb11ac"
      },
      "outputs": [
        {
          "output_type": "execute_result",
          "data": {
            "text/plain": [
              "0        Close to 14.6 per cent (or 35,000) of the 240,...\n",
              "1        V Vaidyanathan, managing director and chief ex...\n",
              "2        Rana Kapoor's wife also charged with abetting ...\n",
              "3        The bank said it was now gearing up to extend ...\n",
              "4        Net profit for the financial year ended March ...\n",
              "                               ...                        \n",
              "49995    Lic Mops Up Government Securities As Prices Crash\n",
              "49996    Banks Plan To Raise Lending Rates Without Alte...\n",
              "49997            Net Scheduled Inflows Of Rs 1,559.9 Crore\n",
              "49998        Rbi Calls Meet To Push Floating Rate Deposits\n",
              "49999                      Sticky Loans Divide Consortiums\n",
              "Name: tokenized_news, Length: 50000, dtype: object"
            ]
          },
          "metadata": {},
          "execution_count": 4
        }
      ],
      "source": [
        "df['tokenized_news'] = df['Description']\n",
        "df['tokenized_news']"
      ]
    },
    {
      "cell_type": "code",
      "execution_count": null,
      "metadata": {
        "colab": {
          "base_uri": "https://localhost:8080/"
        },
        "id": "jQm7Vqn7V9Ot",
        "outputId": "89bdc656-4daf-463e-c838-c3224fe53fd9"
      },
      "outputs": [
        {
          "output_type": "execute_result",
          "data": {
            "text/plain": [
              "0        Close to 14.6 per cent (or 35,000) of the 240,...\n",
              "1        V Vaidyanathan, managing director and chief ex...\n",
              "2        Rana Kapoor's wife also charged with abetting ...\n",
              "3        The bank said it was now gearing up to extend ...\n",
              "4        Net profit for the financial year ended March ...\n",
              "                               ...                        \n",
              "49995    Lic Mops Up Government Securities As Prices Crash\n",
              "49996    Banks Plan To Raise Lending Rates Without Alte...\n",
              "49997            Net Scheduled Inflows Of Rs 1,559.9 Crore\n",
              "49998        Rbi Calls Meet To Push Floating Rate Deposits\n",
              "49999                      Sticky Loans Divide Consortiums\n",
              "Name: tokenized_news, Length: 49290, dtype: object"
            ]
          },
          "metadata": {},
          "execution_count": 5
        }
      ],
      "source": [
        "df = df.dropna()\n",
        "df['tokenized_news']"
      ]
    },
    {
      "cell_type": "code",
      "execution_count": null,
      "metadata": {
        "colab": {
          "base_uri": "https://localhost:8080/",
          "height": 36
        },
        "id": "xCM2GtWQQYWt",
        "outputId": "fbaf8c14-f62b-4cf2-d64b-8f870bc86697"
      },
      "outputs": [
        {
          "output_type": "execute_result",
          "data": {
            "text/plain": [
              "'Close to 14.6 per cent (or 35,000) of the 240,000 ATMs in India are new-age recyclers, even though they have been around for only ...'"
            ],
            "application/vnd.google.colaboratory.intrinsic+json": {
              "type": "string"
            }
          },
          "metadata": {},
          "execution_count": 6
        }
      ],
      "source": [
        "data = df.tokenized_news.tolist()\n",
        "\n",
        "data[0]"
      ]
    },
    {
      "cell_type": "code",
      "execution_count": null,
      "metadata": {
        "id": "9Dm6L4RsTr3t"
      },
      "outputs": [],
      "source": [
        "def remove_punkt(text):\n",
        "    text = re.sub(r\"[0-9_-]\", \"\", text)\n",
        "    text = re.sub(r\"\\s+\",\" \",  text)\n",
        "    text = text.strip()\n",
        "    return text"
      ]
    },
    {
      "cell_type": "code",
      "execution_count": null,
      "metadata": {
        "colab": {
          "base_uri": "https://localhost:8080/"
        },
        "id": "TJcwtpNiQf1t",
        "outputId": "3ae3912d-915f-4e56-c309-46e846ecdbd1"
      },
      "outputs": [
        {
          "output_type": "stream",
          "name": "stdout",
          "text": [
            "[nltk_data] Downloading package punkt to /root/nltk_data...\n",
            "[nltk_data]   Unzipping tokenizers/punkt.zip.\n",
            "[nltk_data] Downloading package wordnet to /root/nltk_data...\n",
            "[nltk_data]   Unzipping corpora/wordnet.zip.\n",
            "[nltk_data] Downloading package stopwords to /root/nltk_data...\n",
            "[nltk_data]   Unzipping corpora/stopwords.zip.\n"
          ]
        }
      ],
      "source": [
        "import nltk\n",
        "from nltk.corpus import wordnet \n",
        "from nltk.stem import PorterStemmer, WordNetLemmatizer\n",
        "from nltk.corpus import stopwords\n",
        "from nltk.tokenize import word_tokenize\n",
        "# convert to lower case, removing stop words, numbers / non-alphabetic characters, lemmatization.\n",
        "\n",
        "nltk.download('punkt')\n",
        "nltk.download('wordnet')\n",
        "nltk.download('stopwords')\n",
        "\n",
        "stop_words = set(stopwords.words('english') + ['ha', 'wa', 'say', 'said', 'bank', 'indian', 'finance', 'money', 'cent', 'news', 'today', 'week', 'rupees'])\n",
        "lemmatizer = WordNetLemmatizer()\n",
        "def clear(text):\n",
        "  text = text.lower()\n",
        "  text = list(filter(str.isalpha, word_tokenize(text.lower())))\n",
        "  text = list(lemmatizer.lemmatize(word) for word in text)\n",
        "  text = list(word for word in text if word not in stop_words)\n",
        "  new_text = ' '.join(text)\n",
        "  return new_text\n"
      ]
    },
    {
      "cell_type": "code",
      "execution_count": null,
      "metadata": {
        "colab": {
          "base_uri": "https://localhost:8080/",
          "height": 36
        },
        "id": "hmboto_dTASH",
        "outputId": "ad3e45af-d783-411c-9764-4734d68bef5e"
      },
      "outputs": [
        {
          "output_type": "execute_result",
          "data": {
            "text/plain": [
              "'close per atm india newage recyclers even though around'"
            ],
            "application/vnd.google.colaboratory.intrinsic+json": {
              "type": "string"
            }
          },
          "metadata": {},
          "execution_count": 9
        }
      ],
      "source": [
        "data = [remove_punkt(d) for d in data]\n",
        "data = [clear(d) for d in data]\n",
        "data[0]"
      ]
    },
    {
      "cell_type": "code",
      "execution_count": null,
      "metadata": {
        "colab": {
          "base_uri": "https://localhost:8080/"
        },
        "id": "nKhfNkZkWTQk",
        "outputId": "15202c60-035d-4d8e-cff5-823f55b84065"
      },
      "outputs": [
        {
          "output_type": "stream",
          "name": "stdout",
          "text": [
            "['gearing', 'extend', 'stimulus', 'package', 'announced', 'minister', 'nirmala', 'sitharaman', 'restart']\n"
          ]
        }
      ],
      "source": [
        "data_words = [d.split(' ') for d in data]\n",
        "print(data_words[3])"
      ]
    },
    {
      "cell_type": "code",
      "execution_count": null,
      "metadata": {
        "colab": {
          "base_uri": "https://localhost:8080/"
        },
        "id": "7Kd3wFqeZM7t",
        "outputId": "ad417baf-67fc-45ab-f4c5-c26424560d7c"
      },
      "outputs": [
        {
          "output_type": "execute_result",
          "data": {
            "text/plain": [
              "['hdfc',\n",
              " 'cut',\n",
              " 'base',\n",
              " 'rate',\n",
              " 'bps',\n",
              " 'sbi',\n",
              " 'call',\n",
              " 'alco',\n",
              " 'meeting',\n",
              " 'take',\n",
              " 'call']"
            ]
          },
          "metadata": {},
          "execution_count": 11
        }
      ],
      "source": [
        "# Build the bigram \n",
        "bigram = gensim.models.Phrases(data_words, min_count=2, threshold=100)\n",
        "bigram_mod = gensim.models.phrases.Phraser(bigram)\n",
        "\n",
        "# Define functions for bigrams\n",
        "\n",
        "def make_bigrams(texts):\n",
        "    return [bigram_mod[doc] for doc in texts]\n",
        "\n",
        "# Form Bigrams\n",
        "data_words_bigrams = make_bigrams(data_words)\n",
        "data_words_bigrams[6]"
      ]
    },
    {
      "cell_type": "code",
      "execution_count": null,
      "metadata": {
        "colab": {
          "base_uri": "https://localhost:8080/"
        },
        "id": "4QlLScUmZaqq",
        "outputId": "1492f40c-4217-45a2-8128-5c190b7c1d29"
      },
      "outputs": [
        {
          "output_type": "stream",
          "name": "stdout",
          "text": [
            "[[(0, 1), (1, 1), (2, 1), (3, 1), (4, 1), (5, 1), (6, 1), (7, 1)]]\n"
          ]
        }
      ],
      "source": [
        "# Create Dictionary\n",
        "id2word = corpora.Dictionary(data_words_bigrams)\n",
        "\n",
        "# Create Corpus\n",
        "texts = data_words_bigrams\n",
        "\n",
        "# Term Document Frequency\n",
        "corpus = [id2word.doc2bow(text) for text in texts]\n",
        "\n",
        "# View\n",
        "# unique id - count\n",
        "print(corpus[:1])"
      ]
    },
    {
      "cell_type": "code",
      "execution_count": null,
      "metadata": {
        "id": "DM_njawhZlAE"
      },
      "outputs": [],
      "source": [
        "def compute_coherence_values(dictionary, corpus, texts, limit, start=2, step=1):\n",
        "    \"\"\"\n",
        "    Compute c_v coherence for various number of topics\n",
        "\n",
        "    Parameters:\n",
        "    ----------\n",
        "    dictionary : Gensim dictionary\n",
        "    corpus : Gensim corpus\n",
        "    texts : List of input texts\n",
        "    limit : Max num of topics\n",
        "\n",
        "    Returns:\n",
        "    -------\n",
        "    model_list : List of LDA topic models\n",
        "    coherence_values : Coherence values corresponding to the LDA model with respective number of topics\n",
        "    \"\"\"\n",
        "    coherence_values = []\n",
        "    model_list = []\n",
        "    for num_topics in range(start, limit, step):\n",
        "        model = gensim.models.ldamodel.LdaModel(corpus=corpus,\n",
        "                                           id2word=id2word,\n",
        "                                           num_topics=num_topics, \n",
        "                                           random_state=100,\n",
        "                                           update_every=1,\n",
        "                                           chunksize=100,\n",
        "                                           passes=10,\n",
        "                                           alpha='auto',\n",
        "                                           per_word_topics=True)\n",
        "        model_list.append(model)\n",
        "        coherencemodel = CoherenceModel(model=model, texts=texts, dictionary=dictionary, coherence='c_v')\n",
        "        coherence_values.append(coherencemodel.get_coherence())\n",
        "\n",
        "    return model_list, coherence_values\n",
        "# Can take a long time to run.\n",
        "model_list, coherence_values = compute_coherence_values(dictionary=id2word, corpus=corpus, texts=data_words_bigrams, start=2, limit=10, step=1)"
      ]
    },
    {
      "cell_type": "code",
      "source": [
        "print(coherence_values[1])"
      ],
      "metadata": {
        "colab": {
          "base_uri": "https://localhost:8080/"
        },
        "id": "28-62qrhaQX7",
        "outputId": "88fe7283-ee0c-4dec-ecbb-8572279ab17d"
      },
      "execution_count": null,
      "outputs": [
        {
          "output_type": "stream",
          "name": "stdout",
          "text": [
            "0.251030974338625\n"
          ]
        }
      ]
    },
    {
      "cell_type": "code",
      "execution_count": null,
      "metadata": {
        "id": "hk4b8qclZooR",
        "colab": {
          "base_uri": "https://localhost:8080/",
          "height": 279
        },
        "outputId": "b804de67-60a5-4ac5-e583-b034723761ab"
      },
      "outputs": [
        {
          "output_type": "display_data",
          "data": {
            "text/plain": [
              "<Figure size 432x288 with 1 Axes>"
            ],
            "image/png": "[encoded data removed]"
          },
          "metadata": {
            "needs_background": "light"
          }
        }
      ],
      "source": [
        "import matplotlib.pyplot as plt\n",
        "# Show graph\n",
        "limit=10; start=2; step=1;\n",
        "x = range(start, limit, step)\n",
        "plt.plot(x, coherence_values)\n",
        "plt.xlabel(\"Num Topics\")\n",
        "plt.ylabel(\"Coherence score\")\n",
        "plt.legend((\"coherence_values\"), loc='best')\n",
        "plt.show()"
      ]
    },
    {
      "cell_type": "code",
      "execution_count": null,
      "metadata": {
        "id": "c9cBD0HYZuU-"
      },
      "outputs": [],
      "source": [
        "def compute_perplexity_values(dictionary, corpus, texts, limit, start=2, step=1):\n",
        "    \"\"\"\n",
        "    Compute c_v perplexity for various number of topics\n",
        "\n",
        "    Parameters:\n",
        "    ----------\n",
        "    dictionary : Gensim dictionary\n",
        "    corpus : Gensim corpus\n",
        "    texts : List of input texts\n",
        "    limit : Max num of topics\n",
        "\n",
        "    Returns:\n",
        "    -------\n",
        "    model_list : List of LDA topic models\n",
        "    perplexity_values : Perplexity values corresponding to the LDA model with respective number of topics\n",
        "    \"\"\"\n",
        "    \n",
        "    perplexity_values = []\n",
        "    model_list = []\n",
        "    for num_topics in range(start, limit, step):\n",
        "        model = gensim.models.ldamodel.LdaModel(corpus=corpus,\n",
        "                                           id2word=id2word,\n",
        "                                           num_topics=num_topics, \n",
        "                                           random_state=100,\n",
        "                                           update_every=1,\n",
        "                                           chunksize=100,\n",
        "                                           passes=10,\n",
        "                                           alpha='auto',\n",
        "                                           per_word_topics=True)\n",
        "        model_list.append(model)\n",
        "        coherencemodel = CoherenceModel(model=model, texts=texts, dictionary=dictionary, coherence='c_v')\n",
        "        perplexity_values.append(model.log_perplexity(corpus))\n",
        "\n",
        "    return model_list, perplexity_values\n",
        "\n",
        "model_list, perplexity_values = compute_perplexity_values(dictionary=id2word, corpus=corpus, texts=data_words_bigrams, start=2, limit=10, step=1)"
      ]
    },
    {
      "cell_type": "code",
      "source": [
        "perplexity_values[2]"
      ],
      "metadata": {
        "colab": {
          "base_uri": "https://localhost:8080/"
        },
        "id": "2rOmNfdhMKty",
        "outputId": "60fe0df7-3048-422a-af71-5f3eb29eab10"
      },
      "execution_count": null,
      "outputs": [
        {
          "output_type": "execute_result",
          "data": {
            "text/plain": [
              "-8.193039290024437"
            ]
          },
          "metadata": {},
          "execution_count": 20
        }
      ]
    },
    {
      "cell_type": "code",
      "execution_count": null,
      "metadata": {
        "id": "ZEIwk9zYZ49R",
        "colab": {
          "base_uri": "https://localhost:8080/",
          "height": 279
        },
        "outputId": "f29c2340-b543-463d-84d2-6f528c6640e9"
      },
      "outputs": [
        {
          "output_type": "display_data",
          "data": {
            "text/plain": [
              "<Figure size 432x288 with 1 Axes>"
            ],
            "image/png": "[encoded data removed]"
          },
          "metadata": {
            "needs_background": "light"
          }
        }
      ],
      "source": [
        "import matplotlib.pyplot as plt\n",
        "# Show graph\n",
        "limit=10; start=2; step=1;\n",
        "x = range(start, limit, step)\n",
        "plt.plot(x, perplexity_values)\n",
        "plt.xlabel(\"Num Topics\")\n",
        "plt.ylabel(\"Perplexity score\")\n",
        "plt.legend((\"perplexity_values\"), loc='best')\n",
        "plt.show()"
      ]
    },
    {
      "cell_type": "markdown",
      "metadata": {
        "id": "hF7XjmUqnjTg"
      },
      "source": [
        "Согласно графикам выберем количество тем равное 2"
      ]
    },
    {
      "cell_type": "code",
      "execution_count": null,
      "metadata": {
        "id": "ysXJcQ0cni_L"
      },
      "outputs": [],
      "source": [
        "lda_model = gensim.models.ldamodel.LdaModel(corpus=corpus,\n",
        "                                           id2word=id2word,\n",
        "                                           num_topics=2, \n",
        "                                           random_state=100,\n",
        "                                           update_every=1,\n",
        "                                           chunksize=100,\n",
        "                                           passes=10,\n",
        "                                           alpha='auto',\n",
        "                                           per_word_topics=True)"
      ]
    },
    {
      "cell_type": "code",
      "execution_count": null,
      "metadata": {
        "id": "E1Z9QNqrnvKT",
        "colab": {
          "base_uri": "https://localhost:8080/"
        },
        "outputId": "0e0dd952-5b33-4d53-a261-0371a3aa2dc1"
      },
      "outputs": [
        {
          "output_type": "stream",
          "name": "stdout",
          "text": [
            "[(0, '0.027*\"india\" + 0.021*\"market\" + 0.015*\"insurance\" + 0.015*\"rbi\" + 0.015*\"reserve\" + 0.009*\"life\" + 0.008*\"report\" + 0.008*\"government\" + 0.008*\"company\" + 0.007*\"foreign\"'), (1, '0.044*\"r\" + 0.036*\"crore\" + 0.027*\"per\" + 0.022*\"rate\" + 0.017*\"state\" + 0.015*\"net\" + 0.015*\"loan\" + 0.015*\"sector\" + 0.013*\"credit\" + 0.012*\"year\"')]\n"
          ]
        }
      ],
      "source": [
        "# Print the Keyword in the 5 topics\n",
        "print(lda_model.print_topics())\n",
        "doc_lda = lda_model[corpus]"
      ]
    },
    {
      "cell_type": "code",
      "execution_count": null,
      "metadata": {
        "id": "G7cWDtSyn0l0",
        "colab": {
          "base_uri": "https://localhost:8080/"
        },
        "outputId": "c3d8f854-349a-4c4d-e9d8-a23bebabe584"
      },
      "outputs": [
        {
          "output_type": "stream",
          "name": "stdout",
          "text": [
            "Collecting pyLDAvis\n",
            "  Downloading pyLDAvis-3.3.1.tar.gz (1.7 MB)\n",
            "\u001b[K     |████████████████████████████████| 1.7 MB 7.6 MB/s \n",
            "\u001b[?25h  Installing build dependencies ... \u001b[?25l\u001b[?25hdone\n",
            "  Getting requirements to build wheel ... \u001b[?25l\u001b[?25hdone\n",
            "  Installing backend dependencies ... \u001b[?25l\u001b[?25hdone\n",
            "    Preparing wheel metadata ... \u001b[?25l\u001b[?25hdone\n",
            "Requirement already satisfied: scikit-learn in /usr/local/lib/python3.7/dist-packages (from pyLDAvis) (1.0.2)\n",
            "Requirement already satisfied: future in /usr/local/lib/python3.7/dist-packages (from pyLDAvis) (0.16.0)\n",
            "Collecting funcy\n",
            "  Downloading funcy-1.17-py2.py3-none-any.whl (33 kB)\n",
            "Requirement already satisfied: sklearn in /usr/local/lib/python3.7/dist-packages (from pyLDAvis) (0.0)\n",
            "Requirement already satisfied: scipy in /usr/local/lib/python3.7/dist-packages (from pyLDAvis) (1.4.1)\n",
            "Requirement already satisfied: numpy>=1.20.0 in /usr/local/lib/python3.7/dist-packages (from pyLDAvis) (1.21.6)\n",
            "Requirement already satisfied: joblib in /usr/local/lib/python3.7/dist-packages (from pyLDAvis) (1.1.0)\n",
            "Requirement already satisfied: pandas>=1.2.0 in /usr/local/lib/python3.7/dist-packages (from pyLDAvis) (1.3.5)\n",
            "Requirement already satisfied: numexpr in /usr/local/lib/python3.7/dist-packages (from pyLDAvis) (2.8.1)\n",
            "Requirement already satisfied: setuptools in /usr/local/lib/python3.7/dist-packages (from pyLDAvis) (57.4.0)\n",
            "Requirement already satisfied: jinja2 in /usr/local/lib/python3.7/dist-packages (from pyLDAvis) (2.11.3)\n",
            "Requirement already satisfied: gensim in /usr/local/lib/python3.7/dist-packages (from pyLDAvis) (3.6.0)\n",
            "Requirement already satisfied: pytz>=2017.3 in /usr/local/lib/python3.7/dist-packages (from pandas>=1.2.0->pyLDAvis) (2022.1)\n",
            "Requirement already satisfied: python-dateutil>=2.7.3 in /usr/local/lib/python3.7/dist-packages (from pandas>=1.2.0->pyLDAvis) (2.8.2)\n",
            "Requirement already satisfied: six>=1.5 in /usr/local/lib/python3.7/dist-packages (from python-dateutil>=2.7.3->pandas>=1.2.0->pyLDAvis) (1.15.0)\n",
            "Requirement already satisfied: smart-open>=1.2.1 in /usr/local/lib/python3.7/dist-packages (from gensim->pyLDAvis) (6.0.0)\n",
            "Requirement already satisfied: MarkupSafe>=0.23 in /usr/local/lib/python3.7/dist-packages (from jinja2->pyLDAvis) (2.0.1)\n",
            "Requirement already satisfied: packaging in /usr/local/lib/python3.7/dist-packages (from numexpr->pyLDAvis) (21.3)\n",
            "Requirement already satisfied: pyparsing!=3.0.5,>=2.0.2 in /usr/local/lib/python3.7/dist-packages (from packaging->numexpr->pyLDAvis) (3.0.9)\n",
            "Requirement already satisfied: threadpoolctl>=2.0.0 in /usr/local/lib/python3.7/dist-packages (from scikit-learn->pyLDAvis) (3.1.0)\n",
            "Building wheels for collected packages: pyLDAvis\n",
            "  Building wheel for pyLDAvis (PEP 517) ... \u001b[?25l\u001b[?25hdone\n",
            "  Created wheel for pyLDAvis: filename=pyLDAvis-3.3.1-py2.py3-none-any.whl size=136898 sha256=7f42b1aa840495c23b0e2e2dd1ae84853066c214f3e828c0d5c6cdf93a8a3770\n",
            "  Stored in directory: /root/.cache/pip/wheels/c9/21/f6/17bcf2667e8a68532ba2fbf6d5c72fdf4c7f7d9abfa4852d2f\n",
            "Successfully built pyLDAvis\n",
            "Installing collected packages: funcy, pyLDAvis\n",
            "Successfully installed funcy-1.17 pyLDAvis-3.3.1\n"
          ]
        }
      ],
      "source": [
        "# pyLDAvis - LDA visualisation\n",
        "!pip install pyLDAvis"
      ]
    },
    {
      "cell_type": "code",
      "execution_count": null,
      "metadata": {
        "id": "8BMRYo_zn8lx",
        "colab": {
          "base_uri": "https://localhost:8080/",
          "height": 951
        },
        "outputId": "f602cc8f-a549-4fa3-8067-72479177b2e9"
      },
      "outputs": [
        {
          "output_type": "stream",
          "name": "stderr",
          "text": [
            "/usr/local/lib/python3.7/dist-packages/past/types/oldstr.py:5: DeprecationWarning: Using or importing the ABCs from 'collections' instead of from 'collections.abc' is deprecated since Python 3.3,and in 3.9 it will stop working\n",
            "  from collections import Iterable\n",
            "/usr/local/lib/python3.7/dist-packages/pyLDAvis/_prepare.py:247: FutureWarning: In a future version of pandas all arguments of DataFrame.drop except for the argument 'labels' will be keyword-only\n",
            "  by='saliency', ascending=False).head(R).drop('saliency', 1)\n"
          ]
        },
        {
          "output_type": "execute_result",
          "data": {
            "text/plain": [
              "PreparedData(topic_coordinates=              x    y  topics  cluster       Freq\n",
              "topic                                           \n",
              "0      0.239298  0.0       1        1  62.171112\n",
              "1     -0.239298  0.0       2        1  37.828888, topic_info=       Term         Freq        Total Category  logprob  loglift\n",
              "37        r  8182.000000  8182.000000  Default  30.0000  30.0000\n",
              "29    crore  6637.000000  6637.000000  Default  29.0000  29.0000\n",
              "6       per  5059.000000  5059.000000  Default  28.0000  28.0000\n",
              "51     rate  3969.000000  3969.000000  Default  27.0000  27.0000\n",
              "312   state  3122.000000  3122.000000  Default  26.0000  26.0000\n",
              "...     ...          ...          ...      ...      ...      ...\n",
              "10      cut   949.859593   951.776215   Topic2  -5.2684   0.9701\n",
              "269    idbi  1742.463348  1760.940074   Topic2  -4.6617   0.9615\n",
              "177    bond  1239.411781  2103.110467   Topic2  -5.0023   0.4433\n",
              "1030   plan  1057.938434  2659.112083   Topic2  -5.1607   0.0504\n",
              "4     india  1059.171770  9295.696274   Topic2  -5.1595  -1.2000\n",
              "\n",
              "[115 rows x 6 columns], token_table=      Topic      Freq     Term\n",
              "term                          \n",
              "227       1  0.999450  banking\n",
              "227       2  0.000559  banking\n",
              "707       1  0.998943    board\n",
              "707       2  0.001279    board\n",
              "177       1  0.410820     bond\n",
              "...     ...       ...      ...\n",
              "14        2  0.001163     take\n",
              "39        1  0.000466     year\n",
              "39        2  0.999697     year\n",
              "184       1  0.001821    yield\n",
              "184       2  0.998990    yield\n",
              "\n",
              "[166 rows x 3 columns], R=30, lambda_step=0.01, plot_opts={'xlab': 'PC1', 'ylab': 'PC2'}, topic_order=[1, 2])"
            ],
            "text/html": [
              "\n",
              "<link rel=\"stylesheet\" type=\"text/css\" href=\"https://cdn.jsdelivr.net/gh/bmabey/pyLDAvis@3.3.1/pyLDAvis/js/ldavis.v1.0.0.css\">\n",
              "\n",
              "\n",
              "<div id=\"ldavis_el621404292529748009170791136\"></div>\n",
              "<script type=\"text/javascript\">\n",
              "\n",
              "var ldavis_el621404292529748009170791136_data = {\"mdsDat\": {\"x\": [0.2392981343321463, -0.2392981343321463], \"y\": [0.0, 0.0], \"topics\": [1, 2], \"cluster\": [1, 1], \"Freq\": [62.17111223216413, 37.828887767835866]}, \"tinfo\": {\"Term\": [\"r\", \"crore\", \"per\", \"rate\", \"state\", \"market\", \"net\", \"loan\", \"sector\", \"credit\", \"insurance\", \"rbi\", \"year\", \"reserve\", \"interest\", \"profit\", \"sbi\", \"public\", \"idbi\", \"private\", \"icici\", \"growth\", \"first\", \"life\", \"deposit\", \"quarter\", \"report\", \"government\", \"company\", \"ended\", \"reserve\", \"rbi\", \"insurance\", \"market\", \"company\", \"life\", \"banking\", \"government\", \"report\", \"rupee\", \"investment\", \"fund\", \"new\", \"service\", \"security\", \"foreign\", \"policy\", \"set\", \"may\", \"board\", \"dollar\", \"liquidity\", \"stake\", \"global\", \"insurer\", \"cover\", \"ministry\", \"general\", \"industry\", \"group\", \"cooperative\", \"take\", \"exchange\", \"get\", \"india\", \"gilt\", \"branch\", \"lic\", \"financial\", \"debt\", \"ltd\", \"corporation\", \"plan\", \"capital\", \"likely\", \"r\", \"crore\", \"per\", \"rate\", \"net\", \"profit\", \"loan\", \"year\", \"interest\", \"state\", \"public\", \"quarter\", \"sbi\", \"ended\", \"sector\", \"growth\", \"deposit\", \"rise\", \"fiscal\", \"reported\", \"increase\", \"raise\", \"home\", \"second\", \"hdfc\", \"first\", \"housing\", \"current\", \"lending\", \"icici\", \"credit\", \"private\", \"yield\", \"last\", \"premium\", \"cut\", \"idbi\", \"bond\", \"plan\", \"india\"], \"Freq\": [8182.0, 6637.0, 5059.0, 3969.0, 3122.0, 6401.0, 2787.0, 2695.0, 2686.0, 2420.0, 4610.0, 4414.0, 2144.0, 4395.0, 2124.0, 2121.0, 1947.0, 1770.0, 1760.0, 1500.0, 1469.0, 1339.0, 1289.0, 2642.0, 1280.0, 1242.0, 2528.0, 2410.0, 2399.0, 1152.0, 4394.703661596931, 4413.913057895474, 4609.362484857945, 6400.364382633459, 2398.9645593191135, 2641.509574121588, 1788.2045019241702, 2408.9745094676314, 2527.6154187539846, 1937.401863487966, 1228.4054478522928, 1512.9043452021024, 1510.4993608444574, 958.7359939171088, 1055.113724256002, 2030.8151302989454, 1019.1963609126225, 1766.9198823829686, 1652.6650640243927, 781.0487253944509, 1470.4290816877697, 815.5209674459493, 938.165221821655, 732.7431668394274, 774.9255680541655, 735.1210591414124, 626.8819470794499, 601.2618225581485, 701.0859586963435, 569.7197556516194, 1493.412739990436, 858.6742378740631, 823.1854087652629, 713.606792097156, 8236.524504060379, 1242.6997526154064, 950.9892886996195, 1916.773238565322, 1342.6567385994547, 972.4085924446096, 1067.5859471715287, 1325.3480193308044, 1601.1736490491094, 1037.8553792783443, 962.3071360560115, 8182.27362591624, 6636.967979755844, 5058.2934987297285, 3968.522382912607, 2786.9864560728124, 2120.5751347702176, 2694.885600785636, 2143.8928633618534, 2123.756651445077, 3120.9881827487557, 1769.944969419835, 1241.4343144899865, 1946.7300096454976, 1152.1166852943722, 2685.029389882126, 1339.0319060832353, 1280.1152072731866, 1111.8545642997926, 1065.5836559021827, 714.9734523023101, 837.4266858463916, 979.5232692478789, 847.8258563637785, 760.5210584755205, 997.2589196839488, 1288.5868024757187, 911.4232207762476, 707.295218629194, 731.0152730827247, 1468.1655433458989, 2415.839732333567, 1499.0010818221417, 1096.5237681940014, 1024.9739858062476, 1066.7358567273286, 949.8595928478221, 1742.463348457266, 1239.4117813425974, 1057.938434242276, 1059.171769924334], \"Total\": [8182.0, 6637.0, 5059.0, 3969.0, 3122.0, 6401.0, 2787.0, 2695.0, 2686.0, 2420.0, 4610.0, 4414.0, 2144.0, 4395.0, 2124.0, 2121.0, 1947.0, 1770.0, 1760.0, 1500.0, 1469.0, 1339.0, 1289.0, 2642.0, 1280.0, 1242.0, 2528.0, 2410.0, 2399.0, 1152.0, 4395.446733735125, 4414.668155043153, 4610.160436466459, 6401.533507011906, 2399.7704653598885, 2642.4457185946467, 1788.9836810356571, 2410.1354670351466, 2528.8375090985924, 1938.6767490070436, 1229.221044246374, 1513.9538702045586, 1511.5866581439989, 959.4834573385746, 1055.9478595557255, 2032.5244844749338, 1020.0559470250229, 1768.5215073312563, 1654.1883622430703, 781.8260267196289, 1471.902805710672, 816.3508150944733, 939.1980396740275, 733.558363881116, 775.8293494721341, 736.0309974447282, 627.6875327495565, 602.048699369369, 702.013732951184, 570.4785720671537, 1495.8380626610121, 859.8993430232035, 824.8724074240365, 714.5623164383808, 9295.696273984713, 1276.734384302475, 965.1372934025171, 2067.691112695483, 1478.644843898724, 1050.9584026658347, 1212.2004478288993, 1813.6248431447532, 2659.1120832913853, 1354.1236019430041, 1344.938434398448, 8182.957990867304, 6637.639192228226, 5059.037943243789, 3969.309241579827, 2787.6106252977384, 2121.1985670550716, 2695.732080564166, 2144.650700397529, 2124.5681231252556, 3122.2976110226623, 1770.7830097325502, 1242.0488128922382, 1947.7170070706989, 1152.7290426707511, 2686.466841926317, 1339.8111722558729, 1280.9351344725678, 1112.6127204740635, 1066.3913406363895, 715.5809165647239, 838.138545152394, 980.3662374683829, 848.5839244166626, 761.2178778240389, 998.2231895080338, 1289.907954959076, 912.3790766959208, 708.137412979944, 731.8999916866925, 1469.9550023667584, 2420.347300694307, 1500.901251344501, 1098.109627401571, 1026.2646110845333, 1069.8083522524194, 951.7762150946975, 1760.9400741960308, 2103.110466705925, 2659.1120832913853, 9295.696273984713], \"Category\": [\"Default\", \"Default\", \"Default\", \"Default\", \"Default\", \"Default\", \"Default\", \"Default\", \"Default\", \"Default\", \"Default\", \"Default\", \"Default\", \"Default\", \"Default\", \"Default\", \"Default\", \"Default\", \"Default\", \"Default\", \"Default\", \"Default\", \"Default\", \"Default\", \"Default\", \"Default\", \"Default\", \"Default\", \"Default\", \"Default\", \"Topic1\", \"Topic1\", \"Topic1\", \"Topic1\", \"Topic1\", \"Topic1\", \"Topic1\", \"Topic1\", \"Topic1\", \"Topic1\", \"Topic1\", \"Topic1\", \"Topic1\", \"Topic1\", \"Topic1\", \"Topic1\", \"Topic1\", \"Topic1\", \"Topic1\", \"Topic1\", \"Topic1\", \"Topic1\", \"Topic1\", \"Topic1\", \"Topic1\", \"Topic1\", \"Topic1\", \"Topic1\", \"Topic1\", \"Topic1\", \"Topic1\", \"Topic1\", \"Topic1\", \"Topic1\", \"Topic1\", \"Topic1\", \"Topic1\", \"Topic1\", \"Topic1\", \"Topic1\", \"Topic1\", \"Topic1\", \"Topic1\", \"Topic1\", \"Topic1\", \"Topic2\", \"Topic2\", \"Topic2\", \"Topic2\", \"Topic2\", \"Topic2\", \"Topic2\", \"Topic2\", \"Topic2\", \"Topic2\", \"Topic2\", \"Topic2\", \"Topic2\", \"Topic2\", \"Topic2\", \"Topic2\", \"Topic2\", \"Topic2\", \"Topic2\", \"Topic2\", \"Topic2\", \"Topic2\", \"Topic2\", \"Topic2\", \"Topic2\", \"Topic2\", \"Topic2\", \"Topic2\", \"Topic2\", \"Topic2\", \"Topic2\", \"Topic2\", \"Topic2\", \"Topic2\", \"Topic2\", \"Topic2\", \"Topic2\", \"Topic2\", \"Topic2\", \"Topic2\"], \"logprob\": [30.0, 29.0, 28.0, 27.0, 26.0, 25.0, 24.0, 23.0, 22.0, 21.0, 20.0, 19.0, 18.0, 17.0, 16.0, 15.0, 14.0, 13.0, 12.0, 11.0, 10.0, 9.0, 8.0, 7.0, 6.0, 5.0, 4.0, 3.0, 2.0, 1.0, -4.2334, -4.229, -4.1857, -3.8574, -4.8388, -4.7424, -5.1326, -4.8346, -4.7865, -5.0524, -5.5081, -5.2998, -5.3014, -5.7559, -5.6601, -5.0054, -5.6948, -5.1446, -5.2114, -5.9609, -5.3282, -5.9177, -5.7776, -6.0248, -5.9688, -6.0215, -6.1808, -6.2225, -6.0689, -6.2764, -5.3127, -5.8662, -5.9084, -6.0512, -3.6052, -5.4965, -5.764, -5.0632, -5.4191, -5.7418, -5.6484, -5.4321, -5.2431, -5.6766, -5.7522, -3.115, -3.3243, -3.596, -3.8386, -4.192, -4.4653, -4.2256, -4.4544, -4.4638, -4.0788, -4.646, -5.0007, -4.5508, -5.0754, -4.2293, -4.925, -4.97, -5.111, -5.1535, -5.5525, -5.3944, -5.2377, -5.3821, -5.4907, -5.2197, -4.9634, -5.3097, -5.5633, -5.5303, -4.833, -4.3349, -4.8122, -5.1248, -5.1923, -5.1524, -5.2684, -4.6617, -5.0023, -5.1607, -5.1595], \"loglift\": [30.0, 29.0, 28.0, 27.0, 26.0, 25.0, 24.0, 23.0, 22.0, 21.0, 20.0, 19.0, 18.0, 17.0, 16.0, 15.0, 14.0, 13.0, 12.0, 11.0, 10.0, 9.0, 8.0, 7.0, 6.0, 5.0, 4.0, 3.0, 2.0, 1.0, 0.4751, 0.4751, 0.4751, 0.4751, 0.4749, 0.4749, 0.4748, 0.4748, 0.4748, 0.4746, 0.4746, 0.4746, 0.4746, 0.4745, 0.4745, 0.4744, 0.4744, 0.4744, 0.4744, 0.4743, 0.4743, 0.4743, 0.4742, 0.4742, 0.4741, 0.474, 0.474, 0.474, 0.474, 0.4739, 0.4737, 0.4739, 0.4732, 0.4739, 0.3543, 0.4483, 0.4605, 0.3995, 0.3788, 0.3976, 0.3482, 0.1616, -0.032, 0.2093, 0.1405, 0.972, 0.972, 0.9719, 0.9719, 0.9719, 0.9718, 0.9718, 0.9717, 0.9717, 0.9717, 0.9716, 0.9716, 0.9716, 0.9716, 0.9716, 0.9715, 0.9715, 0.9714, 0.9713, 0.9712, 0.9712, 0.9712, 0.9712, 0.9712, 0.9711, 0.9711, 0.971, 0.9709, 0.9709, 0.9709, 0.9702, 0.9708, 0.9707, 0.9708, 0.9692, 0.9701, 0.9615, 0.4433, 0.0504, -1.2]}, \"token.table\": {\"Topic\": [1, 2, 1, 2, 1, 2, 1, 2, 1, 2, 1, 2, 1, 2, 1, 2, 1, 2, 1, 2, 1, 2, 1, 2, 1, 2, 1, 2, 1, 2, 1, 2, 1, 2, 1, 2, 1, 2, 1, 2, 1, 2, 1, 2, 1, 2, 1, 2, 1, 2, 1, 2, 1, 2, 1, 2, 1, 2, 1, 2, 1, 2, 1, 2, 1, 2, 1, 2, 1, 2, 1, 2, 1, 2, 1, 2, 1, 2, 1, 2, 1, 2, 1, 2, 1, 2, 1, 2, 1, 2, 1, 2, 1, 2, 1, 2, 1, 2, 1, 2, 1, 2, 1, 2, 1, 2, 1, 2, 1, 2, 1, 2, 1, 2, 1, 2, 1, 2, 1, 2, 1, 2, 1, 2, 1, 2, 1, 2, 1, 2, 1, 2, 1, 2, 1, 2, 1, 2, 1, 2, 1, 2, 1, 2, 1, 2, 1, 2, 1, 2, 1, 2, 1, 2, 1, 2, 1, 2, 1, 2, 1, 2, 1, 2, 1, 2], \"Freq\": [0.999450145327716, 0.0005589765913465973, 0.998943464797284, 0.0012790569331591344, 0.41082007515909147, 0.5891273994468916, 0.9853520390320043, 0.014505708250734026, 0.7665474543908659, 0.23336126742535032, 0.9996789420609138, 0.0004167065202421483, 0.9981026939132948, 0.001337043126474608, 0.7305810818639332, 0.26907439090535806, 0.9985992472486791, 0.001358638431630856, 0.0020658192312176388, 0.9982038525243631, 0.00015065597436673934, 0.9999037018720489, 0.0014121552987743668, 0.9983937962334773, 0.0021013342929577295, 0.9981337891549216, 0.9248700971745877, 0.07516948320657657, 0.0007806796558919867, 0.999269959541743, 0.9987072477181989, 0.0006793926855225842, 0.0008675065544311314, 0.9993675507046634, 0.9977300641806122, 0.002424617409916433, 0.908264080818034, 0.0919761094499275, 0.0007752491146019223, 0.9992961087218779, 0.0009377420482458446, 0.9996330234300703, 0.9992499551731955, 0.0009839979863842398, 0.9993699476428369, 0.0006605221068359794, 0.9982581153809192, 0.0016609952003010305, 0.999213061722617, 0.0013994580696395198, 0.9735776017962379, 0.026630441239800552, 0.9992388282805996, 0.0013632180467675302, 0.9995288783345679, 0.00041491443683460685, 0.9991611042191829, 0.0017529142179283912, 0.0007463738329008524, 0.9993945622542414, 0.0010017799731669647, 0.9987746332474638, 0.0011784338251368885, 0.9993118837160815, 0.001096035656167597, 0.998488482768681, 0.0013605858660842149, 0.9986700257058136, 0.010221812918998974, 0.9892443391609007, 0.0011931201658529802, 0.9986415788189446, 0.8861089860532965, 0.11392368777837088, 0.9985559642160811, 0.0014244735580828546, 0.9997482871838299, 0.00021691219075370576, 0.9989310155993733, 0.001288943245934675, 0.0004706838952892659, 0.9997325935944008, 0.9990066520158523, 0.000813523332260466, 0.0009744075642861957, 0.9987677533933507, 0.0013663068880428054, 0.9987703351592908, 0.927121071532276, 0.07302831601532273, 0.9998313234623856, 0.0003784372912423867, 0.7152743764291893, 0.28477139934758783, 0.9995702642932589, 0.0012249635591829154, 0.00037095674574259574, 0.9997284297762955, 0.881042406734655, 0.11961718068963012, 0.9997604469288137, 0.00015621256983262716, 0.9992816040360368, 0.0012090521524936925, 0.9989046576302946, 0.001593149374210996, 0.0003587301579800774, 0.9997809502904756, 0.9989503359695255, 0.000661556513887103, 0.00019766604070156727, 0.9997948338685272, 0.6020806757488464, 0.3978771736054213, 0.9989648145985497, 0.0009803383852782627, 0.0028042405854129615, 0.9973749015452099, 0.0013325327020737765, 0.9987332602042954, 0.0004714315837900703, 0.9999063892187391, 0.0005647219306396184, 0.9995578172321247, 0.0008051213363115716, 0.9991555783626604, 0.0001222051978167385, 0.9998829285365545, 0.0010200269672508487, 0.9996264279058318, 0.0002519330037389552, 0.9999220918399132, 0.9998486511285362, 0.00022651759200918354, 0.9996688165627174, 0.00039543861414664453, 0.0013974659983956553, 0.9991881888528935, 0.9998983644297867, 0.00022750816027981496, 0.0008987853379690991, 0.9994492958216382, 0.9991351064544916, 0.0005158157493311778, 0.0005134216091812879, 0.9996318730759675, 0.001313684332872641, 0.9997137773160798, 0.00037223612232747873, 0.9994539884492804, 0.9991023614024614, 0.0009470164563056507, 0.9994961274893518, 0.0010422274530650175, 0.9991396727012088, 0.0011308881411445488, 0.9987244014324781, 0.0010647381678384627, 0.0003202769641400279, 0.9995844050810271, 0.9989541298868287, 0.0011629268101127227, 0.0004662763963449347, 0.99969659376354, 0.0018213117798926409, 0.9989895112711135], \"Term\": [\"banking\", \"banking\", \"board\", \"board\", \"bond\", \"bond\", \"branch\", \"branch\", \"capital\", \"capital\", \"company\", \"company\", \"cooperative\", \"cooperative\", \"corporation\", \"corporation\", \"cover\", \"cover\", \"credit\", \"credit\", \"crore\", \"crore\", \"current\", \"current\", \"cut\", \"cut\", \"debt\", \"debt\", \"deposit\", \"deposit\", \"dollar\", \"dollar\", \"ended\", \"ended\", \"exchange\", \"exchange\", \"financial\", \"financial\", \"first\", \"first\", \"fiscal\", \"fiscal\", \"foreign\", \"foreign\", \"fund\", \"fund\", \"general\", \"general\", \"get\", \"get\", \"gilt\", \"gilt\", \"global\", \"global\", \"government\", \"government\", \"group\", \"group\", \"growth\", \"growth\", \"hdfc\", \"hdfc\", \"home\", \"home\", \"housing\", \"housing\", \"icici\", \"icici\", \"idbi\", \"idbi\", \"increase\", \"increase\", \"india\", \"india\", \"industry\", \"industry\", \"insurance\", \"insurance\", \"insurer\", \"insurer\", \"interest\", \"interest\", \"investment\", \"investment\", \"last\", \"last\", \"lending\", \"lending\", \"lic\", \"lic\", \"life\", \"life\", \"likely\", \"likely\", \"liquidity\", \"liquidity\", \"loan\", \"loan\", \"ltd\", \"ltd\", \"market\", \"market\", \"may\", \"may\", \"ministry\", \"ministry\", \"net\", \"net\", \"new\", \"new\", \"per\", \"per\", \"plan\", \"plan\", \"policy\", \"policy\", \"premium\", \"premium\", \"private\", \"private\", \"profit\", \"profit\", \"public\", \"public\", \"quarter\", \"quarter\", \"r\", \"r\", \"raise\", \"raise\", \"rate\", \"rate\", \"rbi\", \"rbi\", \"report\", \"report\", \"reported\", \"reported\", \"reserve\", \"reserve\", \"rise\", \"rise\", \"rupee\", \"rupee\", \"sbi\", \"sbi\", \"second\", \"second\", \"sector\", \"sector\", \"security\", \"security\", \"service\", \"service\", \"set\", \"set\", \"stake\", \"stake\", \"state\", \"state\", \"take\", \"take\", \"year\", \"year\", \"yield\", \"yield\"]}, \"R\": 30, \"lambda.step\": 0.01, \"plot.opts\": {\"xlab\": \"PC1\", \"ylab\": \"PC2\"}, \"topic.order\": [1, 2]};\n",
              "\n",
              "function LDAvis_load_lib(url, callback){\n",
              "  var s = document.createElement('script');\n",
              "  s.src = url;\n",
              "  s.async = true;\n",
              "  s.onreadystatechange = s.onload = callback;\n",
              "  s.onerror = function(){console.warn(\"failed to load library \" + url);};\n",
              "  document.getElementsByTagName(\"head\")[0].appendChild(s);\n",
              "}\n",
              "\n",
              "if(typeof(LDAvis) !== \"undefined\"){\n",
              "   // already loaded: just create the visualization\n",
              "   !function(LDAvis){\n",
              "       new LDAvis(\"#\" + \"ldavis_el621404292529748009170791136\", ldavis_el621404292529748009170791136_data);\n",
              "   }(LDAvis);\n",
              "}else if(typeof define === \"function\" && define.amd){\n",
              "   // require.js is available: use it to load d3/LDAvis\n",
              "   require.config({paths: {d3: \"https://d3js.org/d3.v5\"}});\n",
              "   require([\"d3\"], function(d3){\n",
              "      window.d3 = d3;\n",
              "      LDAvis_load_lib(\"https://cdn.jsdelivr.net/gh/bmabey/pyLDAvis@3.3.1/pyLDAvis/js/ldavis.v3.0.0.js\", function(){\n",
              "        new LDAvis(\"#\" + \"ldavis_el621404292529748009170791136\", ldavis_el621404292529748009170791136_data);\n",
              "      });\n",
              "    });\n",
              "}else{\n",
              "    // require.js not available: dynamically load d3 & LDAvis\n",
              "    LDAvis_load_lib(\"https://d3js.org/d3.v5.js\", function(){\n",
              "         LDAvis_load_lib(\"https://cdn.jsdelivr.net/gh/bmabey/pyLDAvis@3.3.1/pyLDAvis/js/ldavis.v3.0.0.js\", function(){\n",
              "                 new LDAvis(\"#\" + \"ldavis_el621404292529748009170791136\", ldavis_el621404292529748009170791136_data);\n",
              "            })\n",
              "         });\n",
              "}\n",
              "</script>"
            ]
          },
          "metadata": {},
          "execution_count": 16
        }
      ],
      "source": [
        "# import pyLDAvis.gensim as gensimvis\n",
        "#pyLDAvis.enable_notebook()\n",
        "\n",
        "import pyLDAvis\n",
        "import pyLDAvis.gensim_models as gensimvis\n",
        "pyLDAvis.enable_notebook()\n",
        "# Visualize the topics\n",
        "pyLDAvis.enable_notebook()\n",
        "#vis = pyLDAvis.gensim.prepare(lda_model, corpus, id2word)\n",
        "vis = gensimvis.prepare(lda_model, corpus, id2word)\n",
        "vis"
      ]
    },
    {
      "cell_type": "markdown",
      "metadata": {
        "id": "KNvqFhxaSbNP"
      },
      "source": [
        "1)Новости про политику, влияние других государств, займы, кредиты, страхование  2) Новости по анализу того, что было проделано в финансовой сфере, какие результы и планы\n",
        "\n"
      ]
    },
    {
      "cell_type": "markdown",
      "metadata": {
        "id": "H67aNTV6TrNA"
      },
      "source": [
        "Вывод: Выполнено тематическое моделирование финансовых новостей в Индии, были получены 2 темы, которая подобрана по графиками оценок perplexity и coherence. Среди того, что нужно улучшить могу отметить, что можно больше поработать над тем, чтобы убрать стоп-слова касательно именно данного направления (и постараться убрать их после нормализации, чтобы очистить все формы данного слова)."
      ]
    }
  ],
  "metadata": {
    "colab": {
      "collapsed_sections": [
        "xTVaXSrvPSfs"
      ],
      "name": "NLP lab 5 .ipynb",
      "provenance": [],
      "authorship_tag": "ABX9TyNZ+5fVN/Hvzxm1WNXFZ0L3",
      "include_colab_link": true
    },
    "kernelspec": {
      "display_name": "Python 3",
      "name": "python3"
    },
    "language_info": {
      "name": "python"
    }
  },
  "nbformat": 4,
  "nbformat_minor": 0
}